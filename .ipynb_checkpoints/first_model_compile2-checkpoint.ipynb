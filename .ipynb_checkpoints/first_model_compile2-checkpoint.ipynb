{
 "cells": [
  {
   "cell_type": "markdown",
   "id": "3de550a69617c8cb",
   "metadata": {
    "collapsed": false,
    "jupyter": {
     "outputs_hidden": false
    }
   },
   "source": [
    "# First model\n",
    "\n",
    "This model is the simplest possible model we can think of. Inputs will be the list of points delimiting the bone and tooth area and their squares and cross-products to account for second order contributions.\n",
    "\n",
    "The outputs will be the coordinates of optimal axe.\n",
    "\n",
    "The cost function is the distance of the two points. "
   ]
  },
  {
   "cell_type": "markdown",
   "id": "938aee1480f6e9d0",
   "metadata": {
    "collapsed": false,
    "jupyter": {
     "outputs_hidden": false
    }
   },
   "source": [
    "## First step: load and prepare the datasets\n",
    "\n",
    "Loads the datasets prepared by the `dataset_gen` notebook, then prepare the input by appending all the cross-products."
   ]
  },
  {
   "cell_type": "code",
   "execution_count": 1,
   "id": "cacafe54430c25cc",
   "metadata": {
    "ExecuteTime": {
     "end_time": "2024-01-04T13:17:02.281041Z",
     "start_time": "2024-01-04T13:17:01.964345Z"
    },
    "collapsed": false,
    "jupyter": {
     "outputs_hidden": false
    }
   },
   "outputs": [],
   "source": [
    "import pandas as pd\n",
    "\n",
    "input_dataset = pd.read_pickle(\"input_rot.pkl\")\n",
    "output_dataset = pd.read_pickle(\"output_rot.pkl\")"
   ]
  },
  {
   "cell_type": "code",
   "execution_count": 2,
   "id": "3942eeda3110b9bd",
   "metadata": {
    "ExecuteTime": {
     "end_time": "2024-01-04T13:17:02.292861Z",
     "start_time": "2024-01-04T13:17:02.283008Z"
    },
    "collapsed": false,
    "jupyter": {
     "outputs_hidden": false
    }
   },
   "outputs": [
    {
     "data": {
      "text/html": [
       "<div>\n",
       "<style scoped>\n",
       "    .dataframe tbody tr th:only-of-type {\n",
       "        vertical-align: middle;\n",
       "    }\n",
       "\n",
       "    .dataframe tbody tr th {\n",
       "        vertical-align: top;\n",
       "    }\n",
       "\n",
       "    .dataframe thead th {\n",
       "        text-align: right;\n",
       "    }\n",
       "</style>\n",
       "<table border=\"1\" class=\"dataframe\">\n",
       "  <thead>\n",
       "    <tr style=\"text-align: right;\">\n",
       "      <th></th>\n",
       "      <th>0</th>\n",
       "      <th>1</th>\n",
       "      <th>2</th>\n",
       "      <th>3</th>\n",
       "      <th>4</th>\n",
       "      <th>5</th>\n",
       "      <th>6</th>\n",
       "      <th>7</th>\n",
       "      <th>8</th>\n",
       "      <th>9</th>\n",
       "      <th>10</th>\n",
       "      <th>11</th>\n",
       "      <th>12</th>\n",
       "      <th>13</th>\n",
       "      <th>14</th>\n",
       "      <th>15</th>\n",
       "    </tr>\n",
       "  </thead>\n",
       "  <tbody>\n",
       "    <tr>\n",
       "      <th>0</th>\n",
       "      <td>0.516425</td>\n",
       "      <td>1.904407</td>\n",
       "      <td>2.830124</td>\n",
       "      <td>-1.441737</td>\n",
       "      <td>1.326225</td>\n",
       "      <td>-2.493799</td>\n",
       "      <td>-1.174322</td>\n",
       "      <td>0.549347</td>\n",
       "      <td>-0.698353</td>\n",
       "      <td>3.384424</td>\n",
       "      <td>0.434217</td>\n",
       "      <td>1.870214</td>\n",
       "      <td>-1.092114</td>\n",
       "      <td>0.583540</td>\n",
       "      <td>-2.366667</td>\n",
       "      <td>2.263976</td>\n",
       "    </tr>\n",
       "    <tr>\n",
       "      <th>1</th>\n",
       "      <td>0.190749</td>\n",
       "      <td>2.636898</td>\n",
       "      <td>1.990407</td>\n",
       "      <td>-1.145306</td>\n",
       "      <td>-0.084083</td>\n",
       "      <td>-1.826785</td>\n",
       "      <td>-1.415641</td>\n",
       "      <td>1.752770</td>\n",
       "      <td>-0.374559</td>\n",
       "      <td>4.436448</td>\n",
       "      <td>0.207304</td>\n",
       "      <td>2.576463</td>\n",
       "      <td>-1.432195</td>\n",
       "      <td>1.813204</td>\n",
       "      <td>-2.415939</td>\n",
       "      <td>3.634099</td>\n",
       "    </tr>\n",
       "    <tr>\n",
       "      <th>2</th>\n",
       "      <td>0.763316</td>\n",
       "      <td>2.400042</td>\n",
       "      <td>0.899236</td>\n",
       "      <td>-1.236279</td>\n",
       "      <td>-1.067384</td>\n",
       "      <td>-1.680220</td>\n",
       "      <td>-1.266553</td>\n",
       "      <td>2.676438</td>\n",
       "      <td>0.577066</td>\n",
       "      <td>4.476345</td>\n",
       "      <td>0.834169</td>\n",
       "      <td>2.682152</td>\n",
       "      <td>-1.337407</td>\n",
       "      <td>2.394327</td>\n",
       "      <td>-1.247849</td>\n",
       "      <td>4.596625</td>\n",
       "    </tr>\n",
       "    <tr>\n",
       "      <th>3</th>\n",
       "      <td>2.721627</td>\n",
       "      <td>0.011318</td>\n",
       "      <td>-0.064539</td>\n",
       "      <td>-3.122918</td>\n",
       "      <td>-1.379603</td>\n",
       "      <td>-1.771914</td>\n",
       "      <td>0.969613</td>\n",
       "      <td>1.228005</td>\n",
       "      <td>3.831253</td>\n",
       "      <td>1.451021</td>\n",
       "      <td>2.677371</td>\n",
       "      <td>0.037996</td>\n",
       "      <td>1.013869</td>\n",
       "      <td>1.201328</td>\n",
       "      <td>2.427678</td>\n",
       "      <td>2.855380</td>\n",
       "    </tr>\n",
       "    <tr>\n",
       "      <th>4</th>\n",
       "      <td>1.358551</td>\n",
       "      <td>2.593314</td>\n",
       "      <td>1.815764</td>\n",
       "      <td>-1.247205</td>\n",
       "      <td>0.037793</td>\n",
       "      <td>-1.679343</td>\n",
       "      <td>-0.809907</td>\n",
       "      <td>2.372996</td>\n",
       "      <td>0.934270</td>\n",
       "      <td>4.690807</td>\n",
       "      <td>1.261360</td>\n",
       "      <td>2.574946</td>\n",
       "      <td>-0.712716</td>\n",
       "      <td>2.391365</td>\n",
       "      <td>-1.038083</td>\n",
       "      <td>4.221932</td>\n",
       "    </tr>\n",
       "    <tr>\n",
       "      <th>...</th>\n",
       "      <td>...</td>\n",
       "      <td>...</td>\n",
       "      <td>...</td>\n",
       "      <td>...</td>\n",
       "      <td>...</td>\n",
       "      <td>...</td>\n",
       "      <td>...</td>\n",
       "      <td>...</td>\n",
       "      <td>...</td>\n",
       "      <td>...</td>\n",
       "      <td>...</td>\n",
       "      <td>...</td>\n",
       "      <td>...</td>\n",
       "      <td>...</td>\n",
       "      <td>...</td>\n",
       "      <td>...</td>\n",
       "    </tr>\n",
       "    <tr>\n",
       "      <th>995</th>\n",
       "      <td>-1.561810</td>\n",
       "      <td>2.416841</td>\n",
       "      <td>1.728431</td>\n",
       "      <td>-0.158547</td>\n",
       "      <td>0.361340</td>\n",
       "      <td>-1.620670</td>\n",
       "      <td>-2.655468</td>\n",
       "      <td>0.725439</td>\n",
       "      <td>-2.947575</td>\n",
       "      <td>3.593161</td>\n",
       "      <td>-1.616090</td>\n",
       "      <td>2.356256</td>\n",
       "      <td>-2.601187</td>\n",
       "      <td>0.786025</td>\n",
       "      <td>-4.423227</td>\n",
       "      <td>2.009868</td>\n",
       "    </tr>\n",
       "    <tr>\n",
       "      <th>996</th>\n",
       "      <td>2.516807</td>\n",
       "      <td>1.616279</td>\n",
       "      <td>0.044194</td>\n",
       "      <td>-1.592231</td>\n",
       "      <td>-1.548466</td>\n",
       "      <td>-0.247470</td>\n",
       "      <td>0.992358</td>\n",
       "      <td>2.778237</td>\n",
       "      <td>3.876662</td>\n",
       "      <td>3.173724</td>\n",
       "      <td>2.444416</td>\n",
       "      <td>1.525986</td>\n",
       "      <td>1.064749</td>\n",
       "      <td>2.868529</td>\n",
       "      <td>2.139221</td>\n",
       "      <td>4.337900</td>\n",
       "    </tr>\n",
       "    <tr>\n",
       "      <th>997</th>\n",
       "      <td>-0.266827</td>\n",
       "      <td>2.010331</td>\n",
       "      <td>0.778407</td>\n",
       "      <td>-1.728121</td>\n",
       "      <td>-0.968680</td>\n",
       "      <td>-2.406388</td>\n",
       "      <td>-2.333855</td>\n",
       "      <td>1.483393</td>\n",
       "      <td>-0.849080</td>\n",
       "      <td>3.906419</td>\n",
       "      <td>-0.447146</td>\n",
       "      <td>2.096965</td>\n",
       "      <td>-2.153536</td>\n",
       "      <td>1.396759</td>\n",
       "      <td>-2.956806</td>\n",
       "      <td>3.401421</td>\n",
       "    </tr>\n",
       "    <tr>\n",
       "      <th>998</th>\n",
       "      <td>-0.218928</td>\n",
       "      <td>3.232466</td>\n",
       "      <td>1.253863</td>\n",
       "      <td>-0.662542</td>\n",
       "      <td>-0.875507</td>\n",
       "      <td>-1.191209</td>\n",
       "      <td>-1.891129</td>\n",
       "      <td>2.516926</td>\n",
       "      <td>-0.694903</td>\n",
       "      <td>5.077147</td>\n",
       "      <td>-0.136472</td>\n",
       "      <td>3.195135</td>\n",
       "      <td>-1.973586</td>\n",
       "      <td>2.554258</td>\n",
       "      <td>-2.659362</td>\n",
       "      <td>4.473817</td>\n",
       "    </tr>\n",
       "    <tr>\n",
       "      <th>999</th>\n",
       "      <td>0.212402</td>\n",
       "      <td>2.626018</td>\n",
       "      <td>2.905755</td>\n",
       "      <td>-0.774124</td>\n",
       "      <td>1.318446</td>\n",
       "      <td>-1.707187</td>\n",
       "      <td>-1.224435</td>\n",
       "      <td>0.940964</td>\n",
       "      <td>-1.124529</td>\n",
       "      <td>4.022585</td>\n",
       "      <td>0.315511</td>\n",
       "      <td>2.365529</td>\n",
       "      <td>-1.327544</td>\n",
       "      <td>1.201453</td>\n",
       "      <td>-2.505620</td>\n",
       "      <td>2.568544</td>\n",
       "    </tr>\n",
       "  </tbody>\n",
       "</table>\n",
       "<p>1000 rows × 16 columns</p>\n",
       "</div>"
      ],
      "text/plain": [
       "           0         1         2         3         4         5         6   \\\n",
       "0    0.516425  1.904407  2.830124 -1.441737  1.326225 -2.493799 -1.174322   \n",
       "1    0.190749  2.636898  1.990407 -1.145306 -0.084083 -1.826785 -1.415641   \n",
       "2    0.763316  2.400042  0.899236 -1.236279 -1.067384 -1.680220 -1.266553   \n",
       "3    2.721627  0.011318 -0.064539 -3.122918 -1.379603 -1.771914  0.969613   \n",
       "4    1.358551  2.593314  1.815764 -1.247205  0.037793 -1.679343 -0.809907   \n",
       "..        ...       ...       ...       ...       ...       ...       ...   \n",
       "995 -1.561810  2.416841  1.728431 -0.158547  0.361340 -1.620670 -2.655468   \n",
       "996  2.516807  1.616279  0.044194 -1.592231 -1.548466 -0.247470  0.992358   \n",
       "997 -0.266827  2.010331  0.778407 -1.728121 -0.968680 -2.406388 -2.333855   \n",
       "998 -0.218928  3.232466  1.253863 -0.662542 -0.875507 -1.191209 -1.891129   \n",
       "999  0.212402  2.626018  2.905755 -0.774124  1.318446 -1.707187 -1.224435   \n",
       "\n",
       "           7         8         9         10        11        12        13  \\\n",
       "0    0.549347 -0.698353  3.384424  0.434217  1.870214 -1.092114  0.583540   \n",
       "1    1.752770 -0.374559  4.436448  0.207304  2.576463 -1.432195  1.813204   \n",
       "2    2.676438  0.577066  4.476345  0.834169  2.682152 -1.337407  2.394327   \n",
       "3    1.228005  3.831253  1.451021  2.677371  0.037996  1.013869  1.201328   \n",
       "4    2.372996  0.934270  4.690807  1.261360  2.574946 -0.712716  2.391365   \n",
       "..        ...       ...       ...       ...       ...       ...       ...   \n",
       "995  0.725439 -2.947575  3.593161 -1.616090  2.356256 -2.601187  0.786025   \n",
       "996  2.778237  3.876662  3.173724  2.444416  1.525986  1.064749  2.868529   \n",
       "997  1.483393 -0.849080  3.906419 -0.447146  2.096965 -2.153536  1.396759   \n",
       "998  2.516926 -0.694903  5.077147 -0.136472  3.195135 -1.973586  2.554258   \n",
       "999  0.940964 -1.124529  4.022585  0.315511  2.365529 -1.327544  1.201453   \n",
       "\n",
       "           14        15  \n",
       "0   -2.366667  2.263976  \n",
       "1   -2.415939  3.634099  \n",
       "2   -1.247849  4.596625  \n",
       "3    2.427678  2.855380  \n",
       "4   -1.038083  4.221932  \n",
       "..        ...       ...  \n",
       "995 -4.423227  2.009868  \n",
       "996  2.139221  4.337900  \n",
       "997 -2.956806  3.401421  \n",
       "998 -2.659362  4.473817  \n",
       "999 -2.505620  2.568544  \n",
       "\n",
       "[1000 rows x 16 columns]"
      ]
     },
     "execution_count": 2,
     "metadata": {},
     "output_type": "execute_result"
    }
   ],
   "source": [
    "input_dataset"
   ]
  },
  {
   "cell_type": "code",
   "execution_count": 3,
   "id": "6ccf8c558c383b94",
   "metadata": {
    "ExecuteTime": {
     "end_time": "2024-01-04T13:17:02.298605Z",
     "start_time": "2024-01-04T13:17:02.295753Z"
    },
    "collapsed": false,
    "jupyter": {
     "outputs_hidden": false
    }
   },
   "outputs": [
    {
     "data": {
      "text/html": [
       "<div>\n",
       "<style scoped>\n",
       "    .dataframe tbody tr th:only-of-type {\n",
       "        vertical-align: middle;\n",
       "    }\n",
       "\n",
       "    .dataframe tbody tr th {\n",
       "        vertical-align: top;\n",
       "    }\n",
       "\n",
       "    .dataframe thead th {\n",
       "        text-align: right;\n",
       "    }\n",
       "</style>\n",
       "<table border=\"1\" class=\"dataframe\">\n",
       "  <thead>\n",
       "    <tr style=\"text-align: right;\">\n",
       "      <th></th>\n",
       "      <th>0</th>\n",
       "      <th>1</th>\n",
       "      <th>2</th>\n",
       "      <th>3</th>\n",
       "    </tr>\n",
       "  </thead>\n",
       "  <tbody>\n",
       "    <tr>\n",
       "      <th>0</th>\n",
       "      <td>1.275800</td>\n",
       "      <td>-0.902886</td>\n",
       "      <td>-0.930729</td>\n",
       "      <td>2.025539</td>\n",
       "    </tr>\n",
       "    <tr>\n",
       "      <th>1</th>\n",
       "      <td>0.431293</td>\n",
       "      <td>-0.259086</td>\n",
       "      <td>-1.003847</td>\n",
       "      <td>3.115054</td>\n",
       "    </tr>\n",
       "    <tr>\n",
       "      <th>2</th>\n",
       "      <td>-0.139922</td>\n",
       "      <td>-0.126086</td>\n",
       "      <td>-0.293505</td>\n",
       "      <td>3.537362</td>\n",
       "    </tr>\n",
       "    <tr>\n",
       "      <th>3</th>\n",
       "      <td>0.133826</td>\n",
       "      <td>-1.425057</td>\n",
       "      <td>2.487543</td>\n",
       "      <td>1.386431</td>\n",
       "    </tr>\n",
       "    <tr>\n",
       "      <th>4</th>\n",
       "      <td>0.709293</td>\n",
       "      <td>-0.147797</td>\n",
       "      <td>0.111208</td>\n",
       "      <td>3.469762</td>\n",
       "    </tr>\n",
       "    <tr>\n",
       "      <th>...</th>\n",
       "      <td>...</td>\n",
       "      <td>...</td>\n",
       "      <td>...</td>\n",
       "      <td>...</td>\n",
       "    </tr>\n",
       "    <tr>\n",
       "      <th>995</th>\n",
       "      <td>-0.006289</td>\n",
       "      <td>-0.069359</td>\n",
       "      <td>-2.897020</td>\n",
       "      <td>2.186327</td>\n",
       "    </tr>\n",
       "    <tr>\n",
       "      <th>996</th>\n",
       "      <td>0.083437</td>\n",
       "      <td>0.119185</td>\n",
       "      <td>2.381262</td>\n",
       "      <td>2.976535</td>\n",
       "    </tr>\n",
       "    <tr>\n",
       "      <th>997</th>\n",
       "      <td>-0.496871</td>\n",
       "      <td>-0.795882</td>\n",
       "      <td>-1.601642</td>\n",
       "      <td>2.700391</td>\n",
       "    </tr>\n",
       "    <tr>\n",
       "      <th>998</th>\n",
       "      <td>-0.225558</td>\n",
       "      <td>0.340315</td>\n",
       "      <td>-1.366081</td>\n",
       "      <td>3.825089</td>\n",
       "    </tr>\n",
       "    <tr>\n",
       "      <th>999</th>\n",
       "      <td>1.239395</td>\n",
       "      <td>-0.232607</td>\n",
       "      <td>-1.160545</td>\n",
       "      <td>2.539528</td>\n",
       "    </tr>\n",
       "  </tbody>\n",
       "</table>\n",
       "<p>1000 rows × 4 columns</p>\n",
       "</div>"
      ],
      "text/plain": [
       "            0         1         2         3\n",
       "0    1.275800 -0.902886 -0.930729  2.025539\n",
       "1    0.431293 -0.259086 -1.003847  3.115054\n",
       "2   -0.139922 -0.126086 -0.293505  3.537362\n",
       "3    0.133826 -1.425057  2.487543  1.386431\n",
       "4    0.709293 -0.147797  0.111208  3.469762\n",
       "..        ...       ...       ...       ...\n",
       "995 -0.006289 -0.069359 -2.897020  2.186327\n",
       "996  0.083437  0.119185  2.381262  2.976535\n",
       "997 -0.496871 -0.795882 -1.601642  2.700391\n",
       "998 -0.225558  0.340315 -1.366081  3.825089\n",
       "999  1.239395 -0.232607 -1.160545  2.539528\n",
       "\n",
       "[1000 rows x 4 columns]"
      ]
     },
     "execution_count": 3,
     "metadata": {},
     "output_type": "execute_result"
    }
   ],
   "source": [
    "output_dataset"
   ]
  },
  {
   "cell_type": "code",
   "execution_count": 4,
   "id": "24a664ad7b3e6a73",
   "metadata": {
    "ExecuteTime": {
     "end_time": "2024-01-04T13:17:04.126550Z",
     "start_time": "2024-01-04T13:17:02.300115Z"
    },
    "collapsed": false,
    "jupyter": {
     "outputs_hidden": false
    }
   },
   "outputs": [],
   "source": [
    "import numpy as np\n",
    "from typing import Iterator\n",
    "from itertools import permutations\n",
    "\n",
    "\n",
    "def shuffle_points(s: np.ndarray) -> Iterator[np.ndarray]:\n",
    "    for p1 in permutations(range(4)):\n",
    "        for p2 in permutations(range(4, 8)):\n",
    "            yield np.array(\n",
    "                [[s[i * 2], s[i * 2 + 1]] for i in p1] + [[s[i * 2], s[i * 2 + 1]] for i in\n",
    "                                                          p2]).reshape(-1)\n",
    "\n",
    "\n",
    "from utils import add_cross_prods_and_squares\n",
    "\n",
    "\n",
    "def prepare_input(orig: pd.DataFrame) -> Iterator[np.ndarray]:\n",
    "    for row in orig.to_numpy():\n",
    "        yield from shuffle_points(row)\n",
    "        "
   ]
  },
  {
   "cell_type": "code",
   "execution_count": 5,
   "id": "da1142f683bdc59b",
   "metadata": {
    "ExecuteTime": {
     "end_time": "2024-01-04T13:17:05.904147Z",
     "start_time": "2024-01-04T13:17:04.179806Z"
    },
    "collapsed": false,
    "jupyter": {
     "outputs_hidden": false
    }
   },
   "outputs": [],
   "source": [
    "prepared_input = np.array([r for r in prepare_input(input_dataset)])"
   ]
  },
  {
   "cell_type": "code",
   "execution_count": 6,
   "id": "89c8133e814e381c",
   "metadata": {
    "ExecuteTime": {
     "end_time": "2024-01-04T13:17:05.910006Z",
     "start_time": "2024-01-04T13:17:05.905153Z"
    },
    "collapsed": false,
    "jupyter": {
     "outputs_hidden": false
    }
   },
   "outputs": [
    {
     "data": {
      "text/plain": [
       "array([[ 0.51642464,  1.90440743,  2.83012391, ...,  0.58354019,\n",
       "        -2.36666665,  2.26397571],\n",
       "       [ 0.51642464,  1.90440743,  2.83012391, ...,  2.26397571,\n",
       "        -1.09211448,  0.58354019],\n",
       "       [ 0.51642464,  1.90440743,  2.83012391, ...,  1.87021435,\n",
       "        -2.36666665,  2.26397571],\n",
       "       ...,\n",
       "       [-1.22443494,  0.94096412,  1.3184459 , ...,  1.20145349,\n",
       "        -1.12452884,  4.02258534],\n",
       "       [-1.22443494,  0.94096412,  1.3184459 , ...,  4.02258534,\n",
       "         0.31551138,  2.36552864],\n",
       "       [-1.22443494,  0.94096412,  1.3184459 , ...,  2.36552864,\n",
       "        -1.12452884,  4.02258534]])"
      ]
     },
     "execution_count": 6,
     "metadata": {},
     "output_type": "execute_result"
    }
   ],
   "source": [
    "prepared_input"
   ]
  },
  {
   "cell_type": "code",
   "execution_count": 7,
   "id": "161c70ae2d26f93",
   "metadata": {
    "ExecuteTime": {
     "end_time": "2024-01-04T13:17:05.910496Z",
     "start_time": "2024-01-04T13:17:05.908204Z"
    },
    "collapsed": false,
    "jupyter": {
     "outputs_hidden": false
    }
   },
   "outputs": [
    {
     "data": {
      "text/plain": [
       "16"
      ]
     },
     "execution_count": 7,
     "metadata": {},
     "output_type": "execute_result"
    }
   ],
   "source": [
    "input_dim = prepared_input.shape[1]\n",
    "input_dim"
   ]
  },
  {
   "cell_type": "code",
   "execution_count": 8,
   "id": "2a1f4c43038deaf2",
   "metadata": {
    "ExecuteTime": {
     "end_time": "2024-01-04T13:17:05.917708Z",
     "start_time": "2024-01-04T13:17:05.911458Z"
    },
    "collapsed": false,
    "jupyter": {
     "outputs_hidden": false
    }
   },
   "outputs": [
    {
     "data": {
      "text/plain": [
       "(1000, 4)"
      ]
     },
     "metadata": {},
     "output_type": "display_data"
    },
    {
     "data": {
      "text/plain": [
       "(576000, 4)"
      ]
     },
     "metadata": {},
     "output_type": "display_data"
    },
    {
     "data": {
      "text/plain": [
       "4"
      ]
     },
     "metadata": {},
     "output_type": "display_data"
    }
   ],
   "source": [
    "prepared_output = output_dataset.to_numpy()\n",
    "display(prepared_output.shape)\n",
    "prepared_output = np.repeat(prepared_output,\n",
    "                            repeats=prepared_input.shape[0] / prepared_output.shape[0], axis=0)\n",
    "output_dim = prepared_output.shape[1]\n",
    "display(prepared_output.shape)\n",
    "display(output_dim)"
   ]
  },
  {
   "cell_type": "markdown",
   "id": "7a9910db0546cafb",
   "metadata": {
    "collapsed": false,
    "jupyter": {
     "outputs_hidden": false
    }
   },
   "source": [
    "## Now prepare the network\n",
    "\n",
    "Only one layer with linear output."
   ]
  },
  {
   "cell_type": "code",
   "execution_count": 9,
   "id": "a3d598692958d159",
   "metadata": {
    "ExecuteTime": {
     "end_time": "2024-01-04T13:17:06.193331Z",
     "start_time": "2024-01-04T13:17:05.918133Z"
    },
    "collapsed": false,
    "jupyter": {
     "outputs_hidden": false
    }
   },
   "outputs": [
    {
     "name": "stderr",
     "output_type": "stream",
     "text": [
      "2024-01-04 14:17:05.920307: I metal_plugin/src/device/metal_device.cc:1154] Metal device set to: Apple M1 Max\n",
      "2024-01-04 14:17:05.920332: I metal_plugin/src/device/metal_device.cc:296] systemMemory: 64.00 GB\n",
      "2024-01-04 14:17:05.920339: I metal_plugin/src/device/metal_device.cc:313] maxCacheSize: 24.00 GB\n",
      "2024-01-04 14:17:05.920371: I tensorflow/core/common_runtime/pluggable_device/pluggable_device_factory.cc:306] Could not identify NUMA node of platform GPU ID 0, defaulting to 0. Your kernel may not have been built with NUMA support.\n",
      "2024-01-04 14:17:05.920386: I tensorflow/core/common_runtime/pluggable_device/pluggable_device_factory.cc:272] Created TensorFlow device (/job:localhost/replica:0/task:0/device:GPU:0 with 0 MB memory) -> physical PluggableDevice (device: 0, name: METAL, pci bus id: <undefined>)\n"
     ]
    },
    {
     "data": {
      "text/plain": [
       "(None, 4)"
      ]
     },
     "execution_count": 9,
     "metadata": {},
     "output_type": "execute_result"
    }
   ],
   "source": [
    "import tensorflow as tf\n",
    "from utils import CrossProductLayer\n",
    "\n",
    "model = tf.keras.Sequential()\n",
    "model.add(tf.keras.layers.Input(input_dim))\n",
    "model.add(CrossProductLayer())\n",
    "model.add(tf.keras.layers.Dense(units=output_dim))\n",
    "model.add(tf.keras.layers.Activation(activation=\"linear\"))\n",
    "model.output_shape"
   ]
  },
  {
   "cell_type": "code",
   "execution_count": 10,
   "id": "bbdf6e6cf77ba8ea",
   "metadata": {
    "ExecuteTime": {
     "end_time": "2024-01-04T13:17:06.201725Z",
     "start_time": "2024-01-04T13:17:06.196039Z"
    },
    "collapsed": false,
    "jupyter": {
     "outputs_hidden": false
    }
   },
   "outputs": [
    {
     "name": "stdout",
     "output_type": "stream",
     "text": [
      "Model: \"sequential\"\n",
      "_________________________________________________________________\n",
      " Layer (type)                Output Shape              Param #   \n",
      "=================================================================\n",
      " cross_product_layer (Cross  (None, 152)               152       \n",
      " ProductLayer)                                                   \n",
      "                                                                 \n",
      " dense (Dense)               (None, 4)                 612       \n",
      "                                                                 \n",
      " activation (Activation)     (None, 4)                 0         \n",
      "                                                                 \n",
      "=================================================================\n",
      "Total params: 764 (2.98 KB)\n",
      "Trainable params: 764 (2.98 KB)\n",
      "Non-trainable params: 0 (0.00 Byte)\n",
      "_________________________________________________________________\n"
     ]
    }
   ],
   "source": [
    "model.summary()"
   ]
  },
  {
   "cell_type": "markdown",
   "id": "ba5ec469dde460f1",
   "metadata": {
    "collapsed": false,
    "jupyter": {
     "outputs_hidden": false
    }
   },
   "source": [
    "#### Test the model before training"
   ]
  },
  {
   "cell_type": "code",
   "execution_count": 11,
   "id": "28ddd0cd2f57bed4",
   "metadata": {
    "ExecuteTime": {
     "end_time": "2024-01-04T13:17:06.547420Z",
     "start_time": "2024-01-04T13:17:06.202855Z"
    },
    "collapsed": false,
    "jupyter": {
     "outputs_hidden": false
    }
   },
   "outputs": [
    {
     "data": {
      "image/png": "[encoded data removed]",
      "text/plain": [
       "<Figure size 640x480 with 1 Axes>"
      ]
     },
     "metadata": {},
     "output_type": "display_data"
    },
    {
     "data": {
      "image/png": "[encoded data removed]",
      "text/plain": [
       "<Figure size 640x480 with 1 Axes>"
      ]
     },
     "metadata": {},
     "output_type": "display_data"
    }
   ],
   "source": [
    "s1 = np.array([1, 1, -1, 1, -1, -1, 1, -1, 1, 1, 1, 2, -1, 2, -1, 1])\n",
    "import matplotlib.pyplot as plt\n",
    "from utils import draw_row\n",
    "\n",
    "fig = plt.figure()\n",
    "ax = fig.add_axes((0, 0, 1, 1))\n",
    "\n",
    "\n",
    "def apply_model(r: np.ndarray) -> np.ndarray:\n",
    "    return model(r.reshape(1, -1)).numpy()\n",
    "\n",
    "\n",
    "draw_row(None, ax, s1, apply=apply_model)\n",
    "plt.show()\n",
    "\n",
    "s1 = np.array([1, 1, -1, 1, -1, -1, 1, -1, 1, 2, 1, 3, -1, 3, -1, 2])\n",
    "fig = plt.figure()\n",
    "ax = fig.add_axes((0, 0, 1, 1))\n",
    "draw_row(model, ax, s1, apply=apply_model)\n",
    "plt.show()\n"
   ]
  },
  {
   "cell_type": "markdown",
   "id": "89aa9eb20341a24b",
   "metadata": {
    "collapsed": false,
    "jupyter": {
     "outputs_hidden": false
    }
   },
   "source": [
    "### Do the training\n",
    "\n"
   ]
  },
  {
   "cell_type": "code",
   "execution_count": 12,
   "id": "c1a06e881136ca46",
   "metadata": {
    "ExecuteTime": {
     "end_time": "2024-01-04T13:20:27.869358Z",
     "start_time": "2024-01-04T13:17:06.546057Z"
    },
    "collapsed": false,
    "jupyter": {
     "outputs_hidden": false
    }
   },
   "outputs": [
    {
     "data": {
      "text/plain": [
       "(518400, 16)"
      ]
     },
     "metadata": {},
     "output_type": "display_data"
    },
    {
     "data": {
      "text/plain": [
       "(518400, 4)"
      ]
     },
     "metadata": {},
     "output_type": "display_data"
    },
    {
     "name": "stdout",
     "output_type": "stream",
     "text": [
      "Epoch 1/20\n"
     ]
    },
    {
     "name": "stderr",
     "output_type": "stream",
     "text": [
      "2024-01-04 14:17:07.319012: I tensorflow/core/grappler/optimizers/custom_graph_optimizer_registry.cc:117] Plugin optimizer for device_type GPU is enabled.\n"
     ]
    },
    {
     "name": "stdout",
     "output_type": "stream",
     "text": [
      "507/507 [==============================] - 12s 22ms/step - loss: 0.0454 - train_mean_loss: 0.0454 - val_loss: 8.4613e-04 - val_train_mean_loss: 8.4613e-04\n",
      "Epoch 2/20\n",
      "507/507 [==============================] - 10s 19ms/step - loss: 3.5865e-04 - train_mean_loss: 3.5865e-04 - val_loss: 1.2776e-04 - val_train_mean_loss: 1.2776e-04\n",
      "Epoch 3/20\n",
      "507/507 [==============================] - 10s 19ms/step - loss: 7.6107e-05 - train_mean_loss: 7.6107e-05 - val_loss: 4.9701e-05 - val_train_mean_loss: 4.9701e-05\n",
      "Epoch 4/20\n",
      "507/507 [==============================] - 10s 20ms/step - loss: 3.7349e-05 - train_mean_loss: 3.7349e-05 - val_loss: 2.8332e-05 - val_train_mean_loss: 2.8332e-05\n",
      "Epoch 5/20\n",
      "507/507 [==============================] - 11s 21ms/step - loss: 2.4389e-05 - train_mean_loss: 2.4389e-05 - val_loss: 1.9597e-05 - val_train_mean_loss: 1.9597e-05\n",
      "Epoch 6/20\n",
      "507/507 [==============================] - 11s 22ms/step - loss: 1.8173e-05 - train_mean_loss: 1.8173e-05 - val_loss: 1.8293e-05 - val_train_mean_loss: 1.8293e-05\n",
      "Epoch 7/20\n",
      "507/507 [==============================] - 10s 20ms/step - loss: 1.5825e-05 - train_mean_loss: 1.5825e-05 - val_loss: 1.5088e-05 - val_train_mean_loss: 1.5088e-05\n",
      "Epoch 8/20\n",
      "507/507 [==============================] - 10s 19ms/step - loss: 1.5505e-05 - train_mean_loss: 1.5505e-05 - val_loss: 1.3294e-05 - val_train_mean_loss: 1.3294e-05\n",
      "Epoch 9/20\n",
      "507/507 [==============================] - 10s 19ms/step - loss: 1.3986e-05 - train_mean_loss: 1.3986e-05 - val_loss: 1.8358e-04 - val_train_mean_loss: 1.8358e-04\n",
      "Epoch 10/20\n",
      "507/507 [==============================] - 10s 19ms/step - loss: 1.7371e-05 - train_mean_loss: 1.7371e-05 - val_loss: 2.7142e-06 - val_train_mean_loss: 2.7142e-06\n",
      "Epoch 11/20\n",
      "507/507 [==============================] - 10s 19ms/step - loss: 2.2888e-05 - train_mean_loss: 2.2888e-05 - val_loss: 1.0857e-06 - val_train_mean_loss: 1.0857e-06\n",
      "Epoch 12/20\n",
      "507/507 [==============================] - 10s 20ms/step - loss: 8.7874e-06 - train_mean_loss: 8.7874e-06 - val_loss: 1.0601e-05 - val_train_mean_loss: 1.0601e-05\n",
      "Epoch 13/20\n",
      "507/507 [==============================] - 10s 19ms/step - loss: 1.2664e-05 - train_mean_loss: 1.2664e-05 - val_loss: 8.0538e-07 - val_train_mean_loss: 8.0538e-07\n",
      "Epoch 14/20\n",
      "507/507 [==============================] - 10s 19ms/step - loss: 1.2344e-05 - train_mean_loss: 1.2344e-05 - val_loss: 3.4106e-05 - val_train_mean_loss: 3.4106e-05\n",
      "Epoch 15/20\n",
      "507/507 [==============================] - 10s 19ms/step - loss: 1.1566e-05 - train_mean_loss: 1.1566e-05 - val_loss: 6.8002e-06 - val_train_mean_loss: 6.8002e-06\n",
      "Epoch 16/20\n",
      "507/507 [==============================] - 10s 19ms/step - loss: 9.0089e-06 - train_mean_loss: 9.0089e-06 - val_loss: 8.9895e-05 - val_train_mean_loss: 8.9895e-05\n",
      "Epoch 17/20\n",
      "507/507 [==============================] - 10s 19ms/step - loss: 9.4775e-06 - train_mean_loss: 9.4775e-06 - val_loss: 1.8484e-06 - val_train_mean_loss: 1.8484e-06\n",
      "Epoch 18/20\n",
      "507/507 [==============================] - 10s 20ms/step - loss: 1.1409e-05 - train_mean_loss: 1.1409e-05 - val_loss: 1.3374e-05 - val_train_mean_loss: 1.3374e-05\n",
      "Epoch 19/20\n",
      "507/507 [==============================] - 10s 19ms/step - loss: 6.1169e-06 - train_mean_loss: 6.1169e-06 - val_loss: 9.7529e-08 - val_train_mean_loss: 9.7529e-08\n",
      "Epoch 20/20\n",
      "507/507 [==============================] - 10s 19ms/step - loss: 8.0142e-06 - train_mean_loss: 8.0142e-06 - val_loss: 8.8725e-06 - val_train_mean_loss: 8.8725e-06\n"
     ]
    }
   ],
   "source": [
    "\n",
    "import math\n",
    "\n",
    "from tensorflow.keras.metrics import MeanSquaredError\n",
    "\n",
    "model.compile(\n",
    "    optimizer=tf.keras.optimizers.legacy.Adam(learning_rate=tf.keras.optimizers.schedules.InverseTimeDecay(initial_learning_rate=0.01, decay_steps=400, decay_rate=0.001)),\n",
    "    loss=tf.keras.losses.MeanSquaredError(name=\"train_loss\"),\n",
    "    weighted_metrics=[\n",
    "        MeanSquaredError(name='train_mean_loss')\n",
    "    ],\n",
    ")\n",
    "\n",
    "BATCH_SIZE = 1024\n",
    "\n",
    "\n",
    "def split_input(inpts: np.ndarray, outs: np.ndarray, shuffle=True):\n",
    "    indexes = np.arange(inpts.shape[0])\n",
    "    if shuffle:\n",
    "        np.random.shuffle(indexes)\n",
    "    train_size = math.ceil(inpts.shape[0] * 9 / 10)\n",
    "    train_indexes = indexes[0:train_size]\n",
    "    test_indexes = indexes[train_size:-1]\n",
    "    return (inpts[train_indexes], outs[train_indexes]), (inpts[test_indexes], outs[test_indexes])\n",
    "\n",
    "\n",
    "(train_x, train_y), (test_x, test_y) = split_input(prepared_input, prepared_output)\n",
    "display(train_x.shape)\n",
    "display(train_y.shape)\n",
    "\n",
    "res = model.fit(x=train_x, y=train_y, batch_size=BATCH_SIZE, epochs=20, validation_data=(test_x, test_y))"
   ]
  },
  {
   "cell_type": "markdown",
   "id": "4eebdfda2c53bd5a",
   "metadata": {
    "collapsed": false,
    "jupyter": {
     "outputs_hidden": false
    }
   },
   "source": [
    "## Plot stats"
   ]
  },
  {
   "cell_type": "code",
   "execution_count": 13,
   "id": "f26f5524b6ba23c8",
   "metadata": {
    "ExecuteTime": {
     "end_time": "2024-01-04T13:20:27.989727Z",
     "start_time": "2024-01-04T13:20:27.869195Z"
    },
    "collapsed": false,
    "jupyter": {
     "outputs_hidden": false
    }
   },
   "outputs": [
    {
     "data": {
      "image/png": "[encoded data removed]",
      "text/plain": [
       "<Figure size 640x480 with 1 Axes>"
      ]
     },
     "metadata": {},
     "output_type": "display_data"
    },
    {
     "data": {
      "image/png": "[encoded data removed]",
      "text/plain": [
       "<Figure size 640x480 with 1 Axes>"
      ]
     },
     "metadata": {},
     "output_type": "display_data"
    }
   ],
   "source": [
    "%matplotlib inline\n",
    "\n",
    "\n",
    "plt.title(\"train loss\")\n",
    "plt.plot(res.history['train_mean_loss'])\n",
    "plt.show()\n",
    "plt.title(\"val loss\")\n",
    "plt.plot(res.history['val_train_mean_loss'])\n",
    "plt.show()"
   ]
  },
  {
   "cell_type": "markdown",
   "id": "6371628c36843ede",
   "metadata": {
    "collapsed": false,
    "jupyter": {
     "outputs_hidden": false
    }
   },
   "source": [
    "#### Some random tests"
   ]
  },
  {
   "cell_type": "code",
   "execution_count": 14,
   "id": "2d7fb58e982f6341",
   "metadata": {
    "ExecuteTime": {
     "end_time": "2024-01-04T13:20:28.234100Z",
     "start_time": "2024-01-04T13:20:27.979019Z"
    },
    "collapsed": false,
    "jupyter": {
     "outputs_hidden": false
    }
   },
   "outputs": [
    {
     "data": {
      "image/png": "[encoded data removed]",
      "text/plain": [
       "<Figure size 640x480 with 1 Axes>"
      ]
     },
     "metadata": {},
     "output_type": "display_data"
    },
    {
     "data": {
      "image/png": "[encoded data removed]",
      "text/plain": [
       "<Figure size 640x480 with 1 Axes>"
      ]
     },
     "metadata": {},
     "output_type": "display_data"
    }
   ],
   "source": [
    "s1 = np.array([1, 1, -1, 1, -1, -1, 1, -1, 1, 1, 1, 2, -1, 2, -1, 1])\n",
    "\n",
    "from utils import draw_row\n",
    "\n",
    "fig = plt.figure()\n",
    "ax = fig.add_axes((0, 0, 1, 1))\n",
    "draw_row(None, ax, s1, apply_model)\n",
    "plt.show()\n",
    "\n",
    "s1 = np.array([1, 1, -1, 1, -1, -1, 1, -1, 1, 2, 1, 3, -1, 3, -1, 2])\n",
    "fig = plt.figure()\n",
    "ax = fig.add_axes((0, 0, 1, 1))\n",
    "draw_row(None, ax, s1, apply_model)\n",
    "plt.show()\n"
   ]
  },
  {
   "cell_type": "code",
   "execution_count": 15,
   "id": "34d5ee635cbfbe3f",
   "metadata": {
    "ExecuteTime": {
     "end_time": "2024-01-04T13:20:28.293203Z",
     "start_time": "2024-01-04T13:20:28.232438Z"
    },
    "collapsed": false,
    "jupyter": {
     "outputs_hidden": false
    }
   },
   "outputs": [
    {
     "data": {
      "text/plain": [
       "[<matplotlib.lines.Line2D at 0x282777e10>]"
      ]
     },
     "execution_count": 15,
     "metadata": {},
     "output_type": "execute_result"
    },
    {
     "data": {
      "image/png": "[encoded data removed]",
      "text/plain": [
       "<Figure size 640x480 with 1 Axes>"
      ]
     },
     "metadata": {},
     "output_type": "display_data"
    }
   ],
   "source": [
    "plt.plot(np.abs(model.weights[0].numpy()))"
   ]
  },
  {
   "cell_type": "code",
   "execution_count": 16,
   "id": "b9937ec73a30ebc6",
   "metadata": {
    "ExecuteTime": {
     "end_time": "2024-01-04T13:20:28.301178Z",
     "start_time": "2024-01-04T13:20:28.290630Z"
    },
    "collapsed": false,
    "jupyter": {
     "outputs_hidden": false
    }
   },
   "outputs": [
    {
     "data": {
      "text/plain": [
       "array([[ 8.63450885e-01,  8.76162900e-04, -3.45142034e-04,\n",
       "         1.19862612e-04],\n",
       "       [-6.23902248e-04, -6.52021885e-01, -8.76143458e-04,\n",
       "        -2.40915408e-03],\n",
       "       [-5.98892570e-01,  4.76297282e-04,  7.76519999e-04,\n",
       "        -2.65034469e-04],\n",
       "       [ 2.77767191e-04,  7.41491437e-01,  3.63475294e-04,\n",
       "         2.67453794e-03],\n",
       "       [ 7.30967760e-01, -1.34725764e-04,  1.27752952e-04,\n",
       "         3.10090283e-04],\n",
       "       [-1.69033097e-04, -6.76186562e-01,  8.04481562e-04,\n",
       "        -2.99982540e-03],\n",
       "       [-8.27443838e-01,  8.04579468e-04,  1.57178671e-04,\n",
       "         9.22274266e-05],\n",
       "       [-3.73257237e-04,  6.71802759e-01, -9.88966669e-04,\n",
       "         2.81270337e-03],\n",
       "       [ 1.60125688e-01,  7.98643916e-04, -7.23374009e-01,\n",
       "         6.75189949e-05],\n",
       "       [-1.23222242e-04, -1.68289334e-01, -2.23630283e-04,\n",
       "         7.48362005e-01],\n",
       "       [-1.29126593e-01, -9.06175293e-04,  5.82847536e-01,\n",
       "        -1.92091349e-04],\n",
       "       [-2.25465687e-04, -1.26830846e-01, -8.03581788e-05,\n",
       "         5.63491106e-01],\n",
       "       [-1.56003475e-01, -6.01837295e-04,  7.04657495e-01,\n",
       "        -1.25391787e-04],\n",
       "       [ 2.97355728e-04,  1.20506413e-01, -5.75059967e-05,\n",
       "        -5.35033107e-01],\n",
       "       [-1.19447507e-01, -4.75159468e-04,  5.38608074e-01,\n",
       "         2.65349809e-05],\n",
       "       [ 3.82865197e-04,  1.23319253e-01, -7.79181719e-05,\n",
       "        -5.48139751e-01],\n",
       "       [ 9.01148422e-04,  2.07564775e-02,  1.59238884e-03,\n",
       "         5.60357869e-02],\n",
       "       [ 1.66156352e-03,  5.01281545e-02, -8.60949862e-04,\n",
       "         3.06246001e-02],\n",
       "       [-1.09555287e-04,  1.71295144e-02,  2.39530741e-03,\n",
       "         4.74789478e-02],\n",
       "       [ 1.12482929e-03,  2.82508042e-02, -1.10906980e-03,\n",
       "         1.72013994e-02],\n",
       "       [-2.49330094e-03,  2.43345853e-02,  3.94749641e-03,\n",
       "         6.11135103e-02],\n",
       "       [-2.19785084e-04, -7.61202816e-03,  4.35272843e-04,\n",
       "        -4.34511574e-03],\n",
       "       [ 6.52003684e-04,  2.61436310e-02,  1.95190648e-03,\n",
       "         6.94645792e-02],\n",
       "       [-1.71527536e-05, -4.65688156e-03,  2.96083163e-04,\n",
       "        -2.78874906e-03],\n",
       "       [-1.76767644e-03, -1.20460968e-02, -8.72492208e-04,\n",
       "        -9.24771279e-03],\n",
       "       [ 2.93513061e-03,  3.06927580e-02, -4.77797177e-04,\n",
       "         2.06685178e-02],\n",
       "       [-1.43382087e-04, -7.44941458e-03,  4.49849234e-04,\n",
       "        -6.03030669e-03],\n",
       "       [-3.52492352e-05, -6.92756381e-04, -1.70697558e-06,\n",
       "        -4.19077958e-04],\n",
       "       [-2.43045297e-03, -2.01930311e-02,  1.65055593e-04,\n",
       "        -1.44978231e-02],\n",
       "       [ 2.44726034e-05,  1.59151183e-04,  4.46517743e-06,\n",
       "         1.07135951e-04],\n",
       "       [ 7.30456365e-03, -1.64179355e-02,  7.81549327e-03,\n",
       "        -3.29505429e-02],\n",
       "       [ 6.79224404e-03,  1.90696809e-02,  9.13488027e-03,\n",
       "         1.94379482e-02],\n",
       "       [-2.62779742e-02, -7.87155610e-03,  2.47985348e-02,\n",
       "         3.15090851e-03],\n",
       "       [-2.42952607e-03,  1.85029954e-02,  7.59150507e-03,\n",
       "         4.37388644e-02],\n",
       "       [-1.05088511e-02,  6.52637857e-04, -2.85836533e-02,\n",
       "        -4.01787373e-04],\n",
       "       [ 3.15527664e-03, -2.32163556e-02, -1.94035342e-03,\n",
       "        -6.10779934e-02],\n",
       "       [ 1.25404233e-02, -1.78389123e-03,  3.31597365e-02,\n",
       "         3.18205479e-04],\n",
       "       [-3.03757028e-03,  1.59962196e-02,  3.12048476e-03,\n",
       "         4.84783873e-02],\n",
       "       [-2.25959392e-03, -2.69655953e-04, -1.01565185e-03,\n",
       "        -6.53884665e-04],\n",
       "       [-7.25977516e-05, -1.60189258e-04,  5.82785637e-04,\n",
       "        -3.40207887e-04],\n",
       "       [-6.32099435e-02, -1.41067216e-02, -1.52968448e-02,\n",
       "        -3.27559630e-03],\n",
       "       [-3.37329286e-04,  1.19155971e-03,  1.57216753e-04,\n",
       "         2.01830128e-03],\n",
       "       [-1.57142767e-06,  1.12277870e-04,  1.09446655e-05,\n",
       "         1.04986666e-05],\n",
       "       [-3.11447802e-04,  3.14776917e-05, -8.09750927e-05,\n",
       "         3.15156140e-05],\n",
       "       [-2.27641501e-02,  7.74054439e-04,  8.19031708e-03,\n",
       "        -2.05681729e-03],\n",
       "       [ 1.14572540e-04, -8.81612723e-05,  7.32049448e-05,\n",
       "         1.69103914e-05],\n",
       "       [-4.70373742e-02,  6.89423038e-03, -9.09692980e-03,\n",
       "        -9.99090727e-04],\n",
       "       [-6.85955351e-03,  2.97931908e-03, -2.52916999e-02,\n",
       "        -7.57490459e-04],\n",
       "       [-3.35115765e-05,  3.52063812e-02,  4.08968597e-04,\n",
       "         3.32648084e-02],\n",
       "       [ 2.91506149e-06,  5.27064735e-03, -5.70917095e-04,\n",
       "        -1.09109550e-03],\n",
       "       [-1.39917116e-04,  4.82850298e-02,  1.18517689e-03,\n",
       "         4.55577485e-02],\n",
       "       [ 3.39568796e-04,  8.80561711e-04,  2.58141692e-04,\n",
       "         1.92977008e-04],\n",
       "       [ 4.07926709e-05,  6.47941530e-02,  1.39065832e-03,\n",
       "         5.38632497e-02],\n",
       "       [-9.46930319e-04, -1.46542082e-03,  1.04192598e-03,\n",
       "        -4.73607972e-04],\n",
       "       [ 1.03309390e-03, -2.71649435e-02, -1.72728195e-03,\n",
       "         3.34452391e-02],\n",
       "       [ 7.94729509e-04, -3.92186106e-04,  3.21381330e-03,\n",
       "        -1.31961831e-03],\n",
       "       [-4.98863164e-06, -4.97921319e-05,  2.31068661e-05,\n",
       "        -5.06362740e-05],\n",
       "       [ 1.79167600e-05, -4.41010372e-04,  1.52880224e-04,\n",
       "         1.96700639e-04],\n",
       "       [-2.06573308e-03, -1.40660314e-03,  4.52371920e-03,\n",
       "        -3.69511545e-02],\n",
       "       [ 1.37972838e-05, -2.01220566e-04, -4.89356578e-04,\n",
       "        -2.89908203e-04],\n",
       "       [ 7.93225524e-07, -1.29325474e-06,  2.99710138e-07,\n",
       "         7.01733711e-07],\n",
       "       [-7.68305734e-03,  3.34262964e-03, -2.36341134e-02,\n",
       "        -1.72760407e-03],\n",
       "       [-7.77752430e-04,  1.52057782e-02, -1.35382265e-03,\n",
       "         3.71756814e-02],\n",
       "       [ 1.66917185e-03,  5.17091539e-04,  1.95010118e-02,\n",
       "        -1.66244118e-03],\n",
       "       [ 4.52032173e-03, -1.74767822e-02, -5.58038941e-03,\n",
       "        -4.06814218e-02],\n",
       "       [ 3.61007452e-03, -1.14970549e-03,  2.45803427e-02,\n",
       "         1.04243564e-03],\n",
       "       [-7.17333518e-04,  4.14756709e-04, -3.30745024e-06,\n",
       "         4.59732604e-04],\n",
       "       [ 3.07484443e-04, -1.38158503e-04, -5.70178847e-04,\n",
       "         1.66979095e-04],\n",
       "       [-2.59135268e-03,  4.08254418e-04,  3.19896964e-04,\n",
       "         5.77975123e-04],\n",
       "       [-2.29659863e-02,  4.41575050e-03,  3.67444562e-04,\n",
       "         3.47746740e-04],\n",
       "       [-6.94575065e-05, -6.21670741e-04, -1.63566059e-04,\n",
       "        -1.27886844e-04],\n",
       "       [ 8.89884979e-02,  3.91654065e-03,  2.78471410e-02,\n",
       "        -1.01262517e-03],\n",
       "       [ 6.42073632e-04,  1.99197908e-03, -1.93573593e-03,\n",
       "         1.61345920e-03],\n",
       "       [-1.03382525e-04,  1.64348821e-05, -7.49582134e-04,\n",
       "         1.44134538e-04],\n",
       "       [-2.15352909e-03, -4.25105495e-03, -1.13782538e-02,\n",
       "        -6.16385252e-04],\n",
       "       [-1.86506112e-03,  5.42550310e-02,  1.79565058e-03,\n",
       "         5.23864813e-02],\n",
       "       [ 7.76178786e-04,  3.47498781e-03,  2.59516435e-03,\n",
       "         1.18393404e-03],\n",
       "       [-8.37981570e-05, -1.01472791e-02,  1.37179450e-03,\n",
       "        -9.32057388e-03],\n",
       "       [-1.91777144e-05,  3.49968104e-05, -1.30211338e-04,\n",
       "         5.86178703e-06],\n",
       "       [-4.95156601e-05, -5.11821199e-05, -2.59103417e-05,\n",
       "        -2.36137799e-04],\n",
       "       [ 1.45982449e-05,  4.77768936e-06, -8.29381224e-06,\n",
       "         2.94803408e-06],\n",
       "       [-2.33576144e-03, -4.14803158e-03, -1.93989847e-03,\n",
       "        -2.70629637e-02],\n",
       "       [ 2.88268871e-04,  4.48655686e-04, -7.86412391e-04,\n",
       "         9.72187205e-04],\n",
       "       [ 1.30363451e-05,  5.39403663e-06,  4.27496343e-06,\n",
       "         4.67782884e-05],\n",
       "       [ 9.68760287e-04,  7.30359927e-04,  1.91627617e-03,\n",
       "         5.54010097e-04],\n",
       "       [ 4.60301712e-03,  8.20343196e-03, -5.04881667e-04,\n",
       "         5.39283715e-02],\n",
       "       [ 6.13998156e-03,  1.38025789e-03,  8.62507615e-04,\n",
       "        -1.09622220e-03],\n",
       "       [-2.91384873e-04,  1.54127320e-02,  5.65739116e-03,\n",
       "         4.38804068e-02],\n",
       "       [ 3.55505431e-03,  6.64226769e-04,  9.99375526e-03,\n",
       "        -1.13571202e-03],\n",
       "       [ 2.54444010e-03,  6.63535530e-03,  1.92074070e-03,\n",
       "         2.72304136e-02],\n",
       "       [ 3.11887693e-02,  9.45872860e-04,  1.71632546e-05,\n",
       "         1.55240390e-03],\n",
       "       [ 5.14599204e-04,  2.42511396e-06,  1.64239886e-04,\n",
       "        -9.21154395e-04],\n",
       "       [-4.24278714e-03, -2.53685321e-05, -4.05120663e-03,\n",
       "        -1.42929406e-04],\n",
       "       [ 2.99394218e-04, -1.54800495e-04,  4.78767251e-05,\n",
       "         4.43024037e-05],\n",
       "       [-1.17379415e-04, -5.51047378e-05,  4.27848106e-04,\n",
       "        -7.85009906e-05],\n",
       "       [ 6.26503606e-05, -3.58515535e-05,  3.14204335e-05,\n",
       "         1.84851615e-05],\n",
       "       [ 2.25544516e-02,  6.92738511e-04,  5.40732639e-03,\n",
       "         9.47592256e-04],\n",
       "       [ 4.87278402e-03, -5.63898531e-04,  1.50354730e-03,\n",
       "        -2.46585556e-03],\n",
       "       [ 7.93300103e-04, -3.43246646e-02, -2.78101815e-03,\n",
       "        -2.29209643e-02],\n",
       "       [ 5.41968911e-04, -1.11607915e-05, -4.31103079e-04,\n",
       "        -2.53235594e-05],\n",
       "       [ 2.18418048e-04,  2.10025208e-03, -1.16322932e-04,\n",
       "        -1.50953503e-02],\n",
       "       [ 6.89146051e-04,  3.89107154e-04, -1.42483204e-03,\n",
       "         1.83049194e-03],\n",
       "       [-1.75691536e-03, -3.06368223e-04, -1.80406251e-03,\n",
       "         3.97965088e-02],\n",
       "       [ 2.86012597e-04,  5.85984322e-04,  1.89371101e-04,\n",
       "         8.06001364e-04],\n",
       "       [-5.28705568e-05, -4.62018943e-05, -8.50656647e-07,\n",
       "        -9.70125839e-05],\n",
       "       [-1.75032357e-04, -7.20287557e-04, -2.94701604e-05,\n",
       "        -4.58044786e-04],\n",
       "       [ 4.34809073e-04,  7.88198318e-04, -2.12693834e-04,\n",
       "         2.45696772e-03],\n",
       "       [-9.71932858e-02, -1.46388104e-02,  6.68950677e-02,\n",
       "         5.12535637e-03],\n",
       "       [ 3.06241651e-04,  3.20739276e-03,  9.25922126e-04,\n",
       "         1.11460341e-02],\n",
       "       [-1.26924904e-04,  2.38208042e-04, -4.10598004e-04,\n",
       "         1.26105573e-04],\n",
       "       [-2.34104489e-04,  7.03906117e-05, -1.45081984e-04,\n",
       "         1.43053621e-05],\n",
       "       [-5.72705828e-03, -1.17140054e-03, -1.89635623e-03,\n",
       "        -6.31141651e-04],\n",
       "       [-6.33018790e-04, -2.12785293e-04,  3.74950469e-05,\n",
       "        -3.13609693e-04],\n",
       "       [-1.90699231e-02,  1.56098649e-05,  9.72099137e-03,\n",
       "         1.05922460e-03],\n",
       "       [-2.57548672e-04, -8.43008311e-05,  2.91224860e-04,\n",
       "         2.04868702e-05],\n",
       "       [-1.26050869e-02, -5.21473587e-04, -7.27988873e-03,\n",
       "        -1.90689950e-03],\n",
       "       [-1.96750159e-04,  8.97245249e-04,  1.76412417e-04,\n",
       "        -2.84572045e-04],\n",
       "       [ 9.26919074e-06, -9.25265249e-06, -8.10152051e-06,\n",
       "        -2.10265662e-05],\n",
       "       [ 3.68958659e-04,  2.41010697e-04,  1.74997287e-04,\n",
       "         4.68588405e-04],\n",
       "       [-8.40342487e-04, -3.82536440e-03, -2.62315548e-03,\n",
       "         3.85346338e-02],\n",
       "       [-8.82194072e-05,  5.64442715e-04, -3.56092118e-04,\n",
       "         4.29634191e-03],\n",
       "       [ 6.29069516e-04, -1.78860640e-03,  9.49382025e-04,\n",
       "        -7.92710576e-03],\n",
       "       [ 7.16650044e-04,  1.83949625e-04, -1.12158144e-04,\n",
       "         9.65359970e-04],\n",
       "       [-3.11616077e-07,  4.58407385e-06,  6.17493299e-07,\n",
       "         1.23674681e-05],\n",
       "       [ 2.55191494e-02,  1.51026121e-03,  1.42642651e-02,\n",
       "        -2.46718526e-04],\n",
       "       [ 9.75004514e-06, -1.21568032e-02, -2.80316817e-05,\n",
       "        -1.02990493e-02],\n",
       "       [ 1.71438735e-02,  6.39200662e-05,  9.96006466e-03,\n",
       "        -1.17003859e-03],\n",
       "       [-1.75353407e-03, -1.19616734e-02,  1.56370574e-04,\n",
       "        -8.61409120e-03],\n",
       "       [ 4.85151447e-02, -1.03096217e-02,  9.24948081e-02,\n",
       "         1.23826973e-02],\n",
       "       [-1.63936220e-05, -7.67211459e-05, -1.96324595e-06,\n",
       "        -5.60342996e-05],\n",
       "       [-5.30658181e-05,  8.80062653e-05, -4.00061072e-05,\n",
       "         1.30851215e-04],\n",
       "       [-3.67824832e-05, -6.01074935e-05, -2.09653153e-05,\n",
       "        -6.38812562e-05],\n",
       "       [-6.65232888e-04, -4.51600691e-03, -1.22532074e-04,\n",
       "        -2.99309869e-03],\n",
       "       [ 1.76688284e-02,  1.63215224e-03,  9.88893397e-03,\n",
       "        -1.28137428e-04],\n",
       "       [-1.04062765e-05, -3.43560707e-04,  1.13477008e-05,\n",
       "        -1.87575512e-04],\n",
       "       [-3.93248600e-04, -1.57881135e-04, -1.50761654e-04,\n",
       "         8.06064563e-05],\n",
       "       [ 2.36015092e-03, -3.42691354e-02,  8.15769599e-04,\n",
       "        -3.07313800e-02],\n",
       "       [-2.71618715e-04, -2.17606168e-04, -2.49243021e-05,\n",
       "        -2.60418607e-03],\n",
       "       [ 7.36639253e-04,  4.27167024e-03,  2.84231228e-05,\n",
       "         2.81673204e-03],\n",
       "       [ 5.09176329e-02, -3.70189315e-03,  5.04614376e-02,\n",
       "        -5.80251124e-03],\n",
       "       [-5.22501208e-03,  4.87379730e-02, -4.97142458e-03,\n",
       "         2.92124785e-02],\n",
       "       [ 5.53862366e-04,  5.92774013e-04, -3.88858862e-05,\n",
       "         1.70594268e-03],\n",
       "       [ 1.34421233e-02, -2.74421205e-03,  8.33135284e-03,\n",
       "        -3.30088777e-03],\n",
       "       [ 5.73784928e-05,  3.57253030e-02, -5.12807863e-04,\n",
       "         2.54209954e-02],\n",
       "       [-3.60765047e-02, -1.02818701e-02, -2.33076736e-02,\n",
       "        -3.93384695e-03],\n",
       "       [-3.60320200e-06, -2.23385518e-06, -1.14393163e-06,\n",
       "        -6.71590499e-07],\n",
       "       [-5.92230936e-04, -5.28180855e-04, -2.71635916e-04,\n",
       "        -7.22465920e-04],\n",
       "       [ 1.17402578e-06,  7.03517003e-07, -1.91444474e-06,\n",
       "         2.00398881e-06],\n",
       "       [ 3.98522280e-02,  2.49334867e-03,  2.77678091e-02,\n",
       "        -3.72469961e-03],\n",
       "       [ 2.72286199e-02,  1.08344038e-03,  2.41348036e-02,\n",
       "        -2.08343915e-03],\n",
       "       [-2.60600308e-03,  4.30444814e-02, -3.97386408e-04,\n",
       "         4.15000506e-02],\n",
       "       [-8.06442425e-02,  2.42631999e-03, -6.44151121e-02,\n",
       "        -6.00948045e-03]], dtype=float32)"
      ]
     },
     "execution_count": 16,
     "metadata": {},
     "output_type": "execute_result"
    }
   ],
   "source": [
    "model.weights[1].numpy()"
   ]
  },
  {
   "cell_type": "code",
   "execution_count": 18,
   "id": "d5c6fb35a49586d1",
   "metadata": {
    "ExecuteTime": {
     "end_time": "2024-01-04T13:20:33.891269Z",
     "start_time": "2024-01-04T13:20:32.253741Z"
    },
    "collapsed": false,
    "jupyter": {
     "outputs_hidden": false
    }
   },
   "outputs": [
    {
     "name": "stdout",
     "output_type": "stream",
     "text": [
      "INFO:tensorflow:Assets written to: model_rot_compiled2/assets\n"
     ]
    },
    {
     "name": "stderr",
     "output_type": "stream",
     "text": [
      "INFO:tensorflow:Assets written to: model_rot_compiled2/assets\n"
     ]
    }
   ],
   "source": [
    "model.save(\"model_rot_compiled2\")"
   ]
  },
  {
   "cell_type": "code",
   "execution_count": 17,
   "id": "179298ecc16700e3",
   "metadata": {
    "ExecuteTime": {
     "end_time": "2024-01-04T13:20:29.998311Z",
     "start_time": "2024-01-04T13:20:29.990858Z"
    },
    "collapsed": false,
    "jupyter": {
     "outputs_hidden": false
    }
   },
   "outputs": [],
   "source": []
  }
 ],
 "metadata": {
  "kernelspec": {
   "display_name": "Python 3 (ipykernel)",
   "language": "python",
   "name": "python3"
  },
  "language_info": {
   "codemirror_mode": {
    "name": "ipython",
    "version": 3
   },
   "file_extension": ".py",
   "mimetype": "text/x-python",
   "name": "python",
   "nbconvert_exporter": "python",
   "pygments_lexer": "ipython3",
   "version": "3.11.7"
  }
 },
 "nbformat": 4,
 "nbformat_minor": 5
}
