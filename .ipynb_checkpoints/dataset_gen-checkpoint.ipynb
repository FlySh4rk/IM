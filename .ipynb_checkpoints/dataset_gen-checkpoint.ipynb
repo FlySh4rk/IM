{
 "cells": [
  {
   "cell_type": "markdown",
   "id": "d4f831ff-7dd3-4a3d-8a84-0bf8a39e9f80",
   "metadata": {},
   "source": [
    "# Generate a set of data\n",
    "\n",
    "We start by creating randomly generating a set of 4 + 4 points by applying a random transformation that stretch and sqeezes a square\n"
   ]
  },
  {
   "cell_type": "code",
   "execution_count": 1,
   "id": "16bfe91b-0930-46c2-a4df-9c0407ede047",
   "metadata": {
    "ExecuteTime": {
     "end_time": "2023-12-26T19:02:24.941025Z",
     "start_time": "2023-12-26T19:02:24.863841Z"
    }
   },
   "outputs": [],
   "source": [
    "import numpy as np\n",
    "import pandas as pd"
   ]
  },
  {
   "cell_type": "markdown",
   "id": "e07ed11f44b7ac96",
   "metadata": {
    "collapsed": false,
    "jupyter": {
     "outputs_hidden": false
    }
   },
   "source": [
    "# Transform a (x,y) vector to a deformed version\n",
    "\n",
    "Applies a non linear transformation to a vector"
   ]
  },
  {
   "cell_type": "code",
   "execution_count": 2,
   "id": "88f30e421c343bb",
   "metadata": {
    "ExecuteTime": {
     "end_time": "2023-12-26T19:02:24.953047Z",
     "start_time": "2023-12-26T19:02:24.942835Z"
    },
    "collapsed": false,
    "jupyter": {
     "outputs_hidden": false
    }
   },
   "outputs": [],
   "source": [
    "def transform(x: np.ndarray, epsilon: np.ndarray) -> np.ndarray:\n",
    "    x_ = x[0]\n",
    "    y_ = x[1]\n",
    "    ex = epsilon[0]\n",
    "    ey = epsilon[1]\n",
    "    return np.array((x_ * (ex * y_ + 1), y_ * (ey * x_ + 1)))"
   ]
  },
  {
   "cell_type": "markdown",
   "id": "2e42f6160fe4339f",
   "metadata": {
    "collapsed": false,
    "jupyter": {
     "outputs_hidden": false
    }
   },
   "source": [
    "## Some test"
   ]
  },
  {
   "cell_type": "code",
   "execution_count": 3,
   "id": "98737d77f6ff4e58",
   "metadata": {
    "ExecuteTime": {
     "end_time": "2023-12-26T19:02:24.961045Z",
     "start_time": "2023-12-26T19:02:24.955007Z"
    },
    "collapsed": false,
    "jupyter": {
     "outputs_hidden": false
    }
   },
   "outputs": [
    {
     "data": {
      "text/plain": [
       "array([1.1, 0.9])"
      ]
     },
     "execution_count": 3,
     "metadata": {},
     "output_type": "execute_result"
    }
   ],
   "source": [
    "e_1 = np.array((0.1, -0.1))\n",
    "\n",
    "transform(np.array((1, 1)), e_1)"
   ]
  },
  {
   "cell_type": "markdown",
   "id": "b50eae02d6e44083",
   "metadata": {
    "collapsed": false,
    "jupyter": {
     "outputs_hidden": false
    }
   },
   "source": [
    "## Generate some random data\n",
    "\n",
    "Let's generate a serial of random deformed squares. The output of this function should have shape (4, num_squares)."
   ]
  },
  {
   "cell_type": "code",
   "execution_count": 4,
   "id": "c41ae94ef7c8196",
   "metadata": {
    "ExecuteTime": {
     "end_time": "2023-12-26T19:02:24.977246Z",
     "start_time": "2023-12-26T19:02:24.962328Z"
    },
    "collapsed": false,
    "jupyter": {
     "outputs_hidden": false
    }
   },
   "outputs": [
    {
     "name": "stdout",
     "output_type": "stream",
     "text": [
      "(4, 2)\n",
      "[(2,), (2,), (2,), (2,)]\n"
     ]
    }
   ],
   "source": [
    "unit_square = np.array([[1, 1], [1, -1], [-1, -1], [-1, 1]])\n",
    "print(unit_square.shape)\n",
    "print([x.shape for x in unit_square])\n",
    "\n",
    "\n",
    "def deformed_unit_square(epsilon: np.ndarray) -> np.ndarray:\n",
    "    return np.array([transform(x, epsilon) for x in unit_square]).reshape(4, 2)\n"
   ]
  },
  {
   "cell_type": "code",
   "execution_count": 5,
   "id": "cae7a8bbff889822",
   "metadata": {
    "ExecuteTime": {
     "end_time": "2023-12-26T19:02:24.984354Z",
     "start_time": "2023-12-26T19:02:24.965718Z"
    },
    "collapsed": false,
    "jupyter": {
     "outputs_hidden": false
    }
   },
   "outputs": [
    {
     "name": "stdout",
     "output_type": "stream",
     "text": [
      "Result [[ 1.1  0.9]\n",
      " [ 0.9 -0.9]\n",
      " [-0.9 -1.1]\n",
      " [-1.1  1.1]]\n",
      "Shape: (4, 2)\n"
     ]
    }
   ],
   "source": [
    "x = deformed_unit_square(np.array([0.1, -0.1]))\n",
    "print(f\"Result {x}\\nShape: {x.shape}\")"
   ]
  },
  {
   "cell_type": "code",
   "execution_count": 6,
   "id": "3fda4e22961b0ac9",
   "metadata": {
    "ExecuteTime": {
     "end_time": "2023-12-26T19:02:24.984866Z",
     "start_time": "2023-12-26T19:02:24.968778Z"
    },
    "collapsed": false,
    "jupyter": {
     "outputs_hidden": false
    }
   },
   "outputs": [],
   "source": [
    "def generate_random_squares(num_squares: int) -> np.ndarray:\n",
    "    epsilons = np.random.rand(num_squares, 2).reshape((-1, 2))\n",
    "    epsilons = epsilons * 0.2 - 0.1\n",
    "    print(epsilons.shape)\n",
    "\n",
    "    return np.array([deformed_unit_square(e) for e in epsilons])"
   ]
  },
  {
   "cell_type": "markdown",
   "id": "cbb7c196b2fe4458",
   "metadata": {
    "collapsed": false,
    "jupyter": {
     "outputs_hidden": false
    }
   },
   "source": [
    "### Prepare bones squares\n",
    "\n",
    "Bones are stretched on Y direction by 2."
   ]
  },
  {
   "cell_type": "code",
   "execution_count": 7,
   "id": "3893cbcbfd1e3b07",
   "metadata": {
    "ExecuteTime": {
     "end_time": "2023-12-26T19:02:25.022083Z",
     "start_time": "2023-12-26T19:02:24.985804Z"
    },
    "collapsed": false,
    "jupyter": {
     "outputs_hidden": false
    }
   },
   "outputs": [],
   "source": [
    "NUM_SAMPLES = 1000"
   ]
  },
  {
   "cell_type": "code",
   "execution_count": 8,
   "id": "e9d92e5829b67fa9",
   "metadata": {
    "ExecuteTime": {
     "end_time": "2023-12-26T19:02:25.024534Z",
     "start_time": "2023-12-26T19:02:24.989616Z"
    },
    "collapsed": false,
    "jupyter": {
     "outputs_hidden": false
    }
   },
   "outputs": [
    {
     "name": "stdout",
     "output_type": "stream",
     "text": [
      "(1000, 2)\n"
     ]
    },
    {
     "data": {
      "text/plain": [
       "array([[ 0.99250879,  2.16826872,  1.00749121, ..., -1.99295609,\n",
       "        -1.06757314,  1.99295609],\n",
       "       [ 0.94299066,  2.09913713,  1.05700934, ..., -1.87124618,\n",
       "        -1.05288607,  1.87124618],\n",
       "       [ 1.05875503,  2.1741393 ,  0.94124497, ..., -1.80235034,\n",
       "        -1.08740699,  1.80235034],\n",
       "       ...,\n",
       "       [ 1.07349645,  1.91517966,  0.92650355, ..., -2.10072109,\n",
       "        -1.08122724,  2.10072109],\n",
       "       [ 0.92605266,  2.09529794,  1.07394734, ..., -2.18967206,\n",
       "        -1.03129767,  2.18967206],\n",
       "       [ 1.07702437,  1.88346061,  0.92297563, ..., -2.17433142,\n",
       "        -0.95079799,  2.17433142]])"
      ]
     },
     "execution_count": 8,
     "metadata": {},
     "output_type": "execute_result"
    }
   ],
   "source": [
    "bone_data = generate_random_squares(NUM_SAMPLES) * [1, 2]\n",
    "bone_data.reshape(100, -1)"
   ]
  },
  {
   "cell_type": "markdown",
   "id": "455340b53a1d0a3",
   "metadata": {
    "collapsed": false,
    "jupyter": {
     "outputs_hidden": false
    }
   },
   "source": [
    "### Prepare teeth\n",
    "\n",
    "Teeth are rotate by a random angle and translated by 2 units on Y direction"
   ]
  },
  {
   "cell_type": "code",
   "execution_count": 9,
   "id": "e022b74c6646a289",
   "metadata": {
    "ExecuteTime": {
     "end_time": "2023-12-26T19:02:25.038951Z",
     "start_time": "2023-12-26T19:02:25.026962Z"
    },
    "collapsed": false,
    "jupyter": {
     "outputs_hidden": false
    }
   },
   "outputs": [
    {
     "name": "stdout",
     "output_type": "stream",
     "text": [
      "(1000, 2)\n"
     ]
    },
    {
     "data": {
      "text/plain": [
       "array([[ 0.97133985,  3.08129015,  1.02866015, ...,  1.03235922,\n",
       "        -1.06894926,  2.96764078],\n",
       "       [ 0.96444293,  2.91255725,  1.03555707, ...,  1.06365361,\n",
       "        -0.99166141,  2.93634639],\n",
       "       [ 0.97142902,  2.93689316,  1.02857098, ...,  0.94273666,\n",
       "        -0.92214647,  3.05726334],\n",
       "       ...,\n",
       "       [ 1.03687971,  3.01642181,  0.96312029, ...,  1.04326973,\n",
       "        -1.05483559,  2.95673027],\n",
       "       [ 0.90618518,  3.09016221,  1.09381482, ...,  1.03354936,\n",
       "        -0.97536858,  2.96645064],\n",
       "       [ 1.0069703 ,  2.93410301,  0.9930297 , ...,  0.93156576,\n",
       "        -1.00421164,  3.06843424]])"
      ]
     },
     "execution_count": 9,
     "metadata": {},
     "output_type": "execute_result"
    }
   ],
   "source": [
    "tooth_data = generate_random_squares(NUM_SAMPLES) + [0, 2]\n",
    "tooth_data.reshape(100, -1)"
   ]
  },
  {
   "cell_type": "markdown",
   "id": "5aa8255cc690d6c1",
   "metadata": {
    "collapsed": false,
    "jupyter": {
     "outputs_hidden": false
    }
   },
   "source": [
    "### Find weighted center of mass"
   ]
  },
  {
   "cell_type": "code",
   "execution_count": 10,
   "id": "68ee42f39d384e76",
   "metadata": {
    "ExecuteTime": {
     "end_time": "2023-12-26T19:02:25.041380Z",
     "start_time": "2023-12-26T19:02:25.037289Z"
    },
    "collapsed": false,
    "jupyter": {
     "outputs_hidden": false
    }
   },
   "outputs": [],
   "source": [
    "from typing import Callable, Tuple\n",
    "\n",
    "\n",
    "def find_mass_center(square: np.ndarray,\n",
    "                     weights: Callable[[np.ndarray], Tuple[float, float]]) -> np.ndarray:\n",
    "    w = np.array([weights(p) for p in square])\n",
    "    #print(f\"w:{w}\")\n",
    "    s = np.sum(w, axis=0)\n",
    "    #print(f\"s:{s}\")\n",
    "    t = w * square\n",
    "    #print(f\"t:{t}\")\n",
    "    return (np.sum(t, axis=0) / s).reshape(1,-1)"
   ]
  },
  {
   "cell_type": "code",
   "execution_count": 11,
   "id": "c43468728a4df5c5",
   "metadata": {
    "ExecuteTime": {
     "end_time": "2023-12-26T19:02:25.068227Z",
     "start_time": "2023-12-26T19:02:25.040531Z"
    },
    "collapsed": false,
    "jupyter": {
     "outputs_hidden": false
    }
   },
   "outputs": [
    {
     "data": {
      "text/plain": [
       "array([[0., 0.]])"
      ]
     },
     "execution_count": 11,
     "metadata": {},
     "output_type": "execute_result"
    }
   ],
   "source": [
    "def uniform(_p: np.ndarray) -> Tuple[float, float]:\n",
    "    return 1., 1.\n",
    "\n",
    "\n",
    "find_mass_center(unit_square, uniform)"
   ]
  },
  {
   "cell_type": "code",
   "execution_count": 12,
   "id": "fb6c02a242a46aa7",
   "metadata": {
    "ExecuteTime": {
     "end_time": "2023-12-26T19:02:25.073313Z",
     "start_time": "2023-12-26T19:02:25.044016Z"
    },
    "collapsed": false,
    "jupyter": {
     "outputs_hidden": false
    }
   },
   "outputs": [
    {
     "data": {
      "text/plain": [
       "array([[ 0.        , -0.33333333]])"
      ]
     },
     "execution_count": 12,
     "metadata": {},
     "output_type": "execute_result"
    }
   ],
   "source": [
    "def threshold(t=0.):\n",
    "    def weight(p: np.ndarray)->Tuple[float, float]:\n",
    "        return (1, 2) if (p[1] <= t) else (1, 1)\n",
    "    return weight\n",
    "\n",
    "find_mass_center(unit_square, threshold())"
   ]
  },
  {
   "cell_type": "code",
   "execution_count": 13,
   "id": "41c26248b4b0a775",
   "metadata": {
    "ExecuteTime": {
     "end_time": "2023-12-26T19:02:25.074857Z",
     "start_time": "2023-12-26T19:02:25.056639Z"
    },
    "collapsed": false,
    "jupyter": {
     "outputs_hidden": false
    }
   },
   "outputs": [],
   "source": [
    "bone_centers = np.array([ find_mass_center(s, threshold()) for s in bone_data]).reshape(-1,2)"
   ]
  },
  {
   "cell_type": "code",
   "execution_count": 14,
   "id": "abb4ef9bba31b268",
   "metadata": {
    "ExecuteTime": {
     "end_time": "2023-12-26T19:02:25.092765Z",
     "start_time": "2023-12-26T19:02:25.075792Z"
    },
    "collapsed": false,
    "jupyter": {
     "outputs_hidden": false
    }
   },
   "outputs": [
    {
     "data": {
      "text/plain": [
       "array([[ 0.00000000e+00, -6.66666667e-01],\n",
       "       [ 0.00000000e+00, -6.66666667e-01],\n",
       "       [-2.77555756e-17, -6.66666667e-01],\n",
       "       ...,\n",
       "       [ 0.00000000e+00, -6.66666667e-01],\n",
       "       [ 2.77555756e-17, -6.66666667e-01],\n",
       "       [ 0.00000000e+00, -6.66666667e-01]])"
      ]
     },
     "execution_count": 14,
     "metadata": {},
     "output_type": "execute_result"
    }
   ],
   "source": [
    "bone_centers"
   ]
  },
  {
   "cell_type": "code",
   "execution_count": 15,
   "id": "9b23c65a22190e28",
   "metadata": {
    "ExecuteTime": {
     "end_time": "2023-12-26T19:02:25.114655Z",
     "start_time": "2023-12-26T19:02:25.084754Z"
    },
    "collapsed": false,
    "jupyter": {
     "outputs_hidden": false
    }
   },
   "outputs": [],
   "source": [
    "teeth_centers = np.array([ find_mass_center(s, uniform) for s in tooth_data]).reshape(-1,2)"
   ]
  },
  {
   "cell_type": "code",
   "execution_count": 16,
   "id": "569c3fe1400e1ceb",
   "metadata": {
    "ExecuteTime": {
     "end_time": "2023-12-26T19:02:25.115167Z",
     "start_time": "2023-12-26T19:02:25.088615Z"
    },
    "collapsed": false,
    "jupyter": {
     "outputs_hidden": false
    }
   },
   "outputs": [
    {
     "data": {
      "text/plain": [
       "array([[-2.77555756e-17,  2.00000000e+00],\n",
       "       [-2.77555756e-17,  2.00000000e+00],\n",
       "       [-5.55111512e-17,  2.00000000e+00],\n",
       "       ...,\n",
       "       [ 0.00000000e+00,  2.00000000e+00],\n",
       "       [ 0.00000000e+00,  2.00000000e+00],\n",
       "       [ 5.55111512e-17,  2.00000000e+00]])"
      ]
     },
     "execution_count": 16,
     "metadata": {},
     "output_type": "execute_result"
    }
   ],
   "source": [
    "teeth_centers"
   ]
  },
  {
   "cell_type": "code",
   "execution_count": 17,
   "id": "b546bf93f1232d0e",
   "metadata": {
    "ExecuteTime": {
     "end_time": "2023-12-26T19:02:25.125404Z",
     "start_time": "2023-12-26T19:02:25.112724Z"
    },
    "collapsed": false,
    "jupyter": {
     "outputs_hidden": false
    }
   },
   "outputs": [
    {
     "data": {
      "text/plain": [
       "array([[ 0.99250879,  2.16826872,  1.00749121, ..., -1.83173128,\n",
       "        -0.99250879,  1.83173128],\n",
       "       [ 1.06540544,  2.01985219,  0.93459456, ..., -1.98014781,\n",
       "        -1.06540544,  1.98014781],\n",
       "       [ 0.9053662 ,  2.08040024,  1.0946338 , ..., -1.91959976,\n",
       "        -0.9053662 ,  1.91959976],\n",
       "       ...,\n",
       "       [ 0.99305176,  1.81433989,  1.00694824, ..., -2.18566011,\n",
       "        -0.99305176,  2.18566011],\n",
       "       [ 0.95452977,  2.191537  ,  1.04547023, ..., -1.808463  ,\n",
       "        -0.95452977,  1.808463  ],\n",
       "       [ 0.95079799,  1.82566858,  1.04920201, ..., -2.17433142,\n",
       "        -0.95079799,  2.17433142]])"
      ]
     },
     "execution_count": 17,
     "metadata": {},
     "output_type": "execute_result"
    }
   ],
   "source": [
    "bone_data.reshape(NUM_SAMPLES, -1)"
   ]
  },
  {
   "cell_type": "code",
   "execution_count": 18,
   "id": "813c85bbb1028d41",
   "metadata": {
    "ExecuteTime": {
     "end_time": "2023-12-26T19:02:25.134775Z",
     "start_time": "2023-12-26T19:02:25.127436Z"
    },
    "collapsed": false,
    "jupyter": {
     "outputs_hidden": false
    }
   },
   "outputs": [
    {
     "data": {
      "text/plain": [
       "array([[ 0.97133985,  3.08129015,  1.02866015, ...,  1.08129015,\n",
       "        -0.97133985,  2.91870985],\n",
       "       [ 0.95565595,  3.05962344,  1.04434405, ...,  1.05962344,\n",
       "        -0.95565595,  2.94037656],\n",
       "       [ 1.07667753,  3.05821188,  0.92332247, ...,  1.05821188,\n",
       "        -1.07667753,  2.94178812],\n",
       "       ...,\n",
       "       [ 0.96192787,  2.98159883,  1.03807213, ...,  0.98159883,\n",
       "        -0.96192787,  3.01840117],\n",
       "       [ 0.92757421,  2.9937219 ,  1.07242579, ...,  0.9937219 ,\n",
       "        -0.92757421,  3.0062781 ],\n",
       "       [ 1.00421164,  2.93156576,  0.99578836, ...,  0.93156576,\n",
       "        -1.00421164,  3.06843424]])"
      ]
     },
     "execution_count": 18,
     "metadata": {},
     "output_type": "execute_result"
    }
   ],
   "source": [
    "tooth_data.reshape(NUM_SAMPLES, -1)"
   ]
  },
  {
   "cell_type": "code",
   "execution_count": 19,
   "id": "9636c44913421e0b",
   "metadata": {
    "ExecuteTime": {
     "end_time": "2023-12-26T19:02:25.139059Z",
     "start_time": "2023-12-26T19:02:25.130586Z"
    },
    "collapsed": false,
    "jupyter": {
     "outputs_hidden": false
    }
   },
   "outputs": [],
   "source": [
    "\n",
    "input_set = np.append(bone_data.reshape(NUM_SAMPLES, -1), tooth_data.reshape(NUM_SAMPLES,-1), axis=1)"
   ]
  },
  {
   "cell_type": "code",
   "execution_count": 20,
   "id": "38d0eb4c24e5576d",
   "metadata": {
    "ExecuteTime": {
     "end_time": "2023-12-26T19:02:25.141146Z",
     "start_time": "2023-12-26T19:02:25.133454Z"
    },
    "collapsed": false,
    "jupyter": {
     "outputs_hidden": false
    }
   },
   "outputs": [
    {
     "data": {
      "text/plain": [
       "array([[ 0.99250879,  2.16826872,  1.00749121, ...,  1.08129015,\n",
       "        -0.97133985,  2.91870985],\n",
       "       [ 1.06540544,  2.01985219,  0.93459456, ...,  1.05962344,\n",
       "        -0.95565595,  2.94037656],\n",
       "       [ 0.9053662 ,  2.08040024,  1.0946338 , ...,  1.05821188,\n",
       "        -1.07667753,  2.94178812],\n",
       "       ...,\n",
       "       [ 0.99305176,  1.81433989,  1.00694824, ...,  0.98159883,\n",
       "        -0.96192787,  3.01840117],\n",
       "       [ 0.95452977,  2.191537  ,  1.04547023, ...,  0.9937219 ,\n",
       "        -0.92757421,  3.0062781 ],\n",
       "       [ 0.95079799,  1.82566858,  1.04920201, ...,  0.93156576,\n",
       "        -1.00421164,  3.06843424]])"
      ]
     },
     "execution_count": 20,
     "metadata": {},
     "output_type": "execute_result"
    }
   ],
   "source": [
    "input_set"
   ]
  },
  {
   "cell_type": "code",
   "execution_count": 21,
   "id": "1d5a1e314de903a3",
   "metadata": {
    "ExecuteTime": {
     "end_time": "2023-12-26T19:02:25.141937Z",
     "start_time": "2023-12-26T19:02:25.137588Z"
    },
    "collapsed": false,
    "jupyter": {
     "outputs_hidden": false
    }
   },
   "outputs": [],
   "source": [
    "output_set = np.append(bone_centers, teeth_centers, axis=1)"
   ]
  },
  {
   "cell_type": "code",
   "execution_count": 22,
   "id": "fb30716cb1fb28ca",
   "metadata": {
    "ExecuteTime": {
     "end_time": "2023-12-26T19:02:25.161511Z",
     "start_time": "2023-12-26T19:02:25.144046Z"
    },
    "collapsed": false,
    "jupyter": {
     "outputs_hidden": false
    }
   },
   "outputs": [
    {
     "data": {
      "text/plain": [
       "array([[ 0.00000000e+00, -6.66666667e-01, -2.77555756e-17,\n",
       "         2.00000000e+00],\n",
       "       [ 0.00000000e+00, -6.66666667e-01, -2.77555756e-17,\n",
       "         2.00000000e+00],\n",
       "       [-2.77555756e-17, -6.66666667e-01, -5.55111512e-17,\n",
       "         2.00000000e+00],\n",
       "       ...,\n",
       "       [ 0.00000000e+00, -6.66666667e-01,  0.00000000e+00,\n",
       "         2.00000000e+00],\n",
       "       [ 2.77555756e-17, -6.66666667e-01,  0.00000000e+00,\n",
       "         2.00000000e+00],\n",
       "       [ 0.00000000e+00, -6.66666667e-01,  5.55111512e-17,\n",
       "         2.00000000e+00]])"
      ]
     },
     "execution_count": 22,
     "metadata": {},
     "output_type": "execute_result"
    }
   ],
   "source": [
    "output_set"
   ]
  },
  {
   "cell_type": "code",
   "execution_count": 23,
   "id": "77d06072e2336f65",
   "metadata": {
    "ExecuteTime": {
     "end_time": "2023-12-26T19:05:46.119894Z",
     "start_time": "2023-12-26T19:05:46.116095Z"
    },
    "collapsed": false,
    "jupyter": {
     "outputs_hidden": false
    }
   },
   "outputs": [],
   "source": [
    "import pandas as pd\n",
    "input_data = pd.DataFrame(input_set)\n",
    "output_data = pd.DataFrame(output_set)"
   ]
  },
  {
   "cell_type": "code",
   "execution_count": 24,
   "id": "ab28f992e291ec9c",
   "metadata": {
    "ExecuteTime": {
     "end_time": "2023-12-26T19:05:46.808859Z",
     "start_time": "2023-12-26T19:05:46.806167Z"
    },
    "collapsed": false,
    "jupyter": {
     "outputs_hidden": false
    }
   },
   "outputs": [],
   "source": [
    "input_data.to_pickle(\"input.pkl\")\n",
    "output_data.to_pickle(\"output.pkl\")"
   ]
  },
  {
   "cell_type": "code",
   "execution_count": 25,
   "id": "d01144f9d6e230ea",
   "metadata": {
    "collapsed": false,
    "jupyter": {
     "outputs_hidden": false
    }
   },
   "outputs": [
    {
     "data": {
      "text/html": [
       "<div>\n",
       "<style scoped>\n",
       "    .dataframe tbody tr th:only-of-type {\n",
       "        vertical-align: middle;\n",
       "    }\n",
       "\n",
       "    .dataframe tbody tr th {\n",
       "        vertical-align: top;\n",
       "    }\n",
       "\n",
       "    .dataframe thead th {\n",
       "        text-align: right;\n",
       "    }\n",
       "</style>\n",
       "<table border=\"1\" class=\"dataframe\">\n",
       "  <thead>\n",
       "    <tr style=\"text-align: right;\">\n",
       "      <th></th>\n",
       "      <th>0</th>\n",
       "      <th>1</th>\n",
       "      <th>2</th>\n",
       "      <th>3</th>\n",
       "      <th>4</th>\n",
       "      <th>5</th>\n",
       "      <th>6</th>\n",
       "      <th>7</th>\n",
       "      <th>8</th>\n",
       "      <th>9</th>\n",
       "      <th>10</th>\n",
       "      <th>11</th>\n",
       "      <th>12</th>\n",
       "      <th>13</th>\n",
       "      <th>14</th>\n",
       "      <th>15</th>\n",
       "    </tr>\n",
       "  </thead>\n",
       "  <tbody>\n",
       "    <tr>\n",
       "      <th>0</th>\n",
       "      <td>0.992509</td>\n",
       "      <td>2.168269</td>\n",
       "      <td>1.007491</td>\n",
       "      <td>-2.168269</td>\n",
       "      <td>-1.007491</td>\n",
       "      <td>-1.831731</td>\n",
       "      <td>-0.992509</td>\n",
       "      <td>1.831731</td>\n",
       "      <td>0.971340</td>\n",
       "      <td>3.081290</td>\n",
       "      <td>1.028660</td>\n",
       "      <td>0.918710</td>\n",
       "      <td>-1.028660</td>\n",
       "      <td>1.081290</td>\n",
       "      <td>-0.971340</td>\n",
       "      <td>2.918710</td>\n",
       "    </tr>\n",
       "    <tr>\n",
       "      <th>1</th>\n",
       "      <td>1.065405</td>\n",
       "      <td>2.019852</td>\n",
       "      <td>0.934595</td>\n",
       "      <td>-2.019852</td>\n",
       "      <td>-0.934595</td>\n",
       "      <td>-1.980148</td>\n",
       "      <td>-1.065405</td>\n",
       "      <td>1.980148</td>\n",
       "      <td>0.955656</td>\n",
       "      <td>3.059623</td>\n",
       "      <td>1.044344</td>\n",
       "      <td>0.940377</td>\n",
       "      <td>-1.044344</td>\n",
       "      <td>1.059623</td>\n",
       "      <td>-0.955656</td>\n",
       "      <td>2.940377</td>\n",
       "    </tr>\n",
       "    <tr>\n",
       "      <th>2</th>\n",
       "      <td>0.905366</td>\n",
       "      <td>2.080400</td>\n",
       "      <td>1.094634</td>\n",
       "      <td>-2.080400</td>\n",
       "      <td>-1.094634</td>\n",
       "      <td>-1.919600</td>\n",
       "      <td>-0.905366</td>\n",
       "      <td>1.919600</td>\n",
       "      <td>1.076678</td>\n",
       "      <td>3.058212</td>\n",
       "      <td>0.923322</td>\n",
       "      <td>0.941788</td>\n",
       "      <td>-0.923322</td>\n",
       "      <td>1.058212</td>\n",
       "      <td>-1.076678</td>\n",
       "      <td>2.941788</td>\n",
       "    </tr>\n",
       "    <tr>\n",
       "      <th>3</th>\n",
       "      <td>0.972741</td>\n",
       "      <td>1.917176</td>\n",
       "      <td>1.027259</td>\n",
       "      <td>-1.917176</td>\n",
       "      <td>-1.027259</td>\n",
       "      <td>-2.082824</td>\n",
       "      <td>-0.972741</td>\n",
       "      <td>2.082824</td>\n",
       "      <td>0.904411</td>\n",
       "      <td>3.039489</td>\n",
       "      <td>1.095589</td>\n",
       "      <td>0.960511</td>\n",
       "      <td>-1.095589</td>\n",
       "      <td>1.039489</td>\n",
       "      <td>-0.904411</td>\n",
       "      <td>2.960511</td>\n",
       "    </tr>\n",
       "    <tr>\n",
       "      <th>4</th>\n",
       "      <td>1.085864</td>\n",
       "      <td>2.022899</td>\n",
       "      <td>0.914136</td>\n",
       "      <td>-2.022899</td>\n",
       "      <td>-0.914136</td>\n",
       "      <td>-1.977101</td>\n",
       "      <td>-1.085864</td>\n",
       "      <td>1.977101</td>\n",
       "      <td>0.989150</td>\n",
       "      <td>2.920222</td>\n",
       "      <td>1.010850</td>\n",
       "      <td>1.079778</td>\n",
       "      <td>-1.010850</td>\n",
       "      <td>0.920222</td>\n",
       "      <td>-0.989150</td>\n",
       "      <td>3.079778</td>\n",
       "    </tr>\n",
       "    <tr>\n",
       "      <th>...</th>\n",
       "      <td>...</td>\n",
       "      <td>...</td>\n",
       "      <td>...</td>\n",
       "      <td>...</td>\n",
       "      <td>...</td>\n",
       "      <td>...</td>\n",
       "      <td>...</td>\n",
       "      <td>...</td>\n",
       "      <td>...</td>\n",
       "      <td>...</td>\n",
       "      <td>...</td>\n",
       "      <td>...</td>\n",
       "      <td>...</td>\n",
       "      <td>...</td>\n",
       "      <td>...</td>\n",
       "      <td>...</td>\n",
       "    </tr>\n",
       "    <tr>\n",
       "      <th>995</th>\n",
       "      <td>1.054787</td>\n",
       "      <td>1.817858</td>\n",
       "      <td>0.945213</td>\n",
       "      <td>-1.817858</td>\n",
       "      <td>-0.945213</td>\n",
       "      <td>-2.182142</td>\n",
       "      <td>-1.054787</td>\n",
       "      <td>2.182142</td>\n",
       "      <td>1.095665</td>\n",
       "      <td>3.006984</td>\n",
       "      <td>0.904335</td>\n",
       "      <td>0.993016</td>\n",
       "      <td>-0.904335</td>\n",
       "      <td>1.006984</td>\n",
       "      <td>-1.095665</td>\n",
       "      <td>2.993016</td>\n",
       "    </tr>\n",
       "    <tr>\n",
       "      <th>996</th>\n",
       "      <td>1.027045</td>\n",
       "      <td>2.141205</td>\n",
       "      <td>0.972955</td>\n",
       "      <td>-2.141205</td>\n",
       "      <td>-0.972955</td>\n",
       "      <td>-1.858795</td>\n",
       "      <td>-1.027045</td>\n",
       "      <td>1.858795</td>\n",
       "      <td>1.067019</td>\n",
       "      <td>3.000774</td>\n",
       "      <td>0.932981</td>\n",
       "      <td>0.999226</td>\n",
       "      <td>-0.932981</td>\n",
       "      <td>1.000774</td>\n",
       "      <td>-1.067019</td>\n",
       "      <td>2.999226</td>\n",
       "    </tr>\n",
       "    <tr>\n",
       "      <th>997</th>\n",
       "      <td>0.993052</td>\n",
       "      <td>1.814340</td>\n",
       "      <td>1.006948</td>\n",
       "      <td>-1.814340</td>\n",
       "      <td>-1.006948</td>\n",
       "      <td>-2.185660</td>\n",
       "      <td>-0.993052</td>\n",
       "      <td>2.185660</td>\n",
       "      <td>0.961928</td>\n",
       "      <td>2.981599</td>\n",
       "      <td>1.038072</td>\n",
       "      <td>1.018401</td>\n",
       "      <td>-1.038072</td>\n",
       "      <td>0.981599</td>\n",
       "      <td>-0.961928</td>\n",
       "      <td>3.018401</td>\n",
       "    </tr>\n",
       "    <tr>\n",
       "      <th>998</th>\n",
       "      <td>0.954530</td>\n",
       "      <td>2.191537</td>\n",
       "      <td>1.045470</td>\n",
       "      <td>-2.191537</td>\n",
       "      <td>-1.045470</td>\n",
       "      <td>-1.808463</td>\n",
       "      <td>-0.954530</td>\n",
       "      <td>1.808463</td>\n",
       "      <td>0.927574</td>\n",
       "      <td>2.993722</td>\n",
       "      <td>1.072426</td>\n",
       "      <td>1.006278</td>\n",
       "      <td>-1.072426</td>\n",
       "      <td>0.993722</td>\n",
       "      <td>-0.927574</td>\n",
       "      <td>3.006278</td>\n",
       "    </tr>\n",
       "    <tr>\n",
       "      <th>999</th>\n",
       "      <td>0.950798</td>\n",
       "      <td>1.825669</td>\n",
       "      <td>1.049202</td>\n",
       "      <td>-1.825669</td>\n",
       "      <td>-1.049202</td>\n",
       "      <td>-2.174331</td>\n",
       "      <td>-0.950798</td>\n",
       "      <td>2.174331</td>\n",
       "      <td>1.004212</td>\n",
       "      <td>2.931566</td>\n",
       "      <td>0.995788</td>\n",
       "      <td>1.068434</td>\n",
       "      <td>-0.995788</td>\n",
       "      <td>0.931566</td>\n",
       "      <td>-1.004212</td>\n",
       "      <td>3.068434</td>\n",
       "    </tr>\n",
       "  </tbody>\n",
       "</table>\n",
       "<p>1000 rows × 16 columns</p>\n",
       "</div>"
      ],
      "text/plain": [
       "           0         1         2         3         4         5         6   \\\n",
       "0    0.992509  2.168269  1.007491 -2.168269 -1.007491 -1.831731 -0.992509   \n",
       "1    1.065405  2.019852  0.934595 -2.019852 -0.934595 -1.980148 -1.065405   \n",
       "2    0.905366  2.080400  1.094634 -2.080400 -1.094634 -1.919600 -0.905366   \n",
       "3    0.972741  1.917176  1.027259 -1.917176 -1.027259 -2.082824 -0.972741   \n",
       "4    1.085864  2.022899  0.914136 -2.022899 -0.914136 -1.977101 -1.085864   \n",
       "..        ...       ...       ...       ...       ...       ...       ...   \n",
       "995  1.054787  1.817858  0.945213 -1.817858 -0.945213 -2.182142 -1.054787   \n",
       "996  1.027045  2.141205  0.972955 -2.141205 -0.972955 -1.858795 -1.027045   \n",
       "997  0.993052  1.814340  1.006948 -1.814340 -1.006948 -2.185660 -0.993052   \n",
       "998  0.954530  2.191537  1.045470 -2.191537 -1.045470 -1.808463 -0.954530   \n",
       "999  0.950798  1.825669  1.049202 -1.825669 -1.049202 -2.174331 -0.950798   \n",
       "\n",
       "           7         8         9         10        11        12        13  \\\n",
       "0    1.831731  0.971340  3.081290  1.028660  0.918710 -1.028660  1.081290   \n",
       "1    1.980148  0.955656  3.059623  1.044344  0.940377 -1.044344  1.059623   \n",
       "2    1.919600  1.076678  3.058212  0.923322  0.941788 -0.923322  1.058212   \n",
       "3    2.082824  0.904411  3.039489  1.095589  0.960511 -1.095589  1.039489   \n",
       "4    1.977101  0.989150  2.920222  1.010850  1.079778 -1.010850  0.920222   \n",
       "..        ...       ...       ...       ...       ...       ...       ...   \n",
       "995  2.182142  1.095665  3.006984  0.904335  0.993016 -0.904335  1.006984   \n",
       "996  1.858795  1.067019  3.000774  0.932981  0.999226 -0.932981  1.000774   \n",
       "997  2.185660  0.961928  2.981599  1.038072  1.018401 -1.038072  0.981599   \n",
       "998  1.808463  0.927574  2.993722  1.072426  1.006278 -1.072426  0.993722   \n",
       "999  2.174331  1.004212  2.931566  0.995788  1.068434 -0.995788  0.931566   \n",
       "\n",
       "           14        15  \n",
       "0   -0.971340  2.918710  \n",
       "1   -0.955656  2.940377  \n",
       "2   -1.076678  2.941788  \n",
       "3   -0.904411  2.960511  \n",
       "4   -0.989150  3.079778  \n",
       "..        ...       ...  \n",
       "995 -1.095665  2.993016  \n",
       "996 -1.067019  2.999226  \n",
       "997 -0.961928  3.018401  \n",
       "998 -0.927574  3.006278  \n",
       "999 -1.004212  3.068434  \n",
       "\n",
       "[1000 rows x 16 columns]"
      ]
     },
     "execution_count": 25,
     "metadata": {},
     "output_type": "execute_result"
    }
   ],
   "source": [
    "input_data"
   ]
  },
  {
   "cell_type": "code",
   "execution_count": 26,
   "id": "7613145c-afe7-40ff-8d7c-4cbd017f417e",
   "metadata": {},
   "outputs": [
    {
     "data": {
      "text/html": [
       "<div>\n",
       "<style scoped>\n",
       "    .dataframe tbody tr th:only-of-type {\n",
       "        vertical-align: middle;\n",
       "    }\n",
       "\n",
       "    .dataframe tbody tr th {\n",
       "        vertical-align: top;\n",
       "    }\n",
       "\n",
       "    .dataframe thead th {\n",
       "        text-align: right;\n",
       "    }\n",
       "</style>\n",
       "<table border=\"1\" class=\"dataframe\">\n",
       "  <thead>\n",
       "    <tr style=\"text-align: right;\">\n",
       "      <th></th>\n",
       "      <th>0</th>\n",
       "      <th>1</th>\n",
       "      <th>2</th>\n",
       "      <th>3</th>\n",
       "    </tr>\n",
       "  </thead>\n",
       "  <tbody>\n",
       "    <tr>\n",
       "      <th>0</th>\n",
       "      <td>0.000000e+00</td>\n",
       "      <td>-0.666667</td>\n",
       "      <td>-2.775558e-17</td>\n",
       "      <td>2.0</td>\n",
       "    </tr>\n",
       "    <tr>\n",
       "      <th>1</th>\n",
       "      <td>0.000000e+00</td>\n",
       "      <td>-0.666667</td>\n",
       "      <td>-2.775558e-17</td>\n",
       "      <td>2.0</td>\n",
       "    </tr>\n",
       "    <tr>\n",
       "      <th>2</th>\n",
       "      <td>-2.775558e-17</td>\n",
       "      <td>-0.666667</td>\n",
       "      <td>-5.551115e-17</td>\n",
       "      <td>2.0</td>\n",
       "    </tr>\n",
       "    <tr>\n",
       "      <th>3</th>\n",
       "      <td>0.000000e+00</td>\n",
       "      <td>-0.666667</td>\n",
       "      <td>2.775558e-17</td>\n",
       "      <td>2.0</td>\n",
       "    </tr>\n",
       "    <tr>\n",
       "      <th>4</th>\n",
       "      <td>5.551115e-17</td>\n",
       "      <td>-0.666667</td>\n",
       "      <td>0.000000e+00</td>\n",
       "      <td>2.0</td>\n",
       "    </tr>\n",
       "    <tr>\n",
       "      <th>...</th>\n",
       "      <td>...</td>\n",
       "      <td>...</td>\n",
       "      <td>...</td>\n",
       "      <td>...</td>\n",
       "    </tr>\n",
       "    <tr>\n",
       "      <th>995</th>\n",
       "      <td>5.551115e-17</td>\n",
       "      <td>-0.666667</td>\n",
       "      <td>5.551115e-17</td>\n",
       "      <td>2.0</td>\n",
       "    </tr>\n",
       "    <tr>\n",
       "      <th>996</th>\n",
       "      <td>0.000000e+00</td>\n",
       "      <td>-0.666667</td>\n",
       "      <td>0.000000e+00</td>\n",
       "      <td>2.0</td>\n",
       "    </tr>\n",
       "    <tr>\n",
       "      <th>997</th>\n",
       "      <td>0.000000e+00</td>\n",
       "      <td>-0.666667</td>\n",
       "      <td>0.000000e+00</td>\n",
       "      <td>2.0</td>\n",
       "    </tr>\n",
       "    <tr>\n",
       "      <th>998</th>\n",
       "      <td>2.775558e-17</td>\n",
       "      <td>-0.666667</td>\n",
       "      <td>0.000000e+00</td>\n",
       "      <td>2.0</td>\n",
       "    </tr>\n",
       "    <tr>\n",
       "      <th>999</th>\n",
       "      <td>0.000000e+00</td>\n",
       "      <td>-0.666667</td>\n",
       "      <td>5.551115e-17</td>\n",
       "      <td>2.0</td>\n",
       "    </tr>\n",
       "  </tbody>\n",
       "</table>\n",
       "<p>1000 rows × 4 columns</p>\n",
       "</div>"
      ],
      "text/plain": [
       "                0         1             2    3\n",
       "0    0.000000e+00 -0.666667 -2.775558e-17  2.0\n",
       "1    0.000000e+00 -0.666667 -2.775558e-17  2.0\n",
       "2   -2.775558e-17 -0.666667 -5.551115e-17  2.0\n",
       "3    0.000000e+00 -0.666667  2.775558e-17  2.0\n",
       "4    5.551115e-17 -0.666667  0.000000e+00  2.0\n",
       "..            ...       ...           ...  ...\n",
       "995  5.551115e-17 -0.666667  5.551115e-17  2.0\n",
       "996  0.000000e+00 -0.666667  0.000000e+00  2.0\n",
       "997  0.000000e+00 -0.666667  0.000000e+00  2.0\n",
       "998  2.775558e-17 -0.666667  0.000000e+00  2.0\n",
       "999  0.000000e+00 -0.666667  5.551115e-17  2.0\n",
       "\n",
       "[1000 rows x 4 columns]"
      ]
     },
     "execution_count": 26,
     "metadata": {},
     "output_type": "execute_result"
    }
   ],
   "source": [
    "output_data"
   ]
  },
  {
   "cell_type": "code",
   "execution_count": null,
   "id": "1a6a18d0-6e5b-401f-a5f5-62df9531d5c1",
   "metadata": {},
   "outputs": [],
   "source": []
  }
 ],
 "metadata": {
  "kernelspec": {
   "display_name": "Python 3 (ipykernel)",
   "language": "python",
   "name": "python3"
  },
  "language_info": {
   "codemirror_mode": {
    "name": "ipython",
    "version": 3
   },
   "file_extension": ".py",
   "mimetype": "text/x-python",
   "name": "python",
   "nbconvert_exporter": "python",
   "pygments_lexer": "ipython3",
   "version": "3.11.6"
  }
 },
 "nbformat": 4,
 "nbformat_minor": 5
}
