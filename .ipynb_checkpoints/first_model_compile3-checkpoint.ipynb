{
 "cells": [
  {
   "attachments": {},
   "cell_type": "markdown",
   "id": "3de550a69617c8cb",
   "metadata": {
    "collapsed": false,
    "jupyter": {
     "outputs_hidden": false
    }
   },
   "source": [
    "# First model\n",
    "\n",
    "This model is the simplest possible model we can think of. Inputs will be the list of points delimiting the bone and tooth area and their squares and cross-products to account for second order contributions.\n",
    "\n",
    "The outputs will be the coordinates of optimal axe.\n",
    "\n",
    "The cost function is the distance of the two points. "
   ]
  },
  {
   "attachments": {},
   "cell_type": "markdown",
   "id": "938aee1480f6e9d0",
   "metadata": {
    "collapsed": false,
    "jupyter": {
     "outputs_hidden": false
    }
   },
   "source": [
    "## First step: load and prepare the datasets\n",
    "\n",
    "Loads the datasets prepared by the `dataset_gen` notebook, then prepare the input by appending all the cross-products."
   ]
  },
  {
   "cell_type": "code",
   "execution_count": 1,
   "id": "cacafe54430c25cc",
   "metadata": {
    "ExecuteTime": {
     "end_time": "2024-01-04T13:17:02.281041Z",
     "start_time": "2024-01-04T13:17:01.964345Z"
    },
    "collapsed": false,
    "jupyter": {
     "outputs_hidden": false
    }
   },
   "outputs": [],
   "source": [
    "import pandas as pd\n",
    "MODEL_NAME='model3'\n",
    "\n",
    "input_dataset = pd.read_pickle(\"input_rot.pkl\")\n",
    "output_dataset = pd.read_pickle(\"output_rot.pkl\")"
   ]
  },
  {
   "cell_type": "code",
   "execution_count": 2,
   "id": "3942eeda3110b9bd",
   "metadata": {
    "ExecuteTime": {
     "end_time": "2024-01-04T13:17:02.292861Z",
     "start_time": "2024-01-04T13:17:02.283008Z"
    },
    "collapsed": false,
    "jupyter": {
     "outputs_hidden": false
    }
   },
   "outputs": [
    {
     "data": {
      "text/html": [
       "<div>\n",
       "<style scoped>\n",
       "    .dataframe tbody tr th:only-of-type {\n",
       "        vertical-align: middle;\n",
       "    }\n",
       "\n",
       "    .dataframe tbody tr th {\n",
       "        vertical-align: top;\n",
       "    }\n",
       "\n",
       "    .dataframe thead th {\n",
       "        text-align: right;\n",
       "    }\n",
       "</style>\n",
       "<table border=\"1\" class=\"dataframe\">\n",
       "  <thead>\n",
       "    <tr style=\"text-align: right;\">\n",
       "      <th></th>\n",
       "      <th>0</th>\n",
       "      <th>1</th>\n",
       "      <th>2</th>\n",
       "      <th>3</th>\n",
       "      <th>4</th>\n",
       "      <th>5</th>\n",
       "      <th>6</th>\n",
       "      <th>7</th>\n",
       "      <th>8</th>\n",
       "      <th>9</th>\n",
       "      <th>10</th>\n",
       "      <th>11</th>\n",
       "      <th>12</th>\n",
       "      <th>13</th>\n",
       "      <th>14</th>\n",
       "      <th>15</th>\n",
       "    </tr>\n",
       "  </thead>\n",
       "  <tbody>\n",
       "    <tr>\n",
       "      <th>0</th>\n",
       "      <td>0.516425</td>\n",
       "      <td>1.904407</td>\n",
       "      <td>2.830124</td>\n",
       "      <td>-1.441737</td>\n",
       "      <td>1.326225</td>\n",
       "      <td>-2.493799</td>\n",
       "      <td>-1.174322</td>\n",
       "      <td>0.549347</td>\n",
       "      <td>-0.698353</td>\n",
       "      <td>3.384424</td>\n",
       "      <td>0.434217</td>\n",
       "      <td>1.870214</td>\n",
       "      <td>-1.092114</td>\n",
       "      <td>0.583540</td>\n",
       "      <td>-2.366667</td>\n",
       "      <td>2.263976</td>\n",
       "    </tr>\n",
       "    <tr>\n",
       "      <th>1</th>\n",
       "      <td>0.190749</td>\n",
       "      <td>2.636898</td>\n",
       "      <td>1.990407</td>\n",
       "      <td>-1.145306</td>\n",
       "      <td>-0.084083</td>\n",
       "      <td>-1.826785</td>\n",
       "      <td>-1.415641</td>\n",
       "      <td>1.752770</td>\n",
       "      <td>-0.374559</td>\n",
       "      <td>4.436448</td>\n",
       "      <td>0.207304</td>\n",
       "      <td>2.576463</td>\n",
       "      <td>-1.432195</td>\n",
       "      <td>1.813204</td>\n",
       "      <td>-2.415939</td>\n",
       "      <td>3.634099</td>\n",
       "    </tr>\n",
       "    <tr>\n",
       "      <th>2</th>\n",
       "      <td>0.763316</td>\n",
       "      <td>2.400042</td>\n",
       "      <td>0.899236</td>\n",
       "      <td>-1.236279</td>\n",
       "      <td>-1.067384</td>\n",
       "      <td>-1.680220</td>\n",
       "      <td>-1.266553</td>\n",
       "      <td>2.676438</td>\n",
       "      <td>0.577066</td>\n",
       "      <td>4.476345</td>\n",
       "      <td>0.834169</td>\n",
       "      <td>2.682152</td>\n",
       "      <td>-1.337407</td>\n",
       "      <td>2.394327</td>\n",
       "      <td>-1.247849</td>\n",
       "      <td>4.596625</td>\n",
       "    </tr>\n",
       "    <tr>\n",
       "      <th>3</th>\n",
       "      <td>2.721627</td>\n",
       "      <td>0.011318</td>\n",
       "      <td>-0.064539</td>\n",
       "      <td>-3.122918</td>\n",
       "      <td>-1.379603</td>\n",
       "      <td>-1.771914</td>\n",
       "      <td>0.969613</td>\n",
       "      <td>1.228005</td>\n",
       "      <td>3.831253</td>\n",
       "      <td>1.451021</td>\n",
       "      <td>2.677371</td>\n",
       "      <td>0.037996</td>\n",
       "      <td>1.013869</td>\n",
       "      <td>1.201328</td>\n",
       "      <td>2.427678</td>\n",
       "      <td>2.855380</td>\n",
       "    </tr>\n",
       "    <tr>\n",
       "      <th>4</th>\n",
       "      <td>1.358551</td>\n",
       "      <td>2.593314</td>\n",
       "      <td>1.815764</td>\n",
       "      <td>-1.247205</td>\n",
       "      <td>0.037793</td>\n",
       "      <td>-1.679343</td>\n",
       "      <td>-0.809907</td>\n",
       "      <td>2.372996</td>\n",
       "      <td>0.934270</td>\n",
       "      <td>4.690807</td>\n",
       "      <td>1.261360</td>\n",
       "      <td>2.574946</td>\n",
       "      <td>-0.712716</td>\n",
       "      <td>2.391365</td>\n",
       "      <td>-1.038083</td>\n",
       "      <td>4.221932</td>\n",
       "    </tr>\n",
       "    <tr>\n",
       "      <th>...</th>\n",
       "      <td>...</td>\n",
       "      <td>...</td>\n",
       "      <td>...</td>\n",
       "      <td>...</td>\n",
       "      <td>...</td>\n",
       "      <td>...</td>\n",
       "      <td>...</td>\n",
       "      <td>...</td>\n",
       "      <td>...</td>\n",
       "      <td>...</td>\n",
       "      <td>...</td>\n",
       "      <td>...</td>\n",
       "      <td>...</td>\n",
       "      <td>...</td>\n",
       "      <td>...</td>\n",
       "      <td>...</td>\n",
       "    </tr>\n",
       "    <tr>\n",
       "      <th>995</th>\n",
       "      <td>-1.561810</td>\n",
       "      <td>2.416841</td>\n",
       "      <td>1.728431</td>\n",
       "      <td>-0.158547</td>\n",
       "      <td>0.361340</td>\n",
       "      <td>-1.620670</td>\n",
       "      <td>-2.655468</td>\n",
       "      <td>0.725439</td>\n",
       "      <td>-2.947575</td>\n",
       "      <td>3.593161</td>\n",
       "      <td>-1.616090</td>\n",
       "      <td>2.356256</td>\n",
       "      <td>-2.601187</td>\n",
       "      <td>0.786025</td>\n",
       "      <td>-4.423227</td>\n",
       "      <td>2.009868</td>\n",
       "    </tr>\n",
       "    <tr>\n",
       "      <th>996</th>\n",
       "      <td>2.516807</td>\n",
       "      <td>1.616279</td>\n",
       "      <td>0.044194</td>\n",
       "      <td>-1.592231</td>\n",
       "      <td>-1.548466</td>\n",
       "      <td>-0.247470</td>\n",
       "      <td>0.992358</td>\n",
       "      <td>2.778237</td>\n",
       "      <td>3.876662</td>\n",
       "      <td>3.173724</td>\n",
       "      <td>2.444416</td>\n",
       "      <td>1.525986</td>\n",
       "      <td>1.064749</td>\n",
       "      <td>2.868529</td>\n",
       "      <td>2.139221</td>\n",
       "      <td>4.337900</td>\n",
       "    </tr>\n",
       "    <tr>\n",
       "      <th>997</th>\n",
       "      <td>-0.266827</td>\n",
       "      <td>2.010331</td>\n",
       "      <td>0.778407</td>\n",
       "      <td>-1.728121</td>\n",
       "      <td>-0.968680</td>\n",
       "      <td>-2.406388</td>\n",
       "      <td>-2.333855</td>\n",
       "      <td>1.483393</td>\n",
       "      <td>-0.849080</td>\n",
       "      <td>3.906419</td>\n",
       "      <td>-0.447146</td>\n",
       "      <td>2.096965</td>\n",
       "      <td>-2.153536</td>\n",
       "      <td>1.396759</td>\n",
       "      <td>-2.956806</td>\n",
       "      <td>3.401421</td>\n",
       "    </tr>\n",
       "    <tr>\n",
       "      <th>998</th>\n",
       "      <td>-0.218928</td>\n",
       "      <td>3.232466</td>\n",
       "      <td>1.253863</td>\n",
       "      <td>-0.662542</td>\n",
       "      <td>-0.875507</td>\n",
       "      <td>-1.191209</td>\n",
       "      <td>-1.891129</td>\n",
       "      <td>2.516926</td>\n",
       "      <td>-0.694903</td>\n",
       "      <td>5.077147</td>\n",
       "      <td>-0.136472</td>\n",
       "      <td>3.195135</td>\n",
       "      <td>-1.973586</td>\n",
       "      <td>2.554258</td>\n",
       "      <td>-2.659362</td>\n",
       "      <td>4.473817</td>\n",
       "    </tr>\n",
       "    <tr>\n",
       "      <th>999</th>\n",
       "      <td>0.212402</td>\n",
       "      <td>2.626018</td>\n",
       "      <td>2.905755</td>\n",
       "      <td>-0.774124</td>\n",
       "      <td>1.318446</td>\n",
       "      <td>-1.707187</td>\n",
       "      <td>-1.224435</td>\n",
       "      <td>0.940964</td>\n",
       "      <td>-1.124529</td>\n",
       "      <td>4.022585</td>\n",
       "      <td>0.315511</td>\n",
       "      <td>2.365529</td>\n",
       "      <td>-1.327544</td>\n",
       "      <td>1.201453</td>\n",
       "      <td>-2.505620</td>\n",
       "      <td>2.568544</td>\n",
       "    </tr>\n",
       "  </tbody>\n",
       "</table>\n",
       "<p>1000 rows × 16 columns</p>\n",
       "</div>"
      ],
      "text/plain": [
       "           0         1         2         3         4         5         6   \\\n",
       "0    0.516425  1.904407  2.830124 -1.441737  1.326225 -2.493799 -1.174322   \n",
       "1    0.190749  2.636898  1.990407 -1.145306 -0.084083 -1.826785 -1.415641   \n",
       "2    0.763316  2.400042  0.899236 -1.236279 -1.067384 -1.680220 -1.266553   \n",
       "3    2.721627  0.011318 -0.064539 -3.122918 -1.379603 -1.771914  0.969613   \n",
       "4    1.358551  2.593314  1.815764 -1.247205  0.037793 -1.679343 -0.809907   \n",
       "..        ...       ...       ...       ...       ...       ...       ...   \n",
       "995 -1.561810  2.416841  1.728431 -0.158547  0.361340 -1.620670 -2.655468   \n",
       "996  2.516807  1.616279  0.044194 -1.592231 -1.548466 -0.247470  0.992358   \n",
       "997 -0.266827  2.010331  0.778407 -1.728121 -0.968680 -2.406388 -2.333855   \n",
       "998 -0.218928  3.232466  1.253863 -0.662542 -0.875507 -1.191209 -1.891129   \n",
       "999  0.212402  2.626018  2.905755 -0.774124  1.318446 -1.707187 -1.224435   \n",
       "\n",
       "           7         8         9         10        11        12        13  \\\n",
       "0    0.549347 -0.698353  3.384424  0.434217  1.870214 -1.092114  0.583540   \n",
       "1    1.752770 -0.374559  4.436448  0.207304  2.576463 -1.432195  1.813204   \n",
       "2    2.676438  0.577066  4.476345  0.834169  2.682152 -1.337407  2.394327   \n",
       "3    1.228005  3.831253  1.451021  2.677371  0.037996  1.013869  1.201328   \n",
       "4    2.372996  0.934270  4.690807  1.261360  2.574946 -0.712716  2.391365   \n",
       "..        ...       ...       ...       ...       ...       ...       ...   \n",
       "995  0.725439 -2.947575  3.593161 -1.616090  2.356256 -2.601187  0.786025   \n",
       "996  2.778237  3.876662  3.173724  2.444416  1.525986  1.064749  2.868529   \n",
       "997  1.483393 -0.849080  3.906419 -0.447146  2.096965 -2.153536  1.396759   \n",
       "998  2.516926 -0.694903  5.077147 -0.136472  3.195135 -1.973586  2.554258   \n",
       "999  0.940964 -1.124529  4.022585  0.315511  2.365529 -1.327544  1.201453   \n",
       "\n",
       "           14        15  \n",
       "0   -2.366667  2.263976  \n",
       "1   -2.415939  3.634099  \n",
       "2   -1.247849  4.596625  \n",
       "3    2.427678  2.855380  \n",
       "4   -1.038083  4.221932  \n",
       "..        ...       ...  \n",
       "995 -4.423227  2.009868  \n",
       "996  2.139221  4.337900  \n",
       "997 -2.956806  3.401421  \n",
       "998 -2.659362  4.473817  \n",
       "999 -2.505620  2.568544  \n",
       "\n",
       "[1000 rows x 16 columns]"
      ]
     },
     "execution_count": 2,
     "metadata": {},
     "output_type": "execute_result"
    }
   ],
   "source": [
    "input_dataset"
   ]
  },
  {
   "cell_type": "code",
   "execution_count": 3,
   "id": "6ccf8c558c383b94",
   "metadata": {
    "ExecuteTime": {
     "end_time": "2024-01-04T13:17:02.298605Z",
     "start_time": "2024-01-04T13:17:02.295753Z"
    },
    "collapsed": false,
    "jupyter": {
     "outputs_hidden": false
    }
   },
   "outputs": [
    {
     "data": {
      "text/html": [
       "<div>\n",
       "<style scoped>\n",
       "    .dataframe tbody tr th:only-of-type {\n",
       "        vertical-align: middle;\n",
       "    }\n",
       "\n",
       "    .dataframe tbody tr th {\n",
       "        vertical-align: top;\n",
       "    }\n",
       "\n",
       "    .dataframe thead th {\n",
       "        text-align: right;\n",
       "    }\n",
       "</style>\n",
       "<table border=\"1\" class=\"dataframe\">\n",
       "  <thead>\n",
       "    <tr style=\"text-align: right;\">\n",
       "      <th></th>\n",
       "      <th>0</th>\n",
       "      <th>1</th>\n",
       "      <th>2</th>\n",
       "      <th>3</th>\n",
       "    </tr>\n",
       "  </thead>\n",
       "  <tbody>\n",
       "    <tr>\n",
       "      <th>0</th>\n",
       "      <td>1.275800</td>\n",
       "      <td>-0.902886</td>\n",
       "      <td>-0.930729</td>\n",
       "      <td>2.025539</td>\n",
       "    </tr>\n",
       "    <tr>\n",
       "      <th>1</th>\n",
       "      <td>0.431293</td>\n",
       "      <td>-0.259086</td>\n",
       "      <td>-1.003847</td>\n",
       "      <td>3.115054</td>\n",
       "    </tr>\n",
       "    <tr>\n",
       "      <th>2</th>\n",
       "      <td>-0.139922</td>\n",
       "      <td>-0.126086</td>\n",
       "      <td>-0.293505</td>\n",
       "      <td>3.537362</td>\n",
       "    </tr>\n",
       "    <tr>\n",
       "      <th>3</th>\n",
       "      <td>0.133826</td>\n",
       "      <td>-1.425057</td>\n",
       "      <td>2.487543</td>\n",
       "      <td>1.386431</td>\n",
       "    </tr>\n",
       "    <tr>\n",
       "      <th>4</th>\n",
       "      <td>0.709293</td>\n",
       "      <td>-0.147797</td>\n",
       "      <td>0.111208</td>\n",
       "      <td>3.469762</td>\n",
       "    </tr>\n",
       "    <tr>\n",
       "      <th>...</th>\n",
       "      <td>...</td>\n",
       "      <td>...</td>\n",
       "      <td>...</td>\n",
       "      <td>...</td>\n",
       "    </tr>\n",
       "    <tr>\n",
       "      <th>995</th>\n",
       "      <td>-0.006289</td>\n",
       "      <td>-0.069359</td>\n",
       "      <td>-2.897020</td>\n",
       "      <td>2.186327</td>\n",
       "    </tr>\n",
       "    <tr>\n",
       "      <th>996</th>\n",
       "      <td>0.083437</td>\n",
       "      <td>0.119185</td>\n",
       "      <td>2.381262</td>\n",
       "      <td>2.976535</td>\n",
       "    </tr>\n",
       "    <tr>\n",
       "      <th>997</th>\n",
       "      <td>-0.496871</td>\n",
       "      <td>-0.795882</td>\n",
       "      <td>-1.601642</td>\n",
       "      <td>2.700391</td>\n",
       "    </tr>\n",
       "    <tr>\n",
       "      <th>998</th>\n",
       "      <td>-0.225558</td>\n",
       "      <td>0.340315</td>\n",
       "      <td>-1.366081</td>\n",
       "      <td>3.825089</td>\n",
       "    </tr>\n",
       "    <tr>\n",
       "      <th>999</th>\n",
       "      <td>1.239395</td>\n",
       "      <td>-0.232607</td>\n",
       "      <td>-1.160545</td>\n",
       "      <td>2.539528</td>\n",
       "    </tr>\n",
       "  </tbody>\n",
       "</table>\n",
       "<p>1000 rows × 4 columns</p>\n",
       "</div>"
      ],
      "text/plain": [
       "            0         1         2         3\n",
       "0    1.275800 -0.902886 -0.930729  2.025539\n",
       "1    0.431293 -0.259086 -1.003847  3.115054\n",
       "2   -0.139922 -0.126086 -0.293505  3.537362\n",
       "3    0.133826 -1.425057  2.487543  1.386431\n",
       "4    0.709293 -0.147797  0.111208  3.469762\n",
       "..        ...       ...       ...       ...\n",
       "995 -0.006289 -0.069359 -2.897020  2.186327\n",
       "996  0.083437  0.119185  2.381262  2.976535\n",
       "997 -0.496871 -0.795882 -1.601642  2.700391\n",
       "998 -0.225558  0.340315 -1.366081  3.825089\n",
       "999  1.239395 -0.232607 -1.160545  2.539528\n",
       "\n",
       "[1000 rows x 4 columns]"
      ]
     },
     "execution_count": 3,
     "metadata": {},
     "output_type": "execute_result"
    }
   ],
   "source": [
    "output_dataset"
   ]
  },
  {
   "cell_type": "code",
   "execution_count": 4,
   "id": "24a664ad7b3e6a73",
   "metadata": {
    "ExecuteTime": {
     "end_time": "2024-01-04T13:17:04.126550Z",
     "start_time": "2024-01-04T13:17:02.300115Z"
    },
    "collapsed": false,
    "jupyter": {
     "outputs_hidden": false
    }
   },
   "outputs": [],
   "source": [
    "import numpy as np\n",
    "from typing import Iterator\n",
    "from itertools import permutations\n",
    "\n",
    "\n",
    "def shuffle_points(s: np.ndarray) -> Iterator[np.ndarray]:\n",
    "    for p1 in permutations(range(4)):\n",
    "        for p2 in permutations(range(4, 8)):\n",
    "            yield np.array(\n",
    "                [[s[i * 2], s[i * 2 + 1]] for i in p1] + [[s[i * 2], s[i * 2 + 1]] for i in\n",
    "                                                          p2]).reshape(-1)\n",
    "\n",
    "\n",
    "from utils import add_cross_prods_and_squares\n",
    "\n",
    "\n",
    "def prepare_input(orig: pd.DataFrame) -> Iterator[np.ndarray]:\n",
    "    for row in orig.to_numpy():\n",
    "        yield from shuffle_points(row)\n",
    "        "
   ]
  },
  {
   "cell_type": "code",
   "execution_count": 6,
   "id": "da1142f683bdc59b",
   "metadata": {
    "ExecuteTime": {
     "end_time": "2024-01-04T13:17:05.904147Z",
     "start_time": "2024-01-04T13:17:04.179806Z"
    },
    "collapsed": false,
    "jupyter": {
     "outputs_hidden": false
    }
   },
   "outputs": [],
   "source": [
    "prepared_input = np.array([r for r in prepare_input(input_dataset)])"
   ]
  },
  {
   "cell_type": "code",
   "execution_count": 7,
   "id": "89c8133e814e381c",
   "metadata": {
    "ExecuteTime": {
     "end_time": "2024-01-04T13:17:05.910006Z",
     "start_time": "2024-01-04T13:17:05.905153Z"
    },
    "collapsed": false,
    "jupyter": {
     "outputs_hidden": false
    }
   },
   "outputs": [
    {
     "data": {
      "text/plain": [
       "array([[ 0.51642464,  1.90440743,  2.83012391, ...,  0.58354019,\n",
       "        -2.36666665,  2.26397571],\n",
       "       [ 0.51642464,  1.90440743,  2.83012391, ...,  2.26397571,\n",
       "        -1.09211448,  0.58354019],\n",
       "       [ 0.51642464,  1.90440743,  2.83012391, ...,  1.87021435,\n",
       "        -2.36666665,  2.26397571],\n",
       "       ...,\n",
       "       [-1.22443494,  0.94096412,  1.3184459 , ...,  1.20145349,\n",
       "        -1.12452884,  4.02258534],\n",
       "       [-1.22443494,  0.94096412,  1.3184459 , ...,  4.02258534,\n",
       "         0.31551138,  2.36552864],\n",
       "       [-1.22443494,  0.94096412,  1.3184459 , ...,  2.36552864,\n",
       "        -1.12452884,  4.02258534]])"
      ]
     },
     "execution_count": 7,
     "metadata": {},
     "output_type": "execute_result"
    }
   ],
   "source": [
    "prepared_input"
   ]
  },
  {
   "cell_type": "code",
   "execution_count": 8,
   "id": "161c70ae2d26f93",
   "metadata": {
    "ExecuteTime": {
     "end_time": "2024-01-04T13:17:05.910496Z",
     "start_time": "2024-01-04T13:17:05.908204Z"
    },
    "collapsed": false,
    "jupyter": {
     "outputs_hidden": false
    }
   },
   "outputs": [
    {
     "data": {
      "text/plain": [
       "16"
      ]
     },
     "execution_count": 8,
     "metadata": {},
     "output_type": "execute_result"
    }
   ],
   "source": [
    "input_dim = prepared_input.shape[1]\n",
    "input_dim"
   ]
  },
  {
   "cell_type": "code",
   "execution_count": 9,
   "id": "2a1f4c43038deaf2",
   "metadata": {
    "ExecuteTime": {
     "end_time": "2024-01-04T13:17:05.917708Z",
     "start_time": "2024-01-04T13:17:05.911458Z"
    },
    "collapsed": false,
    "jupyter": {
     "outputs_hidden": false
    }
   },
   "outputs": [
    {
     "data": {
      "text/plain": [
       "(1000, 4)"
      ]
     },
     "metadata": {},
     "output_type": "display_data"
    },
    {
     "data": {
      "text/plain": [
       "(576000, 4)"
      ]
     },
     "metadata": {},
     "output_type": "display_data"
    },
    {
     "data": {
      "text/plain": [
       "4"
      ]
     },
     "metadata": {},
     "output_type": "display_data"
    }
   ],
   "source": [
    "prepared_output = output_dataset.to_numpy()\n",
    "display(prepared_output.shape)\n",
    "prepared_output = np.repeat(prepared_output,\n",
    "                            repeats=prepared_input.shape[0] / prepared_output.shape[0], axis=0)\n",
    "output_dim = prepared_output.shape[1]\n",
    "display(prepared_output.shape)\n",
    "display(output_dim)"
   ]
  },
  {
   "attachments": {},
   "cell_type": "markdown",
   "id": "7a9910db0546cafb",
   "metadata": {
    "collapsed": false,
    "jupyter": {
     "outputs_hidden": false
    }
   },
   "source": [
    "## Now prepare the network\n",
    "\n",
    "Only one layer with linear output."
   ]
  },
  {
   "cell_type": "code",
   "execution_count": 32,
   "id": "a3d598692958d159",
   "metadata": {
    "ExecuteTime": {
     "end_time": "2024-01-04T13:17:06.193331Z",
     "start_time": "2024-01-04T13:17:05.918133Z"
    },
    "collapsed": false,
    "jupyter": {
     "outputs_hidden": false
    }
   },
   "outputs": [],
   "source": [
    "import tensorflow as tf\n",
    "import tensorflow.keras.layers as layers\n",
    "from utils import CrossProductLayer\n",
    "\n",
    "input_layer = tf.keras.layers.Input(input_dim)\n",
    "xcross_layer = CrossProductLayer()(input_layer)\n",
    "rpt_layeer = layers.RepeatVector(2)(xcross_layer)\n",
    "soft_layer = layers.LeakyReLU()(rpt_layeer[:,1])\n",
    "output_3_layer=layers.Dense(units=64)(soft_layer)\n",
    "output_4_layer=layers.LeakyReLU()(output_3_layer)\n",
    "output_2_layer=layers.Concatenate(axis=1)([rpt_layeer[:,0],output_4_layer])\n",
    "\n",
    "output_layer=layers.Dense(units=output_dim)(output_2_layer)\n",
    "model = tf.keras.models.Model(input_layer, output_layer)"
   ]
  },
  {
   "cell_type": "code",
   "execution_count": 33,
   "id": "bbdf6e6cf77ba8ea",
   "metadata": {
    "ExecuteTime": {
     "end_time": "2024-01-04T13:17:06.201725Z",
     "start_time": "2024-01-04T13:17:06.196039Z"
    },
    "collapsed": false,
    "jupyter": {
     "outputs_hidden": false
    }
   },
   "outputs": [
    {
     "name": "stdout",
     "output_type": "stream",
     "text": [
      "Model: \"model_3\"\n",
      "__________________________________________________________________________________________________\n",
      " Layer (type)                Output Shape                 Param #   Connected to                  \n",
      "==================================================================================================\n",
      " input_5 (InputLayer)        [(None, 16)]                 0         []                            \n",
      "                                                                                                  \n",
      " cross_product_layer_4 (Cro  (None, 152)                  152       ['input_5[0][0]']             \n",
      " ssProductLayer)                                                                                  \n",
      "                                                                                                  \n",
      " repeat_vector_3 (RepeatVec  (None, 2, 152)               0         ['cross_product_layer_4[0][0]'\n",
      " tor)                                                               ]                             \n",
      "                                                                                                  \n",
      " tf.__operators__.getitem_5  (None, 152)                  0         ['repeat_vector_3[0][0]']     \n",
      "  (SlicingOpLambda)                                                                               \n",
      "                                                                                                  \n",
      " leaky_re_lu_2 (LeakyReLU)   (None, 152)                  0         ['tf.__operators__.getitem_5[0\n",
      "                                                                    ][0]']                        \n",
      "                                                                                                  \n",
      " dense_3 (Dense)             (None, 64)                   9792      ['leaky_re_lu_2[0][0]']       \n",
      "                                                                                                  \n",
      " tf.__operators__.getitem_6  (None, 152)                  0         ['repeat_vector_3[0][0]']     \n",
      "  (SlicingOpLambda)                                                                               \n",
      "                                                                                                  \n",
      " leaky_re_lu_3 (LeakyReLU)   (None, 64)                   0         ['dense_3[0][0]']             \n",
      "                                                                                                  \n",
      " concatenate_2 (Concatenate  (None, 216)                  0         ['tf.__operators__.getitem_6[0\n",
      " )                                                                  ][0]',                        \n",
      "                                                                     'leaky_re_lu_3[0][0]']       \n",
      "                                                                                                  \n",
      " dense_4 (Dense)             (None, 4)                    868       ['concatenate_2[0][0]']       \n",
      "                                                                                                  \n",
      "==================================================================================================\n",
      "Total params: 10812 (42.23 KB)\n",
      "Trainable params: 10812 (42.23 KB)\n",
      "Non-trainable params: 0 (0.00 Byte)\n",
      "__________________________________________________________________________________________________\n"
     ]
    }
   ],
   "source": [
    "model.summary()"
   ]
  },
  {
   "attachments": {},
   "cell_type": "markdown",
   "id": "ba5ec469dde460f1",
   "metadata": {
    "collapsed": false,
    "jupyter": {
     "outputs_hidden": false
    }
   },
   "source": [
    "#### Test the model before training"
   ]
  },
  {
   "cell_type": "code",
   "execution_count": 34,
   "id": "28ddd0cd2f57bed4",
   "metadata": {
    "ExecuteTime": {
     "end_time": "2024-01-04T13:17:06.547420Z",
     "start_time": "2024-01-04T13:17:06.202855Z"
    },
    "collapsed": false,
    "jupyter": {
     "outputs_hidden": false
    }
   },
   "outputs": [
    {
     "data": {
      "image/png": "[encoded data removed]",
      "text/plain": [
       "<Figure size 640x480 with 1 Axes>"
      ]
     },
     "metadata": {},
     "output_type": "display_data"
    },
    {
     "data": {
      "image/png": "[encoded data removed]",
      "text/plain": [
       "<Figure size 640x480 with 1 Axes>"
      ]
     },
     "metadata": {},
     "output_type": "display_data"
    }
   ],
   "source": [
    "s1 = np.array([1, 1, -1, 1, -1, -1, 1, -1, 1, 1, 1, 2, -1, 2, -1, 1])\n",
    "import matplotlib.pyplot as plt\n",
    "from utils import draw_row\n",
    "\n",
    "fig = plt.figure()\n",
    "ax = fig.add_axes((0, 0, 1, 1))\n",
    "\n",
    "\n",
    "def apply_model(r: np.ndarray) -> np.ndarray:\n",
    "    return model(r.reshape(1, -1)).numpy()\n",
    "\n",
    "\n",
    "draw_row(None, ax, s1, apply=apply_model)\n",
    "plt.show()\n",
    "\n",
    "s1 = np.array([1, 1, -1, 1, -1, -1, 1, -1, 1, 2, 1, 3, -1, 3, -1, 2])\n",
    "fig = plt.figure()\n",
    "ax = fig.add_axes((0, 0, 1, 1))\n",
    "draw_row(model, ax, s1, apply=apply_model)\n",
    "plt.show()\n"
   ]
  },
  {
   "attachments": {},
   "cell_type": "markdown",
   "id": "89aa9eb20341a24b",
   "metadata": {
    "collapsed": false,
    "jupyter": {
     "outputs_hidden": false
    }
   },
   "source": [
    "### Do the training\n",
    "\n"
   ]
  },
  {
   "cell_type": "code",
   "execution_count": 35,
   "id": "c1a06e881136ca46",
   "metadata": {
    "ExecuteTime": {
     "end_time": "2024-01-04T13:20:27.869358Z",
     "start_time": "2024-01-04T13:17:06.546057Z"
    },
    "collapsed": false,
    "jupyter": {
     "outputs_hidden": false
    }
   },
   "outputs": [
    {
     "data": {
      "text/plain": [
       "(518400, 16)"
      ]
     },
     "metadata": {},
     "output_type": "display_data"
    },
    {
     "data": {
      "text/plain": [
       "(518400, 4)"
      ]
     },
     "metadata": {},
     "output_type": "display_data"
    }
   ],
   "source": [
    "\n",
    "import math\n",
    "\n",
    "from tensorflow.keras.metrics import MeanSquaredError\n",
    "\n",
    "model.compile(\n",
    "    optimizer=tf.keras.optimizers.legacy.Adam(learning_rate=tf.keras.optimizers.schedules.InverseTimeDecay(initial_learning_rate=0.01, decay_steps=400, decay_rate=0.001)),\n",
    "    loss=tf.keras.losses.MeanSquaredError(name=\"train_loss\"),\n",
    "    weighted_metrics=[\n",
    "        MeanSquaredError(name='train_mean_loss')\n",
    "    ],\n",
    ")\n",
    "\n",
    "BATCH_SIZE = 1024\n",
    "\n",
    "\n",
    "def split_input(inpts: np.ndarray, outs: np.ndarray, shuffle=True):\n",
    "    indexes = np.arange(inpts.shape[0])\n",
    "    if shuffle:\n",
    "        np.random.shuffle(indexes)\n",
    "    train_size = math.ceil(inpts.shape[0] * 9 / 10)\n",
    "    train_indexes = indexes[0:train_size]\n",
    "    test_indexes = indexes[train_size:-1]\n",
    "    return (inpts[train_indexes], outs[train_indexes]), (inpts[test_indexes], outs[test_indexes])\n",
    "\n",
    "\n",
    "(train_x, train_y), (test_x, test_y) = split_input(prepared_input, prepared_output)\n",
    "display(train_x.shape)\n",
    "display(train_y.shape)\n"
   ]
  },
  {
   "cell_type": "code",
   "execution_count": 36,
   "id": "ea496c8a",
   "metadata": {},
   "outputs": [
    {
     "name": "stdout",
     "output_type": "stream",
     "text": [
      "Epoch 1/20\n",
      "507/507 [==============================] - 21s 38ms/step - loss: 0.0296 - train_mean_loss: 0.0296 - val_loss: 5.1254e-04 - val_train_mean_loss: 5.1254e-04\n",
      "Epoch 2/20\n",
      "507/507 [==============================] - 17s 34ms/step - loss: 2.9179e-04 - train_mean_loss: 2.9179e-04 - val_loss: 1.7003e-04 - val_train_mean_loss: 1.7003e-04\n",
      "Epoch 3/20\n",
      "507/507 [==============================] - 17s 34ms/step - loss: 1.4495e-04 - train_mean_loss: 1.4495e-04 - val_loss: 1.7250e-04 - val_train_mean_loss: 1.7250e-04\n",
      "Epoch 4/20\n",
      "507/507 [==============================] - 17s 33ms/step - loss: 1.0610e-04 - train_mean_loss: 1.0610e-04 - val_loss: 7.0729e-05 - val_train_mean_loss: 7.0729e-05\n",
      "Epoch 5/20\n",
      "507/507 [==============================] - 17s 34ms/step - loss: 9.9386e-05 - train_mean_loss: 9.9386e-05 - val_loss: 1.9955e-04 - val_train_mean_loss: 1.9955e-04\n",
      "Epoch 6/20\n",
      "507/507 [==============================] - 17s 34ms/step - loss: 1.1297e-04 - train_mean_loss: 1.1297e-04 - val_loss: 6.9517e-05 - val_train_mean_loss: 6.9517e-05\n",
      "Epoch 7/20\n",
      "507/507 [==============================] - 17s 33ms/step - loss: 9.8795e-05 - train_mean_loss: 9.8795e-05 - val_loss: 7.6392e-05 - val_train_mean_loss: 7.6392e-05\n",
      "Epoch 8/20\n",
      "507/507 [==============================] - 16s 32ms/step - loss: 1.1187e-04 - train_mean_loss: 1.1187e-04 - val_loss: 3.1445e-05 - val_train_mean_loss: 3.1445e-05\n",
      "Epoch 9/20\n",
      "507/507 [==============================] - 17s 33ms/step - loss: 7.3793e-05 - train_mean_loss: 7.3793e-05 - val_loss: 4.1177e-04 - val_train_mean_loss: 4.1177e-04\n",
      "Epoch 10/20\n",
      "507/507 [==============================] - 17s 34ms/step - loss: 8.4840e-05 - train_mean_loss: 8.4840e-05 - val_loss: 3.3928e-05 - val_train_mean_loss: 3.3928e-05\n",
      "Epoch 11/20\n",
      "507/507 [==============================] - 17s 34ms/step - loss: 7.6268e-05 - train_mean_loss: 7.6268e-05 - val_loss: 4.7761e-05 - val_train_mean_loss: 4.7761e-05\n",
      "Epoch 12/20\n",
      "507/507 [==============================] - 17s 34ms/step - loss: 6.4721e-05 - train_mean_loss: 6.4721e-05 - val_loss: 3.8303e-05 - val_train_mean_loss: 3.8303e-05\n",
      "Epoch 13/20\n",
      "507/507 [==============================] - 17s 34ms/step - loss: 6.4382e-05 - train_mean_loss: 6.4382e-05 - val_loss: 2.4435e-05 - val_train_mean_loss: 2.4435e-05\n",
      "Epoch 14/20\n",
      "507/507 [==============================] - 17s 34ms/step - loss: 5.5819e-05 - train_mean_loss: 5.5819e-05 - val_loss: 6.2226e-05 - val_train_mean_loss: 6.2226e-05\n",
      "Epoch 15/20\n",
      "507/507 [==============================] - 18s 35ms/step - loss: 4.8035e-05 - train_mean_loss: 4.8035e-05 - val_loss: 2.0068e-05 - val_train_mean_loss: 2.0068e-05\n",
      "Epoch 16/20\n",
      "507/507 [==============================] - 17s 34ms/step - loss: 4.5303e-05 - train_mean_loss: 4.5303e-05 - val_loss: 1.7573e-05 - val_train_mean_loss: 1.7573e-05\n",
      "Epoch 17/20\n",
      "507/507 [==============================] - 17s 34ms/step - loss: 4.4172e-05 - train_mean_loss: 4.4172e-05 - val_loss: 2.7972e-05 - val_train_mean_loss: 2.7972e-05\n",
      "Epoch 18/20\n",
      "507/507 [==============================] - 18s 35ms/step - loss: 4.0888e-05 - train_mean_loss: 4.0888e-05 - val_loss: 4.8357e-05 - val_train_mean_loss: 4.8357e-05\n",
      "Epoch 19/20\n",
      "507/507 [==============================] - 17s 34ms/step - loss: 3.5728e-05 - train_mean_loss: 3.5728e-05 - val_loss: 4.4595e-05 - val_train_mean_loss: 4.4595e-05\n",
      "Epoch 20/20\n",
      "507/507 [==============================] - 17s 34ms/step - loss: 3.2623e-05 - train_mean_loss: 3.2623e-05 - val_loss: 1.1430e-05 - val_train_mean_loss: 1.1430e-05\n"
     ]
    }
   ],
   "source": [
    "\n",
    "res = model.fit(x=train_x, y=train_y, batch_size=BATCH_SIZE, epochs=20, validation_data=(test_x, test_y))"
   ]
  },
  {
   "attachments": {},
   "cell_type": "markdown",
   "id": "4eebdfda2c53bd5a",
   "metadata": {
    "collapsed": false,
    "jupyter": {
     "outputs_hidden": false
    }
   },
   "source": [
    "## Plot stats"
   ]
  },
  {
   "cell_type": "code",
   "execution_count": 37,
   "id": "f26f5524b6ba23c8",
   "metadata": {
    "ExecuteTime": {
     "end_time": "2024-01-04T13:20:27.989727Z",
     "start_time": "2024-01-04T13:20:27.869195Z"
    },
    "collapsed": false,
    "jupyter": {
     "outputs_hidden": false
    }
   },
   "outputs": [
    {
     "data": {
      "image/png": "[encoded data removed]",
      "text/plain": [
       "<Figure size 640x480 with 1 Axes>"
      ]
     },
     "metadata": {},
     "output_type": "display_data"
    },
    {
     "data": {
      "image/png": "[encoded data removed]",
      "text/plain": [
       "<Figure size 640x480 with 1 Axes>"
      ]
     },
     "metadata": {},
     "output_type": "display_data"
    }
   ],
   "source": [
    "%matplotlib inline\n",
    "\n",
    "\n",
    "plt.title(\"train loss\")\n",
    "plt.plot(res.history['train_mean_loss'])\n",
    "plt.show()\n",
    "plt.title(\"val loss\")\n",
    "plt.plot(res.history['val_train_mean_loss'])\n",
    "plt.show()"
   ]
  },
  {
   "attachments": {},
   "cell_type": "markdown",
   "id": "6371628c36843ede",
   "metadata": {
    "collapsed": false,
    "jupyter": {
     "outputs_hidden": false
    }
   },
   "source": [
    "#### Some random tests"
   ]
  },
  {
   "cell_type": "code",
   "execution_count": 38,
   "id": "2d7fb58e982f6341",
   "metadata": {
    "ExecuteTime": {
     "end_time": "2024-01-04T13:20:28.234100Z",
     "start_time": "2024-01-04T13:20:27.979019Z"
    },
    "collapsed": false,
    "jupyter": {
     "outputs_hidden": false
    }
   },
   "outputs": [
    {
     "data": {
      "image/png": "[encoded data removed]",
      "text/plain": [
       "<Figure size 640x480 with 1 Axes>"
      ]
     },
     "metadata": {},
     "output_type": "display_data"
    },
    {
     "data": {
      "image/png": "[encoded data removed]",
      "text/plain": [
       "<Figure size 640x480 with 1 Axes>"
      ]
     },
     "metadata": {},
     "output_type": "display_data"
    }
   ],
   "source": [
    "s1 = np.array([1, 1, -1, 1, -1, -1, 1, -1, 1, 1, 1, 2, -1, 2, -1, 1])\n",
    "\n",
    "from utils import draw_row\n",
    "\n",
    "fig = plt.figure()\n",
    "ax = fig.add_axes((0, 0, 1, 1))\n",
    "draw_row(None, ax, s1, apply_model)\n",
    "plt.show()\n",
    "\n",
    "s1 = np.array([1, 1, -1, 1, -1, -1, 1, -1, 1, 2, 1, 3, -1, 3, -1, 2])\n",
    "fig = plt.figure()\n",
    "ax = fig.add_axes((0, 0, 1, 1))\n",
    "draw_row(None, ax, s1, apply_model)\n",
    "plt.show()\n"
   ]
  },
  {
   "cell_type": "code",
   "execution_count": 39,
   "id": "34d5ee635cbfbe3f",
   "metadata": {
    "ExecuteTime": {
     "end_time": "2024-01-04T13:20:28.293203Z",
     "start_time": "2024-01-04T13:20:28.232438Z"
    },
    "collapsed": false,
    "jupyter": {
     "outputs_hidden": false
    }
   },
   "outputs": [
    {
     "data": {
      "text/plain": [
       "[<matplotlib.lines.Line2D at 0x2834eb790>]"
      ]
     },
     "execution_count": 39,
     "metadata": {},
     "output_type": "execute_result"
    },
    {
     "data": {
      "image/png": "[encoded data removed]",
      "text/plain": [
       "<Figure size 640x480 with 1 Axes>"
      ]
     },
     "metadata": {},
     "output_type": "display_data"
    }
   ],
   "source": [
    "plt.plot(np.abs(model.weights[0].numpy()))"
   ]
  },
  {
   "cell_type": "code",
   "execution_count": 40,
   "id": "b9937ec73a30ebc6",
   "metadata": {
    "ExecuteTime": {
     "end_time": "2024-01-04T13:20:28.301178Z",
     "start_time": "2024-01-04T13:20:28.290630Z"
    },
    "collapsed": false,
    "jupyter": {
     "outputs_hidden": false
    }
   },
   "outputs": [
    {
     "data": {
      "text/plain": [
       "<KerasTensor: shape=(None, 216) dtype=float32 (created by layer 'concatenate_2')>"
      ]
     },
     "execution_count": 40,
     "metadata": {},
     "output_type": "execute_result"
    }
   ],
   "source": [
    "output_2_layer"
   ]
  },
  {
   "cell_type": "code",
   "execution_count": 41,
   "id": "d5c6fb35a49586d1",
   "metadata": {
    "ExecuteTime": {
     "end_time": "2024-01-04T13:20:33.891269Z",
     "start_time": "2024-01-04T13:20:32.253741Z"
    },
    "collapsed": false,
    "jupyter": {
     "outputs_hidden": false
    }
   },
   "outputs": [
    {
     "name": "stdout",
     "output_type": "stream",
     "text": [
      "INFO:tensorflow:Assets written to: model3/assets\n"
     ]
    },
    {
     "name": "stderr",
     "output_type": "stream",
     "text": [
      "INFO:tensorflow:Assets written to: model3/assets\n"
     ]
    }
   ],
   "source": [
    "model.save(MODEL_NAME)"
   ]
  },
  {
   "cell_type": "code",
   "execution_count": 17,
   "id": "179298ecc16700e3",
   "metadata": {
    "ExecuteTime": {
     "end_time": "2024-01-04T13:20:29.998311Z",
     "start_time": "2024-01-04T13:20:29.990858Z"
    },
    "collapsed": false,
    "jupyter": {
     "outputs_hidden": false
    }
   },
   "outputs": [],
   "source": []
  }
 ],
 "metadata": {
  "kernelspec": {
   "display_name": "Python 3 (ipykernel)",
   "language": "python",
   "name": "python3"
  },
  "language_info": {
   "codemirror_mode": {
    "name": "ipython",
    "version": 3
   },
   "file_extension": ".py",
   "mimetype": "text/x-python",
   "name": "python",
   "nbconvert_exporter": "python",
   "pygments_lexer": "ipython3",
   "version": "3.11.7"
  }
 },
 "nbformat": 4,
 "nbformat_minor": 5
}
