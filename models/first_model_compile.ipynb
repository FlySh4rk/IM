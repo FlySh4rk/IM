{
 "cells": [
  {
   "cell_type": "markdown",
   "source": [
    "# First model\n",
    "\n",
    "This model is the simplest possible model we can think of. Inputs will be the list of points delimiting the bone and tooth area and their squares and cross-products to account for second order contributions.\n",
    "\n",
    "The outputs will be the coordinates of optimal axe.\n",
    "\n",
    "The cost function is the distance of the two points. "
   ],
   "metadata": {
    "collapsed": false
   },
   "id": "3de550a69617c8cb"
  },
  {
   "cell_type": "markdown",
   "source": [
    "## First step: load and prepare the datasets\n",
    "\n",
    "Loads the datasets prepared by the `dataset_gen` notebook, then prepare the input by appending all the cross-products."
   ],
   "metadata": {
    "collapsed": false
   },
   "id": "938aee1480f6e9d0"
  },
  {
   "cell_type": "code",
   "outputs": [],
   "source": [
    "import pandas as pd\n",
    "from utils import datadir\n",
    "\n",
    "input_dataset = pd.read_pickle(datadir(\"input_rot.pkl\"))\n",
    "output_dataset = pd.read_pickle(datadir(\"output_rot.pkl\"))"
   ],
   "metadata": {
    "collapsed": false,
    "ExecuteTime": {
     "end_time": "2024-01-01T12:51:08.498092Z",
     "start_time": "2024-01-01T12:51:08.466933Z"
    }
   },
   "id": "cacafe54430c25cc",
   "execution_count": 16
  },
  {
   "cell_type": "code",
   "outputs": [
    {
     "data": {
      "text/plain": "           0         1         2         3         4         5         6   \\\n0    0.516425  1.904407  2.830124 -1.441737  1.326225 -2.493799 -1.174322   \n1    0.190749  2.636898  1.990407 -1.145306 -0.084083 -1.826785 -1.415641   \n2    0.763316  2.400042  0.899236 -1.236279 -1.067384 -1.680220 -1.266553   \n3    2.721627  0.011318 -0.064539 -3.122918 -1.379603 -1.771914  0.969613   \n4    1.358551  2.593314  1.815764 -1.247205  0.037793 -1.679343 -0.809907   \n..        ...       ...       ...       ...       ...       ...       ...   \n995 -1.561810  2.416841  1.728431 -0.158547  0.361340 -1.620670 -2.655468   \n996  2.516807  1.616279  0.044194 -1.592231 -1.548466 -0.247470  0.992358   \n997 -0.266827  2.010331  0.778407 -1.728121 -0.968680 -2.406388 -2.333855   \n998 -0.218928  3.232466  1.253863 -0.662542 -0.875507 -1.191209 -1.891129   \n999  0.212402  2.626018  2.905755 -0.774124  1.318446 -1.707187 -1.224435   \n\n           7         8         9         10        11        12        13  \\\n0    0.549347 -0.698353  3.384424  0.434217  1.870214 -1.092114  0.583540   \n1    1.752770 -0.374559  4.436448  0.207304  2.576463 -1.432195  1.813204   \n2    2.676438  0.577066  4.476345  0.834169  2.682152 -1.337407  2.394327   \n3    1.228005  3.831253  1.451021  2.677371  0.037996  1.013869  1.201328   \n4    2.372996  0.934270  4.690807  1.261360  2.574946 -0.712716  2.391365   \n..        ...       ...       ...       ...       ...       ...       ...   \n995  0.725439 -2.947575  3.593161 -1.616090  2.356256 -2.601187  0.786025   \n996  2.778237  3.876662  3.173724  2.444416  1.525986  1.064749  2.868529   \n997  1.483393 -0.849080  3.906419 -0.447146  2.096965 -2.153536  1.396759   \n998  2.516926 -0.694903  5.077147 -0.136472  3.195135 -1.973586  2.554258   \n999  0.940964 -1.124529  4.022585  0.315511  2.365529 -1.327544  1.201453   \n\n           14        15  \n0   -2.366667  2.263976  \n1   -2.415939  3.634099  \n2   -1.247849  4.596625  \n3    2.427678  2.855380  \n4   -1.038083  4.221932  \n..        ...       ...  \n995 -4.423227  2.009868  \n996  2.139221  4.337900  \n997 -2.956806  3.401421  \n998 -2.659362  4.473817  \n999 -2.505620  2.568544  \n\n[1000 rows x 16 columns]",
      "text/html": "<div>\n<style scoped>\n    .dataframe tbody tr th:only-of-type {\n        vertical-align: middle;\n    }\n\n    .dataframe tbody tr th {\n        vertical-align: top;\n    }\n\n    .dataframe thead th {\n        text-align: right;\n    }\n</style>\n<table border=\"1\" class=\"dataframe\">\n  <thead>\n    <tr style=\"text-align: right;\">\n      <th></th>\n      <th>0</th>\n      <th>1</th>\n      <th>2</th>\n      <th>3</th>\n      <th>4</th>\n      <th>5</th>\n      <th>6</th>\n      <th>7</th>\n      <th>8</th>\n      <th>9</th>\n      <th>10</th>\n      <th>11</th>\n      <th>12</th>\n      <th>13</th>\n      <th>14</th>\n      <th>15</th>\n    </tr>\n  </thead>\n  <tbody>\n    <tr>\n      <th>0</th>\n      <td>0.516425</td>\n      <td>1.904407</td>\n      <td>2.830124</td>\n      <td>-1.441737</td>\n      <td>1.326225</td>\n      <td>-2.493799</td>\n      <td>-1.174322</td>\n      <td>0.549347</td>\n      <td>-0.698353</td>\n      <td>3.384424</td>\n      <td>0.434217</td>\n      <td>1.870214</td>\n      <td>-1.092114</td>\n      <td>0.583540</td>\n      <td>-2.366667</td>\n      <td>2.263976</td>\n    </tr>\n    <tr>\n      <th>1</th>\n      <td>0.190749</td>\n      <td>2.636898</td>\n      <td>1.990407</td>\n      <td>-1.145306</td>\n      <td>-0.084083</td>\n      <td>-1.826785</td>\n      <td>-1.415641</td>\n      <td>1.752770</td>\n      <td>-0.374559</td>\n      <td>4.436448</td>\n      <td>0.207304</td>\n      <td>2.576463</td>\n      <td>-1.432195</td>\n      <td>1.813204</td>\n      <td>-2.415939</td>\n      <td>3.634099</td>\n    </tr>\n    <tr>\n      <th>2</th>\n      <td>0.763316</td>\n      <td>2.400042</td>\n      <td>0.899236</td>\n      <td>-1.236279</td>\n      <td>-1.067384</td>\n      <td>-1.680220</td>\n      <td>-1.266553</td>\n      <td>2.676438</td>\n      <td>0.577066</td>\n      <td>4.476345</td>\n      <td>0.834169</td>\n      <td>2.682152</td>\n      <td>-1.337407</td>\n      <td>2.394327</td>\n      <td>-1.247849</td>\n      <td>4.596625</td>\n    </tr>\n    <tr>\n      <th>3</th>\n      <td>2.721627</td>\n      <td>0.011318</td>\n      <td>-0.064539</td>\n      <td>-3.122918</td>\n      <td>-1.379603</td>\n      <td>-1.771914</td>\n      <td>0.969613</td>\n      <td>1.228005</td>\n      <td>3.831253</td>\n      <td>1.451021</td>\n      <td>2.677371</td>\n      <td>0.037996</td>\n      <td>1.013869</td>\n      <td>1.201328</td>\n      <td>2.427678</td>\n      <td>2.855380</td>\n    </tr>\n    <tr>\n      <th>4</th>\n      <td>1.358551</td>\n      <td>2.593314</td>\n      <td>1.815764</td>\n      <td>-1.247205</td>\n      <td>0.037793</td>\n      <td>-1.679343</td>\n      <td>-0.809907</td>\n      <td>2.372996</td>\n      <td>0.934270</td>\n      <td>4.690807</td>\n      <td>1.261360</td>\n      <td>2.574946</td>\n      <td>-0.712716</td>\n      <td>2.391365</td>\n      <td>-1.038083</td>\n      <td>4.221932</td>\n    </tr>\n    <tr>\n      <th>...</th>\n      <td>...</td>\n      <td>...</td>\n      <td>...</td>\n      <td>...</td>\n      <td>...</td>\n      <td>...</td>\n      <td>...</td>\n      <td>...</td>\n      <td>...</td>\n      <td>...</td>\n      <td>...</td>\n      <td>...</td>\n      <td>...</td>\n      <td>...</td>\n      <td>...</td>\n      <td>...</td>\n    </tr>\n    <tr>\n      <th>995</th>\n      <td>-1.561810</td>\n      <td>2.416841</td>\n      <td>1.728431</td>\n      <td>-0.158547</td>\n      <td>0.361340</td>\n      <td>-1.620670</td>\n      <td>-2.655468</td>\n      <td>0.725439</td>\n      <td>-2.947575</td>\n      <td>3.593161</td>\n      <td>-1.616090</td>\n      <td>2.356256</td>\n      <td>-2.601187</td>\n      <td>0.786025</td>\n      <td>-4.423227</td>\n      <td>2.009868</td>\n    </tr>\n    <tr>\n      <th>996</th>\n      <td>2.516807</td>\n      <td>1.616279</td>\n      <td>0.044194</td>\n      <td>-1.592231</td>\n      <td>-1.548466</td>\n      <td>-0.247470</td>\n      <td>0.992358</td>\n      <td>2.778237</td>\n      <td>3.876662</td>\n      <td>3.173724</td>\n      <td>2.444416</td>\n      <td>1.525986</td>\n      <td>1.064749</td>\n      <td>2.868529</td>\n      <td>2.139221</td>\n      <td>4.337900</td>\n    </tr>\n    <tr>\n      <th>997</th>\n      <td>-0.266827</td>\n      <td>2.010331</td>\n      <td>0.778407</td>\n      <td>-1.728121</td>\n      <td>-0.968680</td>\n      <td>-2.406388</td>\n      <td>-2.333855</td>\n      <td>1.483393</td>\n      <td>-0.849080</td>\n      <td>3.906419</td>\n      <td>-0.447146</td>\n      <td>2.096965</td>\n      <td>-2.153536</td>\n      <td>1.396759</td>\n      <td>-2.956806</td>\n      <td>3.401421</td>\n    </tr>\n    <tr>\n      <th>998</th>\n      <td>-0.218928</td>\n      <td>3.232466</td>\n      <td>1.253863</td>\n      <td>-0.662542</td>\n      <td>-0.875507</td>\n      <td>-1.191209</td>\n      <td>-1.891129</td>\n      <td>2.516926</td>\n      <td>-0.694903</td>\n      <td>5.077147</td>\n      <td>-0.136472</td>\n      <td>3.195135</td>\n      <td>-1.973586</td>\n      <td>2.554258</td>\n      <td>-2.659362</td>\n      <td>4.473817</td>\n    </tr>\n    <tr>\n      <th>999</th>\n      <td>0.212402</td>\n      <td>2.626018</td>\n      <td>2.905755</td>\n      <td>-0.774124</td>\n      <td>1.318446</td>\n      <td>-1.707187</td>\n      <td>-1.224435</td>\n      <td>0.940964</td>\n      <td>-1.124529</td>\n      <td>4.022585</td>\n      <td>0.315511</td>\n      <td>2.365529</td>\n      <td>-1.327544</td>\n      <td>1.201453</td>\n      <td>-2.505620</td>\n      <td>2.568544</td>\n    </tr>\n  </tbody>\n</table>\n<p>1000 rows × 16 columns</p>\n</div>"
     },
     "execution_count": 17,
     "metadata": {},
     "output_type": "execute_result"
    }
   ],
   "source": [
    "input_dataset"
   ],
   "metadata": {
    "collapsed": false,
    "ExecuteTime": {
     "end_time": "2024-01-01T12:51:08.512363Z",
     "start_time": "2024-01-01T12:51:08.504937Z"
    }
   },
   "id": "3942eeda3110b9bd",
   "execution_count": 17
  },
  {
   "cell_type": "code",
   "outputs": [
    {
     "data": {
      "text/plain": "            0         1         2         3\n0    1.275800 -0.902886 -0.930729  2.025539\n1    0.431293 -0.259086 -1.003847  3.115054\n2   -0.139922 -0.126086 -0.293505  3.537362\n3    0.133826 -1.425057  2.487543  1.386431\n4    0.709293 -0.147797  0.111208  3.469762\n..        ...       ...       ...       ...\n995 -0.006289 -0.069359 -2.897020  2.186327\n996  0.083437  0.119185  2.381262  2.976535\n997 -0.496871 -0.795882 -1.601642  2.700391\n998 -0.225558  0.340315 -1.366081  3.825089\n999  1.239395 -0.232607 -1.160545  2.539528\n\n[1000 rows x 4 columns]",
      "text/html": "<div>\n<style scoped>\n    .dataframe tbody tr th:only-of-type {\n        vertical-align: middle;\n    }\n\n    .dataframe tbody tr th {\n        vertical-align: top;\n    }\n\n    .dataframe thead th {\n        text-align: right;\n    }\n</style>\n<table border=\"1\" class=\"dataframe\">\n  <thead>\n    <tr style=\"text-align: right;\">\n      <th></th>\n      <th>0</th>\n      <th>1</th>\n      <th>2</th>\n      <th>3</th>\n    </tr>\n  </thead>\n  <tbody>\n    <tr>\n      <th>0</th>\n      <td>1.275800</td>\n      <td>-0.902886</td>\n      <td>-0.930729</td>\n      <td>2.025539</td>\n    </tr>\n    <tr>\n      <th>1</th>\n      <td>0.431293</td>\n      <td>-0.259086</td>\n      <td>-1.003847</td>\n      <td>3.115054</td>\n    </tr>\n    <tr>\n      <th>2</th>\n      <td>-0.139922</td>\n      <td>-0.126086</td>\n      <td>-0.293505</td>\n      <td>3.537362</td>\n    </tr>\n    <tr>\n      <th>3</th>\n      <td>0.133826</td>\n      <td>-1.425057</td>\n      <td>2.487543</td>\n      <td>1.386431</td>\n    </tr>\n    <tr>\n      <th>4</th>\n      <td>0.709293</td>\n      <td>-0.147797</td>\n      <td>0.111208</td>\n      <td>3.469762</td>\n    </tr>\n    <tr>\n      <th>...</th>\n      <td>...</td>\n      <td>...</td>\n      <td>...</td>\n      <td>...</td>\n    </tr>\n    <tr>\n      <th>995</th>\n      <td>-0.006289</td>\n      <td>-0.069359</td>\n      <td>-2.897020</td>\n      <td>2.186327</td>\n    </tr>\n    <tr>\n      <th>996</th>\n      <td>0.083437</td>\n      <td>0.119185</td>\n      <td>2.381262</td>\n      <td>2.976535</td>\n    </tr>\n    <tr>\n      <th>997</th>\n      <td>-0.496871</td>\n      <td>-0.795882</td>\n      <td>-1.601642</td>\n      <td>2.700391</td>\n    </tr>\n    <tr>\n      <th>998</th>\n      <td>-0.225558</td>\n      <td>0.340315</td>\n      <td>-1.366081</td>\n      <td>3.825089</td>\n    </tr>\n    <tr>\n      <th>999</th>\n      <td>1.239395</td>\n      <td>-0.232607</td>\n      <td>-1.160545</td>\n      <td>2.539528</td>\n    </tr>\n  </tbody>\n</table>\n<p>1000 rows × 4 columns</p>\n</div>"
     },
     "execution_count": 18,
     "metadata": {},
     "output_type": "execute_result"
    }
   ],
   "source": [
    "output_dataset"
   ],
   "metadata": {
    "collapsed": false,
    "ExecuteTime": {
     "end_time": "2024-01-01T12:51:08.522875Z",
     "start_time": "2024-01-01T12:51:08.515315Z"
    }
   },
   "id": "6ccf8c558c383b94",
   "execution_count": 18
  },
  {
   "cell_type": "code",
   "outputs": [],
   "source": [
    "import numpy as np\n",
    "from typing import Iterator\n",
    "from itertools import permutations\n",
    "\n",
    "\n",
    "def shuffle_points(s: np.ndarray) -> Iterator[np.ndarray]:\n",
    "    for p1 in permutations(range(4)):\n",
    "        for p2 in permutations(range(4, 8)):\n",
    "            yield np.array(\n",
    "                [[s[i * 2], s[i * 2 + 1]] for i in p1] + [[s[i * 2], s[i * 2 + 1]] for i in\n",
    "                                                          p2]).reshape(-1)\n",
    "\n",
    "\n",
    "from utils import add_cross_prods\n",
    "\n",
    "\n",
    "def prepare_input(orig: pd.DataFrame) -> Iterator[np.ndarray]:\n",
    "    for row in orig.to_numpy():\n",
    "        for s in shuffle_points(row):\n",
    "            x = add_cross_prods(s)\n",
    "            yield x"
   ],
   "metadata": {
    "collapsed": false,
    "ExecuteTime": {
     "end_time": "2024-01-01T12:51:08.523692Z",
     "start_time": "2024-01-01T12:51:08.519692Z"
    }
   },
   "id": "24a664ad7b3e6a73",
   "execution_count": 19
  },
  {
   "cell_type": "code",
   "outputs": [],
   "source": [
    "prepared_input = np.array([r for r in prepare_input(input_dataset)])"
   ],
   "metadata": {
    "collapsed": false,
    "ExecuteTime": {
     "end_time": "2024-01-01T12:51:22.178937Z",
     "start_time": "2024-01-01T12:51:08.532897Z"
    }
   },
   "id": "da1142f683bdc59b",
   "execution_count": 20
  },
  {
   "cell_type": "code",
   "outputs": [
    {
     "data": {
      "text/plain": "array([[ 0.51642464,  1.90440743,  2.83012391, ..., -1.38104511,\n         1.32112082, -5.35807582],\n       [ 0.51642464,  1.90440743,  2.83012391, ..., -2.47252066,\n         1.32112082, -0.63729269],\n       [ 0.51642464,  1.90440743,  2.83012391, ..., -4.42617395,\n         4.23411988, -5.35807582],\n       ...,\n       [-1.22443494,  0.94096412,  1.3184459 , ..., -1.3510691 ,\n         4.83294919, -4.52351324],\n       [-1.22443494,  0.94096412,  1.3184459 , ...,  1.26917144,\n         9.51554081,  0.7463512 ],\n       [-1.22443494,  0.94096412,  1.3184459 , ..., -2.66010518,\n         9.51554081, -4.52351324]])"
     },
     "execution_count": 21,
     "metadata": {},
     "output_type": "execute_result"
    }
   ],
   "source": [
    "prepared_input"
   ],
   "metadata": {
    "collapsed": false,
    "ExecuteTime": {
     "end_time": "2024-01-01T12:51:22.185477Z",
     "start_time": "2024-01-01T12:51:22.180274Z"
    }
   },
   "id": "89c8133e814e381c",
   "execution_count": 21
  },
  {
   "cell_type": "code",
   "outputs": [
    {
     "data": {
      "text/plain": "136"
     },
     "execution_count": 22,
     "metadata": {},
     "output_type": "execute_result"
    }
   ],
   "source": [
    "input_dim = prepared_input.shape[1]\n",
    "input_dim"
   ],
   "metadata": {
    "collapsed": false,
    "ExecuteTime": {
     "end_time": "2024-01-01T12:51:22.185887Z",
     "start_time": "2024-01-01T12:51:22.182706Z"
    }
   },
   "id": "161c70ae2d26f93",
   "execution_count": 22
  },
  {
   "cell_type": "code",
   "outputs": [
    {
     "data": {
      "text/plain": "(1000, 4)"
     },
     "metadata": {},
     "output_type": "display_data"
    },
    {
     "data": {
      "text/plain": "(576000, 4)"
     },
     "metadata": {},
     "output_type": "display_data"
    },
    {
     "data": {
      "text/plain": "4"
     },
     "metadata": {},
     "output_type": "display_data"
    }
   ],
   "source": [
    "prepared_output = output_dataset.to_numpy()\n",
    "display(prepared_output.shape)\n",
    "prepared_output = np.repeat(prepared_output, repeats=576, axis=0)\n",
    "output_dim = prepared_output.shape[1]\n",
    "display(prepared_output.shape)\n",
    "display(output_dim)"
   ],
   "metadata": {
    "collapsed": false,
    "ExecuteTime": {
     "end_time": "2024-01-01T12:51:22.191338Z",
     "start_time": "2024-01-01T12:51:22.186360Z"
    }
   },
   "id": "2a1f4c43038deaf2",
   "execution_count": 23
  },
  {
   "cell_type": "markdown",
   "source": [
    "## Now prepare the network\n",
    "\n",
    "Only one layer with linear output."
   ],
   "metadata": {
    "collapsed": false
   },
   "id": "7a9910db0546cafb"
  },
  {
   "cell_type": "code",
   "outputs": [
    {
     "data": {
      "text/plain": "(None, 4)"
     },
     "execution_count": 24,
     "metadata": {},
     "output_type": "execute_result"
    }
   ],
   "source": [
    "import tensorflow as tf\n",
    "\n",
    "model = tf.keras.Sequential()\n",
    "model.add(tf.keras.layers.Input(input_dim))\n",
    "model.add(tf.keras.layers.Dense(units=output_dim, activation=tf.keras.activations.linear))\n",
    "model.output_shape"
   ],
   "metadata": {
    "collapsed": false,
    "ExecuteTime": {
     "end_time": "2024-01-01T12:51:22.224257Z",
     "start_time": "2024-01-01T12:51:22.191576Z"
    }
   },
   "id": "a3d598692958d159",
   "execution_count": 24
  },
  {
   "cell_type": "markdown",
   "source": [
    "#### Test the model before training"
   ],
   "metadata": {
    "collapsed": false
   },
   "id": "ba5ec469dde460f1"
  },
  {
   "cell_type": "code",
   "outputs": [
    {
     "data": {
      "text/plain": "<Figure size 640x480 with 1 Axes>",
      "image/png": "[encoded data removed]"
     },
     "metadata": {},
     "output_type": "display_data"
    },
    {
     "data": {
      "text/plain": "<Figure size 640x480 with 1 Axes>",
      "image/png": "[encoded data removed]"
     },
     "metadata": {},
     "output_type": "display_data"
    }
   ],
   "source": [
    "s1 = np.array([1, 1, -1, 1, -1, -1, 1, -1, 1, 1, 1, 2, -1, 2, -1, 1])\n",
    "import matplotlib.pyplot as plt\n",
    "from utils import draw_row\n",
    "\n",
    "fig = plt.figure()\n",
    "ax = fig.add_axes((0, 0, 1, 1))\n",
    "draw_row(model, ax, s1)\n",
    "plt.show()\n",
    "\n",
    "s1 = np.array([1, 1, -1, 1, -1, -1, 1, -1, 1, 2, 1, 3, -1, 3, -1, 2])\n",
    "fig = plt.figure()\n",
    "ax = fig.add_axes((0, 0, 1, 1))\n",
    "draw_row(model, ax, s1)\n",
    "plt.show()\n"
   ],
   "metadata": {
    "collapsed": false,
    "ExecuteTime": {
     "end_time": "2024-01-01T12:51:22.362130Z",
     "start_time": "2024-01-01T12:51:22.210566Z"
    }
   },
   "id": "28ddd0cd2f57bed4",
   "execution_count": 25
  },
  {
   "cell_type": "markdown",
   "source": [
    "### Do the training\n",
    "\n"
   ],
   "metadata": {
    "collapsed": false
   },
   "id": "89aa9eb20341a24b"
  },
  {
   "cell_type": "code",
   "outputs": [
    {
     "name": "stdout",
     "output_type": "stream",
     "text": [
      "Epoch 1/100\n",
      "    512/Unknown - 3s 6ms/step - loss: 2.8541 - train_mean_loss: 2.8541"
     ]
    },
    {
     "name": "stderr",
     "output_type": "stream",
     "text": [
      "2024-01-01 13:51:25.809849: I tensorflow/core/framework/local_rendezvous.cc:421] Local rendezvous recv item cancelled. Key hash: 7155816046694469825\n",
      "2024-01-01 13:51:25.809865: I tensorflow/core/framework/local_rendezvous.cc:421] Local rendezvous recv item cancelled. Key hash: 16074546537136220933\n",
      "2024-01-01 13:51:25.809869: I tensorflow/core/framework/local_rendezvous.cc:421] Local rendezvous recv item cancelled. Key hash: 12813344233644390053\n",
      "2024-01-01 13:51:25.809877: I tensorflow/core/framework/local_rendezvous.cc:421] Local rendezvous recv item cancelled. Key hash: 2308045245449619850\n"
     ]
    },
    {
     "name": "stdout",
     "output_type": "stream",
     "text": [
      "519/519 [==============================] - 3s 6ms/step - loss: 2.8177 - train_mean_loss: 2.8210 - val_loss: 0.1665 - val_train_mean_loss: 0.1677\n",
      "Epoch 2/100\n",
      " 30/519 [>.............................] - ETA: 2s - loss: 0.1561 - train_mean_loss: 0.1561"
     ]
    },
    {
     "name": "stderr",
     "output_type": "stream",
     "text": [
      "2024-01-01 13:51:26.193381: I tensorflow/core/framework/local_rendezvous.cc:421] Local rendezvous recv item cancelled. Key hash: 7155816046694469825\n",
      "2024-01-01 13:51:26.193402: I tensorflow/core/framework/local_rendezvous.cc:421] Local rendezvous recv item cancelled. Key hash: 7822981300042502839\n",
      "2024-01-01 13:51:26.193411: I tensorflow/core/framework/local_rendezvous.cc:421] Local rendezvous recv item cancelled. Key hash: 11009096397493376720\n"
     ]
    },
    {
     "name": "stdout",
     "output_type": "stream",
     "text": [
      "519/519 [==============================] - 3s 6ms/step - loss: 0.0698 - train_mean_loss: 0.0699 - val_loss: 0.0259 - val_train_mean_loss: 0.0261\n",
      "Epoch 3/100\n",
      "519/519 [==============================] - 3s 6ms/step - loss: 0.0156 - train_mean_loss: 0.0156 - val_loss: 0.0094 - val_train_mean_loss: 0.0094\n",
      "Epoch 4/100\n",
      "519/519 [==============================] - 3s 6ms/step - loss: 0.0068 - train_mean_loss: 0.0068 - val_loss: 0.0048 - val_train_mean_loss: 0.0049\n",
      "Epoch 5/100\n",
      "519/519 [==============================] - 3s 6ms/step - loss: 0.0037 - train_mean_loss: 0.0037 - val_loss: 0.0027 - val_train_mean_loss: 0.0027\n",
      "Epoch 6/100\n",
      "519/519 [==============================] - 3s 6ms/step - loss: 0.0021 - train_mean_loss: 0.0021 - val_loss: 0.0015 - val_train_mean_loss: 0.0015\n",
      "Epoch 7/100\n",
      "519/519 [==============================] - 3s 6ms/step - loss: 0.0012 - train_mean_loss: 0.0012 - val_loss: 8.4924e-04 - val_train_mean_loss: 8.5515e-04\n",
      "Epoch 8/100\n",
      "519/519 [==============================] - 3s 6ms/step - loss: 6.7002e-04 - train_mean_loss: 6.7079e-04 - val_loss: 5.1963e-04 - val_train_mean_loss: 5.2325e-04\n",
      "Epoch 9/100\n",
      "519/519 [==============================] - 3s 6ms/step - loss: 4.3052e-04 - train_mean_loss: 4.3101e-04 - val_loss: 3.6399e-04 - val_train_mean_loss: 3.6652e-04\n",
      "Epoch 10/100\n",
      "519/519 [==============================] - 3s 6ms/step - loss: 3.1896e-04 - train_mean_loss: 3.1933e-04 - val_loss: 2.9060e-04 - val_train_mean_loss: 2.9263e-04\n",
      "Epoch 11/100\n",
      "519/519 [==============================] - 3s 6ms/step - loss: 2.6521e-04 - train_mean_loss: 2.6552e-04 - val_loss: 2.4553e-04 - val_train_mean_loss: 2.4723e-04\n",
      "Epoch 12/100\n",
      "519/519 [==============================] - 3s 6ms/step - loss: 2.3415e-04 - train_mean_loss: 2.3442e-04 - val_loss: 2.2737e-04 - val_train_mean_loss: 2.2895e-04\n",
      "Epoch 13/100\n",
      "519/519 [==============================] - 3s 6ms/step - loss: 2.1074e-04 - train_mean_loss: 2.1098e-04 - val_loss: 2.0024e-04 - val_train_mean_loss: 2.0164e-04\n",
      "Epoch 14/100\n",
      "519/519 [==============================] - 3s 6ms/step - loss: 1.8669e-04 - train_mean_loss: 1.8691e-04 - val_loss: 1.8825e-04 - val_train_mean_loss: 1.8956e-04\n",
      "Epoch 15/100\n",
      "519/519 [==============================] - 3s 6ms/step - loss: 1.6493e-04 - train_mean_loss: 1.6512e-04 - val_loss: 1.7815e-04 - val_train_mean_loss: 1.7939e-04\n",
      "Epoch 16/100\n",
      "519/519 [==============================] - 3s 6ms/step - loss: 1.4320e-04 - train_mean_loss: 1.4336e-04 - val_loss: 1.3009e-04 - val_train_mean_loss: 1.3100e-04\n",
      "Epoch 17/100\n",
      "519/519 [==============================] - 3s 6ms/step - loss: 1.1950e-04 - train_mean_loss: 1.1964e-04 - val_loss: 1.2565e-04 - val_train_mean_loss: 1.2653e-04\n",
      "Epoch 18/100\n",
      "519/519 [==============================] - 3s 6ms/step - loss: 1.0369e-04 - train_mean_loss: 1.0381e-04 - val_loss: 1.0543e-04 - val_train_mean_loss: 1.0617e-04\n",
      "Epoch 19/100\n",
      "519/519 [==============================] - 3s 6ms/step - loss: 8.0089e-05 - train_mean_loss: 8.0182e-05 - val_loss: 9.9654e-05 - val_train_mean_loss: 1.0035e-04\n",
      "Epoch 20/100\n",
      "519/519 [==============================] - 3s 7ms/step - loss: 6.7451e-05 - train_mean_loss: 6.7529e-05 - val_loss: 7.6779e-05 - val_train_mean_loss: 7.7313e-05\n",
      "Epoch 21/100\n",
      "519/519 [==============================] - 3s 6ms/step - loss: 5.8298e-05 - train_mean_loss: 5.8366e-05 - val_loss: 7.3683e-05 - val_train_mean_loss: 7.4196e-05\n",
      "Epoch 22/100\n",
      "519/519 [==============================] - 3s 6ms/step - loss: 4.9725e-05 - train_mean_loss: 4.9782e-05 - val_loss: 5.7922e-05 - val_train_mean_loss: 5.8325e-05\n",
      "Epoch 23/100\n",
      "519/519 [==============================] - 3s 6ms/step - loss: 3.8231e-05 - train_mean_loss: 3.8276e-05 - val_loss: 7.2876e-05 - val_train_mean_loss: 7.3383e-05\n",
      "Epoch 24/100\n",
      "519/519 [==============================] - 3s 6ms/step - loss: 3.5920e-05 - train_mean_loss: 3.5962e-05 - val_loss: 3.6008e-05 - val_train_mean_loss: 3.6259e-05\n",
      "Epoch 25/100\n",
      "519/519 [==============================] - 3s 6ms/step - loss: 3.2415e-05 - train_mean_loss: 3.2453e-05 - val_loss: 2.2385e-05 - val_train_mean_loss: 2.2541e-05\n",
      "Epoch 26/100\n",
      "519/519 [==============================] - 3s 6ms/step - loss: 3.1312e-05 - train_mean_loss: 3.1348e-05 - val_loss: 5.4018e-05 - val_train_mean_loss: 5.4394e-05\n",
      "Epoch 27/100\n",
      "519/519 [==============================] - 3s 6ms/step - loss: 2.7173e-05 - train_mean_loss: 2.7204e-05 - val_loss: 4.2082e-05 - val_train_mean_loss: 4.2375e-05\n",
      "Epoch 28/100\n",
      "519/519 [==============================] - 3s 6ms/step - loss: 3.0925e-05 - train_mean_loss: 3.0961e-05 - val_loss: 3.1071e-05 - val_train_mean_loss: 3.1288e-05\n",
      "Epoch 29/100\n",
      "519/519 [==============================] - 3s 6ms/step - loss: 2.8136e-05 - train_mean_loss: 2.8169e-05 - val_loss: 1.0321e-04 - val_train_mean_loss: 1.0393e-04\n",
      "Epoch 30/100\n",
      "519/519 [==============================] - 3s 6ms/step - loss: 2.1885e-05 - train_mean_loss: 2.1910e-05 - val_loss: 3.9641e-05 - val_train_mean_loss: 3.9917e-05\n",
      "Epoch 31/100\n",
      "519/519 [==============================] - 3s 6ms/step - loss: 2.7311e-05 - train_mean_loss: 2.7342e-05 - val_loss: 6.4573e-05 - val_train_mean_loss: 6.5023e-05\n",
      "Epoch 32/100\n",
      "519/519 [==============================] - 3s 6ms/step - loss: 2.7409e-05 - train_mean_loss: 2.7441e-05 - val_loss: 3.0190e-05 - val_train_mean_loss: 3.0400e-05\n",
      "Epoch 33/100\n",
      "519/519 [==============================] - 3s 6ms/step - loss: 2.7641e-05 - train_mean_loss: 2.7673e-05 - val_loss: 7.2539e-06 - val_train_mean_loss: 7.3044e-06\n",
      "Epoch 34/100\n",
      "519/519 [==============================] - 3s 6ms/step - loss: 2.0432e-05 - train_mean_loss: 2.0456e-05 - val_loss: 5.7879e-05 - val_train_mean_loss: 5.8282e-05\n",
      "Epoch 35/100\n",
      "519/519 [==============================] - 3s 6ms/step - loss: 2.8632e-05 - train_mean_loss: 2.8665e-05 - val_loss: 3.1949e-05 - val_train_mean_loss: 3.2172e-05\n",
      "Epoch 36/100\n",
      "519/519 [==============================] - 3s 6ms/step - loss: 2.4893e-05 - train_mean_loss: 2.4922e-05 - val_loss: 2.7709e-05 - val_train_mean_loss: 2.7902e-05\n",
      "Epoch 37/100\n",
      "519/519 [==============================] - 3s 6ms/step - loss: 2.3890e-05 - train_mean_loss: 2.3917e-05 - val_loss: 3.1659e-05 - val_train_mean_loss: 3.1879e-05\n",
      "Epoch 38/100\n",
      "519/519 [==============================] - 3s 6ms/step - loss: 2.4530e-05 - train_mean_loss: 2.4559e-05 - val_loss: 1.0513e-04 - val_train_mean_loss: 1.0586e-04\n",
      "Epoch 39/100\n",
      "519/519 [==============================] - 3s 6ms/step - loss: 2.2941e-05 - train_mean_loss: 2.2967e-05 - val_loss: 8.6881e-06 - val_train_mean_loss: 8.7485e-06\n",
      "Epoch 40/100\n",
      "519/519 [==============================] - 3s 5ms/step - loss: 2.5665e-05 - train_mean_loss: 2.5694e-05 - val_loss: 5.0108e-05 - val_train_mean_loss: 5.0456e-05\n",
      "Epoch 41/100\n",
      "519/519 [==============================] - 3s 5ms/step - loss: 3.4275e-05 - train_mean_loss: 3.4315e-05 - val_loss: 2.3497e-05 - val_train_mean_loss: 2.3660e-05\n",
      "Epoch 42/100\n",
      "519/519 [==============================] - 3s 6ms/step - loss: 2.0864e-05 - train_mean_loss: 2.0888e-05 - val_loss: 4.6591e-05 - val_train_mean_loss: 4.6915e-05\n",
      "Epoch 43/100\n",
      "519/519 [==============================] - 3s 6ms/step - loss: 2.6146e-05 - train_mean_loss: 2.6176e-05 - val_loss: 1.5759e-05 - val_train_mean_loss: 1.5869e-05\n",
      "Epoch 44/100\n",
      "519/519 [==============================] - 3s 6ms/step - loss: 2.6752e-05 - train_mean_loss: 2.6783e-05 - val_loss: 2.9544e-05 - val_train_mean_loss: 2.9749e-05\n",
      "Epoch 45/100\n",
      "519/519 [==============================] - 3s 6ms/step - loss: 2.0743e-05 - train_mean_loss: 2.0767e-05 - val_loss: 9.2427e-06 - val_train_mean_loss: 9.3071e-06\n",
      "Epoch 46/100\n",
      "519/519 [==============================] - 3s 6ms/step - loss: 2.4019e-05 - train_mean_loss: 2.4047e-05 - val_loss: 2.7575e-05 - val_train_mean_loss: 2.7767e-05\n",
      "Epoch 47/100\n",
      "519/519 [==============================] - 3s 6ms/step - loss: 3.0773e-05 - train_mean_loss: 3.0808e-05 - val_loss: 8.7097e-06 - val_train_mean_loss: 8.7704e-06\n",
      "Epoch 48/100\n",
      "519/519 [==============================] - 3s 6ms/step - loss: 3.2455e-05 - train_mean_loss: 3.2492e-05 - val_loss: 8.9518e-06 - val_train_mean_loss: 9.0141e-06\n",
      "Epoch 49/100\n",
      "519/519 [==============================] - 3s 6ms/step - loss: 2.1954e-05 - train_mean_loss: 2.1979e-05 - val_loss: 1.7743e-05 - val_train_mean_loss: 1.7867e-05\n",
      "Epoch 50/100\n",
      "519/519 [==============================] - 3s 6ms/step - loss: 2.4198e-05 - train_mean_loss: 2.4226e-05 - val_loss: 1.1189e-04 - val_train_mean_loss: 1.1267e-04\n",
      "Epoch 51/100\n",
      "519/519 [==============================] - 3s 6ms/step - loss: 2.9410e-05 - train_mean_loss: 2.9444e-05 - val_loss: 1.1273e-05 - val_train_mean_loss: 1.1351e-05\n",
      "Epoch 52/100\n",
      "519/519 [==============================] - 3s 6ms/step - loss: 2.6014e-05 - train_mean_loss: 2.6045e-05 - val_loss: 4.6043e-05 - val_train_mean_loss: 4.6364e-05\n",
      "Epoch 53/100\n",
      "519/519 [==============================] - 3s 6ms/step - loss: 2.5627e-05 - train_mean_loss: 2.5656e-05 - val_loss: 3.4321e-06 - val_train_mean_loss: 3.4560e-06\n",
      "Epoch 54/100\n",
      "519/519 [==============================] - 3s 6ms/step - loss: 2.4948e-05 - train_mean_loss: 2.4977e-05 - val_loss: 3.0588e-06 - val_train_mean_loss: 3.0801e-06\n",
      "Epoch 55/100\n",
      "519/519 [==============================] - 3s 6ms/step - loss: 2.8066e-05 - train_mean_loss: 2.8098e-05 - val_loss: 1.1692e-05 - val_train_mean_loss: 1.1774e-05\n",
      "Epoch 56/100\n",
      "519/519 [==============================] - 3s 6ms/step - loss: 2.3090e-05 - train_mean_loss: 2.3116e-05 - val_loss: 1.2640e-05 - val_train_mean_loss: 1.2728e-05\n",
      "Epoch 57/100\n",
      "519/519 [==============================] - 3s 6ms/step - loss: 1.8787e-05 - train_mean_loss: 1.8809e-05 - val_loss: 6.3387e-06 - val_train_mean_loss: 6.3828e-06\n",
      "Epoch 58/100\n",
      "519/519 [==============================] - 3s 6ms/step - loss: 3.7540e-05 - train_mean_loss: 3.7584e-05 - val_loss: 3.7612e-05 - val_train_mean_loss: 3.7873e-05\n",
      "Epoch 59/100\n",
      "519/519 [==============================] - 3s 6ms/step - loss: 1.7426e-05 - train_mean_loss: 1.7446e-05 - val_loss: 7.9809e-06 - val_train_mean_loss: 8.0365e-06\n",
      "Epoch 60/100\n",
      "519/519 [==============================] - 3s 6ms/step - loss: 2.4286e-05 - train_mean_loss: 2.4314e-05 - val_loss: 8.6020e-06 - val_train_mean_loss: 8.6619e-06\n",
      "Epoch 61/100\n",
      "519/519 [==============================] - 3s 6ms/step - loss: 2.7581e-05 - train_mean_loss: 2.7613e-05 - val_loss: 7.0409e-05 - val_train_mean_loss: 7.0899e-05\n",
      "Epoch 62/100\n",
      "519/519 [==============================] - 3s 6ms/step - loss: 2.7661e-05 - train_mean_loss: 2.7693e-05 - val_loss: 1.1355e-05 - val_train_mean_loss: 1.1434e-05\n",
      "Epoch 63/100\n",
      "519/519 [==============================] - 3s 6ms/step - loss: 2.0021e-05 - train_mean_loss: 2.0044e-05 - val_loss: 1.0768e-05 - val_train_mean_loss: 1.0842e-05\n",
      "Epoch 64/100\n",
      "519/519 [==============================] - 3s 6ms/step - loss: 2.7555e-05 - train_mean_loss: 2.7587e-05 - val_loss: 5.8500e-06 - val_train_mean_loss: 5.8907e-06\n",
      "Epoch 65/100\n",
      "519/519 [==============================] - 3s 6ms/step - loss: 2.0979e-05 - train_mean_loss: 2.1004e-05 - val_loss: 5.4701e-05 - val_train_mean_loss: 5.5082e-05\n",
      "Epoch 66/100\n",
      "519/519 [==============================] - 3s 6ms/step - loss: 2.2418e-05 - train_mean_loss: 2.2444e-05 - val_loss: 6.0709e-05 - val_train_mean_loss: 6.1132e-05\n",
      "Epoch 67/100\n",
      "519/519 [==============================] - 3s 6ms/step - loss: 2.8618e-05 - train_mean_loss: 2.8651e-05 - val_loss: 1.0732e-05 - val_train_mean_loss: 1.0807e-05\n",
      "Epoch 68/100\n",
      "519/519 [==============================] - 3s 6ms/step - loss: 2.3350e-05 - train_mean_loss: 2.3377e-05 - val_loss: 2.0359e-05 - val_train_mean_loss: 2.0501e-05\n",
      "Epoch 69/100\n",
      "519/519 [==============================] - 3s 6ms/step - loss: 3.0272e-05 - train_mean_loss: 3.0307e-05 - val_loss: 4.6861e-05 - val_train_mean_loss: 4.7188e-05\n",
      "Epoch 70/100\n",
      "519/519 [==============================] - 3s 6ms/step - loss: 3.0226e-05 - train_mean_loss: 3.0261e-05 - val_loss: 1.6394e-05 - val_train_mean_loss: 1.6508e-05\n",
      "Epoch 71/100\n",
      "519/519 [==============================] - 3s 6ms/step - loss: 1.3342e-05 - train_mean_loss: 1.3357e-05 - val_loss: 1.9075e-05 - val_train_mean_loss: 1.9208e-05\n",
      "Epoch 72/100\n",
      "519/519 [==============================] - 3s 6ms/step - loss: 2.9976e-05 - train_mean_loss: 3.0011e-05 - val_loss: 4.0727e-05 - val_train_mean_loss: 4.1010e-05\n",
      "Epoch 73/100\n",
      "519/519 [==============================] - 3s 6ms/step - loss: 2.5251e-05 - train_mean_loss: 2.5280e-05 - val_loss: 1.7126e-05 - val_train_mean_loss: 1.7245e-05\n",
      "Epoch 74/100\n",
      "519/519 [==============================] - 3s 6ms/step - loss: 2.6925e-05 - train_mean_loss: 2.6956e-05 - val_loss: 5.7382e-05 - val_train_mean_loss: 5.7781e-05\n",
      "Epoch 75/100\n",
      "519/519 [==============================] - 3s 6ms/step - loss: 2.4934e-05 - train_mean_loss: 2.4963e-05 - val_loss: 1.8147e-04 - val_train_mean_loss: 1.8273e-04\n",
      "Epoch 76/100\n",
      "519/519 [==============================] - 3s 6ms/step - loss: 2.4567e-05 - train_mean_loss: 2.4595e-05 - val_loss: 2.4798e-05 - val_train_mean_loss: 2.4971e-05\n",
      "Epoch 77/100\n",
      "519/519 [==============================] - 3s 6ms/step - loss: 2.5341e-05 - train_mean_loss: 2.5371e-05 - val_loss: 2.9568e-05 - val_train_mean_loss: 2.9774e-05\n",
      "Epoch 78/100\n",
      "519/519 [==============================] - 3s 6ms/step - loss: 3.2804e-05 - train_mean_loss: 3.2842e-05 - val_loss: 1.6827e-05 - val_train_mean_loss: 1.6944e-05\n",
      "Epoch 79/100\n",
      "519/519 [==============================] - 3s 6ms/step - loss: 1.8565e-05 - train_mean_loss: 1.8587e-05 - val_loss: 3.2170e-06 - val_train_mean_loss: 3.2394e-06\n",
      "Epoch 80/100\n",
      "519/519 [==============================] - 3s 6ms/step - loss: 2.3340e-05 - train_mean_loss: 2.3367e-05 - val_loss: 4.4968e-05 - val_train_mean_loss: 4.5281e-05\n",
      "Epoch 81/100\n",
      "519/519 [==============================] - 3s 6ms/step - loss: 2.3927e-05 - train_mean_loss: 2.3955e-05 - val_loss: 2.8624e-05 - val_train_mean_loss: 2.8823e-05\n",
      "Epoch 82/100\n",
      "519/519 [==============================] - 3s 6ms/step - loss: 2.4490e-05 - train_mean_loss: 2.4518e-05 - val_loss: 2.4510e-05 - val_train_mean_loss: 2.4681e-05\n",
      "Epoch 83/100\n",
      "519/519 [==============================] - 3s 6ms/step - loss: 2.6603e-05 - train_mean_loss: 2.6633e-05 - val_loss: 5.4955e-05 - val_train_mean_loss: 5.5338e-05\n",
      "Epoch 84/100\n",
      "519/519 [==============================] - 3s 6ms/step - loss: 2.0884e-05 - train_mean_loss: 2.0908e-05 - val_loss: 9.7873e-05 - val_train_mean_loss: 9.8555e-05\n",
      "Epoch 85/100\n",
      "519/519 [==============================] - 3s 6ms/step - loss: 2.8946e-05 - train_mean_loss: 2.8979e-05 - val_loss: 4.1553e-05 - val_train_mean_loss: 4.1843e-05\n",
      "Epoch 86/100\n",
      "519/519 [==============================] - 3s 6ms/step - loss: 2.0156e-05 - train_mean_loss: 2.0179e-05 - val_loss: 7.2152e-05 - val_train_mean_loss: 7.2655e-05\n",
      "Epoch 87/100\n",
      "519/519 [==============================] - 3s 6ms/step - loss: 2.7906e-05 - train_mean_loss: 2.7939e-05 - val_loss: 5.6248e-05 - val_train_mean_loss: 5.6639e-05\n",
      "Epoch 88/100\n",
      "519/519 [==============================] - 3s 6ms/step - loss: 3.5529e-05 - train_mean_loss: 3.5570e-05 - val_loss: 4.6947e-05 - val_train_mean_loss: 4.7274e-05\n",
      "Epoch 89/100\n",
      "519/519 [==============================] - 3s 6ms/step - loss: 1.7966e-05 - train_mean_loss: 1.7987e-05 - val_loss: 1.2897e-05 - val_train_mean_loss: 1.2987e-05\n",
      "Epoch 90/100\n",
      "519/519 [==============================] - 3s 6ms/step - loss: 2.9431e-05 - train_mean_loss: 2.9465e-05 - val_loss: 2.2820e-05 - val_train_mean_loss: 2.2979e-05\n",
      "Epoch 91/100\n",
      "519/519 [==============================] - 3s 6ms/step - loss: 2.8246e-05 - train_mean_loss: 2.8279e-05 - val_loss: 4.0816e-05 - val_train_mean_loss: 4.1101e-05\n",
      "Epoch 92/100\n",
      "519/519 [==============================] - 3s 6ms/step - loss: 2.2987e-05 - train_mean_loss: 2.3014e-05 - val_loss: 6.3215e-05 - val_train_mean_loss: 6.3656e-05\n",
      "Epoch 93/100\n",
      "519/519 [==============================] - 3s 6ms/step - loss: 2.7468e-05 - train_mean_loss: 2.7500e-05 - val_loss: 1.2522e-05 - val_train_mean_loss: 1.2609e-05\n",
      "Epoch 94/100\n",
      "519/519 [==============================] - 3s 6ms/step - loss: 2.0518e-05 - train_mean_loss: 2.0542e-05 - val_loss: 2.7554e-05 - val_train_mean_loss: 2.7746e-05\n",
      "Epoch 95/100\n",
      "519/519 [==============================] - 3s 6ms/step - loss: 3.4033e-05 - train_mean_loss: 3.4073e-05 - val_loss: 1.9657e-04 - val_train_mean_loss: 1.9794e-04\n",
      "Epoch 96/100\n",
      "519/519 [==============================] - 3s 6ms/step - loss: 2.4285e-05 - train_mean_loss: 2.4313e-05 - val_loss: 6.6474e-05 - val_train_mean_loss: 6.6936e-05\n",
      "Epoch 97/100\n",
      "519/519 [==============================] - 3s 6ms/step - loss: 2.2268e-05 - train_mean_loss: 2.2294e-05 - val_loss: 2.9136e-05 - val_train_mean_loss: 2.9339e-05\n",
      "Epoch 98/100\n",
      "519/519 [==============================] - 3s 6ms/step - loss: 2.1801e-05 - train_mean_loss: 2.1826e-05 - val_loss: 2.8305e-05 - val_train_mean_loss: 2.8502e-05\n",
      "Epoch 99/100\n",
      "519/519 [==============================] - 3s 6ms/step - loss: 2.7684e-05 - train_mean_loss: 2.7716e-05 - val_loss: 3.4944e-05 - val_train_mean_loss: 3.5188e-05\n",
      "Epoch 100/100\n",
      "519/519 [==============================] - 3s 6ms/step - loss: 2.3323e-05 - train_mean_loss: 2.3350e-05 - val_loss: 2.0219e-04 - val_train_mean_loss: 2.0359e-04\n"
     ]
    }
   ],
   "source": [
    "from typing import Tuple\n",
    "import math\n",
    "\n",
    "from tensorflow.keras.metrics import MeanSquaredError\n",
    "\n",
    "model.compile(\n",
    "    optimizer=tf.keras.optimizers.legacy.Adam(),\n",
    "    loss=tf.keras.losses.MeanSquaredError(name=\"train_loss\"),\n",
    "    weighted_metrics=[\n",
    "        MeanSquaredError(name='train_mean_loss')\n",
    "    ],\n",
    ")\n",
    "\n",
    "BATCH_SIZE = 1000\n",
    "\n",
    "\n",
    "def gen_generator(inpts: np.ndarray, outs: np.ndarray, train=True, bs=BATCH_SIZE):\n",
    "    def generator() -> Iterator[Tuple[tf.Tensor, tf.Tensor, tf.Tensor]]:\n",
    "        indexes = np.arange(inpts.shape[0])\n",
    "        np.random.shuffle(indexes)\n",
    "        train_size = math.ceil(inpts.shape[0] * 9 / 10)\n",
    "        train_indexes = indexes[0:train_size]\n",
    "        test_indexes = indexes[train_size:-1]\n",
    "\n",
    "        def read_batches(idx: np.ndarray, bs=bs) -> Iterator[\n",
    "            Tuple[tf.Tensor, tf.Tensor, tf.Tensor]]:\n",
    "            for i in range(0, idx.shape[0], bs):\n",
    "                ii = idx[i:(i + bs)]\n",
    "                r = bs - len(ii)\n",
    "                x = inpts[ii]\n",
    "                x = np.pad(x, ((0, r), (0, 0)), mode=\"constant\", constant_values=[0])\n",
    "                y = outs[ii]\n",
    "                y = np.pad(y, ((0, r), (0, 0)), mode=\"constant\", constant_values=[0])\n",
    "                w = np.append(np.ones(len(ii)), np.zeros(r))\n",
    "                yield tf.convert_to_tensor(x), tf.convert_to_tensor(y), tf.convert_to_tensor(w)\n",
    "\n",
    "        if train:\n",
    "            return read_batches(train_indexes)\n",
    "        else:\n",
    "            return read_batches(test_indexes)\n",
    "\n",
    "    return generator()\n",
    "\n",
    "\n",
    "data = tf.data.Dataset.from_generator(gen_generator,\n",
    "                                      args=[prepared_input, prepared_output, True, BATCH_SIZE],\n",
    "                                      output_signature=(\n",
    "                                          tf.TensorSpec(shape=(BATCH_SIZE, model.input_shape[1]),\n",
    "                                                        dtype=tf.float32),\n",
    "                                          tf.TensorSpec(shape=(BATCH_SIZE, model.output_shape[1]),\n",
    "                                                        dtype=tf.float32),\n",
    "                                          tf.TensorSpec(shape=(BATCH_SIZE,), dtype=tf.float32)\n",
    "                                      ))\n",
    "val_data = tf.data.Dataset.from_generator(gen_generator,\n",
    "                                          args=[prepared_input, prepared_output, False, BATCH_SIZE],\n",
    "                                          output_signature=(\n",
    "                                              tf.TensorSpec(\n",
    "                                                  shape=(BATCH_SIZE, model.input_shape[1]),\n",
    "                                                  dtype=tf.float32),\n",
    "                                              tf.TensorSpec(\n",
    "                                                  shape=(BATCH_SIZE, model.output_shape[1]),\n",
    "                                                  dtype=tf.float32),\n",
    "                                              tf.TensorSpec(shape=(BATCH_SIZE,), dtype=tf.float32)\n",
    "                                          ))\n",
    "\n",
    "res = model.fit(x=data, epochs=100, validation_data=val_data)"
   ],
   "metadata": {
    "collapsed": false,
    "ExecuteTime": {
     "end_time": "2024-01-01T12:56:21.997771Z",
     "start_time": "2024-01-01T12:51:22.328824Z"
    }
   },
   "id": "c1a06e881136ca46",
   "execution_count": 26
  },
  {
   "cell_type": "markdown",
   "source": [
    "## Plot stats"
   ],
   "metadata": {
    "collapsed": false
   },
   "id": "4eebdfda2c53bd5a"
  },
  {
   "cell_type": "code",
   "outputs": [
    {
     "data": {
      "text/plain": "<Figure size 640x480 with 1 Axes>",
      "image/png": "[encoded data removed]"
     },
     "metadata": {},
     "output_type": "display_data"
    },
    {
     "data": {
      "text/plain": "<Figure size 640x480 with 1 Axes>",
      "image/png": "[encoded data removed]"
     },
     "metadata": {},
     "output_type": "display_data"
    }
   ],
   "source": [
    "%matplotlib inline\n",
    "\n",
    "\n",
    "plt.title(\"train loss\")\n",
    "plt.plot(res.history['train_mean_loss'])\n",
    "plt.show()\n",
    "plt.title(\"val loss\")\n",
    "plt.plot(res.history['val_train_mean_loss'])\n",
    "plt.show()"
   ],
   "metadata": {
    "collapsed": false,
    "ExecuteTime": {
     "end_time": "2024-01-01T12:57:07.645089Z",
     "start_time": "2024-01-01T12:57:07.508422Z"
    }
   },
   "id": "f26f5524b6ba23c8",
   "execution_count": 30
  },
  {
   "cell_type": "markdown",
   "source": [
    "#### Some random tests"
   ],
   "metadata": {
    "collapsed": false
   },
   "id": "6371628c36843ede"
  },
  {
   "cell_type": "code",
   "outputs": [
    {
     "data": {
      "text/plain": "<Figure size 640x480 with 1 Axes>",
      "image/png": "[encoded data removed]"
     },
     "metadata": {},
     "output_type": "display_data"
    },
    {
     "data": {
      "text/plain": "<Figure size 640x480 with 1 Axes>",
      "image/png": "[encoded data removed]"
     },
     "metadata": {},
     "output_type": "display_data"
    }
   ],
   "source": [
    "s1 = np.array([1, 1, -1, 1, -1, -1, 1, -1, 1, 1, 1, 2, -1, 2, -1, 1])\n",
    "\n",
    "from utils import draw_row\n",
    "\n",
    "fig = plt.figure()\n",
    "ax = fig.add_axes((0, 0, 1, 1))\n",
    "draw_row(model, ax, s1)\n",
    "plt.show()\n",
    "\n",
    "s1 = np.array([1, 1, -1, 1, -1, -1, 1, -1, 1, 2, 1, 3, -1, 3, -1, 2])\n",
    "fig = plt.figure()\n",
    "ax = fig.add_axes((0, 0, 1, 1))\n",
    "draw_row(model, ax, s1)\n",
    "plt.show()\n"
   ],
   "metadata": {
    "collapsed": false,
    "ExecuteTime": {
     "end_time": "2024-01-01T12:57:18.722748Z",
     "start_time": "2024-01-01T12:57:18.512843Z"
    }
   },
   "id": "2d7fb58e982f6341",
   "execution_count": 31
  },
  {
   "cell_type": "code",
   "outputs": [
    {
     "name": "stdout",
     "output_type": "stream",
     "text": [
      "INFO:tensorflow:Assets written to: model_rot_compiled/assets\n"
     ]
    },
    {
     "name": "stderr",
     "output_type": "stream",
     "text": [
      "INFO:tensorflow:Assets written to: model_rot_compiled/assets\n"
     ]
    }
   ],
   "source": [
    "model.save(datadir(\"model_rot_compiled\"))"
   ],
   "metadata": {
    "collapsed": false,
    "ExecuteTime": {
     "end_time": "2024-01-01T12:57:27.314044Z",
     "start_time": "2024-01-01T12:57:27.104241Z"
    }
   },
   "id": "d5c6fb35a49586d1",
   "execution_count": 32
  },
  {
   "cell_type": "code",
   "outputs": [],
   "source": [],
   "metadata": {
    "collapsed": false,
    "ExecuteTime": {
     "end_time": "2024-01-01T12:56:22.238034Z",
     "start_time": "2024-01-01T12:56:22.237220Z"
    }
   },
   "id": "179298ecc16700e3"
  }
 ],
 "metadata": {
  "kernelspec": {
   "display_name": "Python 3",
   "language": "python",
   "name": "python3"
  },
  "language_info": {
   "codemirror_mode": {
    "name": "ipython",
    "version": 2
   },
   "file_extension": ".py",
   "mimetype": "text/x-python",
   "name": "python",
   "nbconvert_exporter": "python",
   "pygments_lexer": "ipython2",
   "version": "2.7.6"
  }
 },
 "nbformat": 4,
 "nbformat_minor": 5
}
