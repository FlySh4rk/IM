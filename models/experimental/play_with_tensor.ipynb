{
 "cells": [
  {
   "cell_type": "code",
   "execution_count": 2,
   "id": "initial_id",
   "metadata": {
    "collapsed": true,
    "ExecuteTime": {
     "end_time": "2024-02-04T16:53:44.901848Z",
     "start_time": "2024-02-04T16:53:44.896025Z"
    }
   },
   "outputs": [],
   "source": [
    "# Testing some hypothesis"
   ]
  },
  {
   "cell_type": "code",
   "outputs": [
    {
     "name": "stdout",
     "output_type": "stream",
     "text": [
      "tf.Tensor(\n",
      "[[ 1  0  0]\n",
      " [ 0  1  0]\n",
      " [ 0  0  1]\n",
      " [-1  0  0]\n",
      " [ 0 -1  0]\n",
      " [ 0  0 -1]], shape=(6, 3), dtype=int32)\n"
     ]
    },
    {
     "name": "stderr",
     "output_type": "stream",
     "text": [
      "2024-02-04 17:53:46.727893: I metal_plugin/src/device/metal_device.cc:1154] Metal device set to: Apple M1 Max\n",
      "2024-02-04 17:53:46.727913: I metal_plugin/src/device/metal_device.cc:296] systemMemory: 64.00 GB\n",
      "2024-02-04 17:53:46.727917: I metal_plugin/src/device/metal_device.cc:313] maxCacheSize: 24.00 GB\n",
      "2024-02-04 17:53:46.727946: I tensorflow/core/common_runtime/pluggable_device/pluggable_device_factory.cc:306] Could not identify NUMA node of platform GPU ID 0, defaulting to 0. Your kernel may not have been built with NUMA support.\n",
      "2024-02-04 17:53:46.727961: I tensorflow/core/common_runtime/pluggable_device/pluggable_device_factory.cc:272] Created TensorFlow device (/job:localhost/replica:0/task:0/device:GPU:0 with 0 MB memory) -> physical PluggableDevice (device: 0, name: METAL, pci bus id: <undefined>)\n"
     ]
    }
   ],
   "source": [
    "import tensorflow as tf\n",
    "\n",
    "rel_points = tf.convert_to_tensor(\n",
    "    [[1, 0, 0], [0, 1, 0], [0, 0, 1], [-1, 0, 0], [0, -1, 0], [0, 0, -1]])\n",
    "print(rel_points)"
   ],
   "metadata": {
    "collapsed": false,
    "ExecuteTime": {
     "end_time": "2024-02-04T16:53:46.737545Z",
     "start_time": "2024-02-04T16:53:44.903796Z"
    }
   },
   "id": "3113ccfdff10a463",
   "execution_count": 3
  },
  {
   "cell_type": "code",
   "outputs": [
    {
     "name": "stdout",
     "output_type": "stream",
     "text": [
      "tf.Tensor(\n",
      "[[ 1  1  1  1]\n",
      " [ 2  2  2  1]\n",
      " [ 3  3  3  1]\n",
      " [10 10 10  1]], shape=(4, 4), dtype=int32)\n"
     ]
    }
   ],
   "source": [
    "centers = tf.convert_to_tensor([[1, 1, 1, 1], [2, 2, 2, 1], [3, 3, 3, 1], [10, 10, 10, 1]])\n",
    "print(centers)"
   ],
   "metadata": {
    "collapsed": false,
    "ExecuteTime": {
     "end_time": "2024-02-04T16:53:46.741948Z",
     "start_time": "2024-02-04T16:53:46.738993Z"
    }
   },
   "id": "202a67feda36a79",
   "execution_count": 4
  },
  {
   "cell_type": "code",
   "outputs": [
    {
     "name": "stdout",
     "output_type": "stream",
     "text": [
      "tf.Tensor(\n",
      "[[ 1  1  1]\n",
      " [ 2  2  2]\n",
      " [ 3  3  3]\n",
      " [10 10 10]], shape=(4, 3), dtype=int32)\n",
      "tf.Tensor(\n",
      "[[1]\n",
      " [1]\n",
      " [1]\n",
      " [1]], shape=(4, 1), dtype=int32)\n"
     ]
    }
   ],
   "source": [
    "coords, feats = tf.split(centers, [3, 1], axis=-1)\n",
    "print(coords)\n",
    "print(feats)"
   ],
   "metadata": {
    "collapsed": false,
    "ExecuteTime": {
     "end_time": "2024-02-04T16:53:46.750089Z",
     "start_time": "2024-02-04T16:53:46.742109Z"
    }
   },
   "id": "c9b567a1926f9959",
   "execution_count": 5
  },
  {
   "cell_type": "code",
   "outputs": [
    {
     "name": "stdout",
     "output_type": "stream",
     "text": [
      "n=4, d=3\n"
     ]
    }
   ],
   "source": [
    "n, d = coords.shape\n",
    "print(f\"n={n}, d={d}\")"
   ],
   "metadata": {
    "collapsed": false,
    "ExecuteTime": {
     "end_time": "2024-02-04T16:53:46.750961Z",
     "start_time": "2024-02-04T16:53:46.748158Z"
    }
   },
   "id": "ccbf14a469896def",
   "execution_count": 6
  },
  {
   "cell_type": "code",
   "outputs": [
    {
     "name": "stdout",
     "output_type": "stream",
     "text": [
      "num centers = 6\n"
     ]
    }
   ],
   "source": [
    "m, _ = rel_points.shape\n",
    "print(f\"num centers = {m}\")"
   ],
   "metadata": {
    "collapsed": false,
    "ExecuteTime": {
     "end_time": "2024-02-04T16:53:46.752498Z",
     "start_time": "2024-02-04T16:53:46.750708Z"
    }
   },
   "id": "d8a94dfc9321e3be",
   "execution_count": 7
  },
  {
   "cell_type": "code",
   "outputs": [
    {
     "name": "stdout",
     "output_type": "stream",
     "text": [
      "tf.Tensor(\n",
      "[[[ 1  1  1]\n",
      "  [ 1  1  1]\n",
      "  [ 1  1  1]\n",
      "  [ 1  1  1]\n",
      "  [ 1  1  1]\n",
      "  [ 1  1  1]]\n",
      "\n",
      " [[ 2  2  2]\n",
      "  [ 2  2  2]\n",
      "  [ 2  2  2]\n",
      "  [ 2  2  2]\n",
      "  [ 2  2  2]\n",
      "  [ 2  2  2]]\n",
      "\n",
      " [[ 3  3  3]\n",
      "  [ 3  3  3]\n",
      "  [ 3  3  3]\n",
      "  [ 3  3  3]\n",
      "  [ 3  3  3]\n",
      "  [ 3  3  3]]\n",
      "\n",
      " [[10 10 10]\n",
      "  [10 10 10]\n",
      "  [10 10 10]\n",
      "  [10 10 10]\n",
      "  [10 10 10]\n",
      "  [10 10 10]]], shape=(4, 6, 3), dtype=int32)\n"
     ]
    }
   ],
   "source": [
    "coords_broadcasted = tf.broadcast_to(tf.reshape(coords, (n, 1, d)), shape=(n, m, d))\n",
    "print(coords_broadcasted)"
   ],
   "metadata": {
    "collapsed": false,
    "ExecuteTime": {
     "end_time": "2024-02-04T16:53:46.784045Z",
     "start_time": "2024-02-04T16:53:46.754056Z"
    }
   },
   "id": "cfadb019f906de7d",
   "execution_count": 8
  },
  {
   "cell_type": "code",
   "outputs": [
    {
     "name": "stdout",
     "output_type": "stream",
     "text": [
      "tf.Tensor(\n",
      "[[[ 1  0  0]\n",
      "  [ 0  1  0]\n",
      "  [ 0  0  1]\n",
      "  [-1  0  0]\n",
      "  [ 0 -1  0]\n",
      "  [ 0  0 -1]]\n",
      "\n",
      " [[ 1  0  0]\n",
      "  [ 0  1  0]\n",
      "  [ 0  0  1]\n",
      "  [-1  0  0]\n",
      "  [ 0 -1  0]\n",
      "  [ 0  0 -1]]\n",
      "\n",
      " [[ 1  0  0]\n",
      "  [ 0  1  0]\n",
      "  [ 0  0  1]\n",
      "  [-1  0  0]\n",
      "  [ 0 -1  0]\n",
      "  [ 0  0 -1]]\n",
      "\n",
      " [[ 1  0  0]\n",
      "  [ 0  1  0]\n",
      "  [ 0  0  1]\n",
      "  [-1  0  0]\n",
      "  [ 0 -1  0]\n",
      "  [ 0  0 -1]]], shape=(4, 6, 3), dtype=int32)\n"
     ]
    }
   ],
   "source": [
    "center_broadcasted = tf.broadcast_to(tf.reshape(rel_points, (1, m, d)), shape=(n, m, d))\n",
    "print(center_broadcasted)"
   ],
   "metadata": {
    "collapsed": false,
    "ExecuteTime": {
     "end_time": "2024-02-04T16:53:46.784530Z",
     "start_time": "2024-02-04T16:53:46.758513Z"
    }
   },
   "id": "88e923924506c757",
   "execution_count": 9
  },
  {
   "cell_type": "code",
   "outputs": [
    {
     "name": "stdout",
     "output_type": "stream",
     "text": [
      "tf.Tensor(\n",
      "[[[ 2  1  1]\n",
      "  [ 1  2  1]\n",
      "  [ 1  1  2]\n",
      "  [ 0  1  1]\n",
      "  [ 1  0  1]\n",
      "  [ 1  1  0]]\n",
      "\n",
      " [[ 3  2  2]\n",
      "  [ 2  3  2]\n",
      "  [ 2  2  3]\n",
      "  [ 1  2  2]\n",
      "  [ 2  1  2]\n",
      "  [ 2  2  1]]\n",
      "\n",
      " [[ 4  3  3]\n",
      "  [ 3  4  3]\n",
      "  [ 3  3  4]\n",
      "  [ 2  3  3]\n",
      "  [ 3  2  3]\n",
      "  [ 3  3  2]]\n",
      "\n",
      " [[11 10 10]\n",
      "  [10 11 10]\n",
      "  [10 10 11]\n",
      "  [ 9 10 10]\n",
      "  [10  9 10]\n",
      "  [10 10  9]]], shape=(4, 6, 3), dtype=int32)\n"
     ]
    }
   ],
   "source": [
    "computed_points = center_broadcasted + coords_broadcasted\n",
    "print(computed_points)"
   ],
   "metadata": {
    "collapsed": false,
    "ExecuteTime": {
     "end_time": "2024-02-04T16:53:46.786337Z",
     "start_time": "2024-02-04T16:53:46.761773Z"
    }
   },
   "id": "3bc2dcb3975b15bc",
   "execution_count": 10
  },
  {
   "cell_type": "code",
   "outputs": [
    {
     "name": "stdout",
     "output_type": "stream",
     "text": [
      "tf.Tensor(\n",
      "[[2 1 2]\n",
      " [3 4 5]\n",
      " [6 7 8]\n",
      " [3 2 1]\n",
      " [5 4 3]\n",
      " [6 6 6]], shape=(6, 3), dtype=int32)\n"
     ]
    }
   ],
   "source": [
    "# Now let's get some points to convolute\n",
    "\n",
    "inputs = tf.convert_to_tensor([[2, 1, 2], [3, 4, 5], [6, 7, 8], [3, 2, 1], [5, 4, 3], [6, 6, 6]])\n",
    "print(inputs)"
   ],
   "metadata": {
    "collapsed": false,
    "ExecuteTime": {
     "end_time": "2024-02-04T16:53:46.787236Z",
     "start_time": "2024-02-04T16:53:46.765482Z"
    }
   },
   "id": "7b5928526a3bf79b",
   "execution_count": 11
  },
  {
   "cell_type": "code",
   "outputs": [
    {
     "name": "stdout",
     "output_type": "stream",
     "text": [
      "Num points = 6\n"
     ]
    }
   ],
   "source": [
    "nn, _ = inputs.shape\n",
    "print(f\"Num points = {nn}\")"
   ],
   "metadata": {
    "collapsed": false,
    "ExecuteTime": {
     "end_time": "2024-02-04T16:53:46.788196Z",
     "start_time": "2024-02-04T16:53:46.769454Z"
    }
   },
   "id": "b2e608451954819a",
   "execution_count": 12
  },
  {
   "cell_type": "code",
   "outputs": [
    {
     "name": "stdout",
     "output_type": "stream",
     "text": [
      "tf.Tensor(\n",
      "[[[[2 1 2]\n",
      "   [2 1 2]\n",
      "   [2 1 2]\n",
      "   [2 1 2]\n",
      "   [2 1 2]\n",
      "   [2 1 2]]\n",
      "\n",
      "  [[2 1 2]\n",
      "   [2 1 2]\n",
      "   [2 1 2]\n",
      "   [2 1 2]\n",
      "   [2 1 2]\n",
      "   [2 1 2]]\n",
      "\n",
      "  [[2 1 2]\n",
      "   [2 1 2]\n",
      "   [2 1 2]\n",
      "   [2 1 2]\n",
      "   [2 1 2]\n",
      "   [2 1 2]]\n",
      "\n",
      "  [[2 1 2]\n",
      "   [2 1 2]\n",
      "   [2 1 2]\n",
      "   [2 1 2]\n",
      "   [2 1 2]\n",
      "   [2 1 2]]]\n",
      "\n",
      "\n",
      " [[[3 4 5]\n",
      "   [3 4 5]\n",
      "   [3 4 5]\n",
      "   [3 4 5]\n",
      "   [3 4 5]\n",
      "   [3 4 5]]\n",
      "\n",
      "  [[3 4 5]\n",
      "   [3 4 5]\n",
      "   [3 4 5]\n",
      "   [3 4 5]\n",
      "   [3 4 5]\n",
      "   [3 4 5]]\n",
      "\n",
      "  [[3 4 5]\n",
      "   [3 4 5]\n",
      "   [3 4 5]\n",
      "   [3 4 5]\n",
      "   [3 4 5]\n",
      "   [3 4 5]]\n",
      "\n",
      "  [[3 4 5]\n",
      "   [3 4 5]\n",
      "   [3 4 5]\n",
      "   [3 4 5]\n",
      "   [3 4 5]\n",
      "   [3 4 5]]]\n",
      "\n",
      "\n",
      " [[[6 7 8]\n",
      "   [6 7 8]\n",
      "   [6 7 8]\n",
      "   [6 7 8]\n",
      "   [6 7 8]\n",
      "   [6 7 8]]\n",
      "\n",
      "  [[6 7 8]\n",
      "   [6 7 8]\n",
      "   [6 7 8]\n",
      "   [6 7 8]\n",
      "   [6 7 8]\n",
      "   [6 7 8]]\n",
      "\n",
      "  [[6 7 8]\n",
      "   [6 7 8]\n",
      "   [6 7 8]\n",
      "   [6 7 8]\n",
      "   [6 7 8]\n",
      "   [6 7 8]]\n",
      "\n",
      "  [[6 7 8]\n",
      "   [6 7 8]\n",
      "   [6 7 8]\n",
      "   [6 7 8]\n",
      "   [6 7 8]\n",
      "   [6 7 8]]]\n",
      "\n",
      "\n",
      " [[[3 2 1]\n",
      "   [3 2 1]\n",
      "   [3 2 1]\n",
      "   [3 2 1]\n",
      "   [3 2 1]\n",
      "   [3 2 1]]\n",
      "\n",
      "  [[3 2 1]\n",
      "   [3 2 1]\n",
      "   [3 2 1]\n",
      "   [3 2 1]\n",
      "   [3 2 1]\n",
      "   [3 2 1]]\n",
      "\n",
      "  [[3 2 1]\n",
      "   [3 2 1]\n",
      "   [3 2 1]\n",
      "   [3 2 1]\n",
      "   [3 2 1]\n",
      "   [3 2 1]]\n",
      "\n",
      "  [[3 2 1]\n",
      "   [3 2 1]\n",
      "   [3 2 1]\n",
      "   [3 2 1]\n",
      "   [3 2 1]\n",
      "   [3 2 1]]]\n",
      "\n",
      "\n",
      " [[[5 4 3]\n",
      "   [5 4 3]\n",
      "   [5 4 3]\n",
      "   [5 4 3]\n",
      "   [5 4 3]\n",
      "   [5 4 3]]\n",
      "\n",
      "  [[5 4 3]\n",
      "   [5 4 3]\n",
      "   [5 4 3]\n",
      "   [5 4 3]\n",
      "   [5 4 3]\n",
      "   [5 4 3]]\n",
      "\n",
      "  [[5 4 3]\n",
      "   [5 4 3]\n",
      "   [5 4 3]\n",
      "   [5 4 3]\n",
      "   [5 4 3]\n",
      "   [5 4 3]]\n",
      "\n",
      "  [[5 4 3]\n",
      "   [5 4 3]\n",
      "   [5 4 3]\n",
      "   [5 4 3]\n",
      "   [5 4 3]\n",
      "   [5 4 3]]]\n",
      "\n",
      "\n",
      " [[[6 6 6]\n",
      "   [6 6 6]\n",
      "   [6 6 6]\n",
      "   [6 6 6]\n",
      "   [6 6 6]\n",
      "   [6 6 6]]\n",
      "\n",
      "  [[6 6 6]\n",
      "   [6 6 6]\n",
      "   [6 6 6]\n",
      "   [6 6 6]\n",
      "   [6 6 6]\n",
      "   [6 6 6]]\n",
      "\n",
      "  [[6 6 6]\n",
      "   [6 6 6]\n",
      "   [6 6 6]\n",
      "   [6 6 6]\n",
      "   [6 6 6]\n",
      "   [6 6 6]]\n",
      "\n",
      "  [[6 6 6]\n",
      "   [6 6 6]\n",
      "   [6 6 6]\n",
      "   [6 6 6]\n",
      "   [6 6 6]\n",
      "   [6 6 6]]]], shape=(6, 4, 6, 3), dtype=int32)\n"
     ]
    }
   ],
   "source": [
    "# Compute relative distances from focus points\n",
    "\n",
    "inputs_b = tf.broadcast_to(tf.reshape(inputs, (nn, 1, 1, 3)), shape=(nn, n, m, d))\n",
    "print(inputs_b)"
   ],
   "metadata": {
    "collapsed": false,
    "ExecuteTime": {
     "end_time": "2024-02-04T16:53:46.788787Z",
     "start_time": "2024-02-04T16:53:46.772024Z"
    }
   },
   "id": "a00654286f8b3b73",
   "execution_count": 13
  },
  {
   "cell_type": "code",
   "outputs": [
    {
     "name": "stdout",
     "output_type": "stream",
     "text": [
      "tf.Tensor(\n",
      "[[[[ 2  1  1]\n",
      "   [ 1  2  1]\n",
      "   [ 1  1  2]\n",
      "   [ 0  1  1]\n",
      "   [ 1  0  1]\n",
      "   [ 1  1  0]]\n",
      "\n",
      "  [[ 3  2  2]\n",
      "   [ 2  3  2]\n",
      "   [ 2  2  3]\n",
      "   [ 1  2  2]\n",
      "   [ 2  1  2]\n",
      "   [ 2  2  1]]\n",
      "\n",
      "  [[ 4  3  3]\n",
      "   [ 3  4  3]\n",
      "   [ 3  3  4]\n",
      "   [ 2  3  3]\n",
      "   [ 3  2  3]\n",
      "   [ 3  3  2]]\n",
      "\n",
      "  [[11 10 10]\n",
      "   [10 11 10]\n",
      "   [10 10 11]\n",
      "   [ 9 10 10]\n",
      "   [10  9 10]\n",
      "   [10 10  9]]]\n",
      "\n",
      "\n",
      " [[[ 2  1  1]\n",
      "   [ 1  2  1]\n",
      "   [ 1  1  2]\n",
      "   [ 0  1  1]\n",
      "   [ 1  0  1]\n",
      "   [ 1  1  0]]\n",
      "\n",
      "  [[ 3  2  2]\n",
      "   [ 2  3  2]\n",
      "   [ 2  2  3]\n",
      "   [ 1  2  2]\n",
      "   [ 2  1  2]\n",
      "   [ 2  2  1]]\n",
      "\n",
      "  [[ 4  3  3]\n",
      "   [ 3  4  3]\n",
      "   [ 3  3  4]\n",
      "   [ 2  3  3]\n",
      "   [ 3  2  3]\n",
      "   [ 3  3  2]]\n",
      "\n",
      "  [[11 10 10]\n",
      "   [10 11 10]\n",
      "   [10 10 11]\n",
      "   [ 9 10 10]\n",
      "   [10  9 10]\n",
      "   [10 10  9]]]\n",
      "\n",
      "\n",
      " [[[ 2  1  1]\n",
      "   [ 1  2  1]\n",
      "   [ 1  1  2]\n",
      "   [ 0  1  1]\n",
      "   [ 1  0  1]\n",
      "   [ 1  1  0]]\n",
      "\n",
      "  [[ 3  2  2]\n",
      "   [ 2  3  2]\n",
      "   [ 2  2  3]\n",
      "   [ 1  2  2]\n",
      "   [ 2  1  2]\n",
      "   [ 2  2  1]]\n",
      "\n",
      "  [[ 4  3  3]\n",
      "   [ 3  4  3]\n",
      "   [ 3  3  4]\n",
      "   [ 2  3  3]\n",
      "   [ 3  2  3]\n",
      "   [ 3  3  2]]\n",
      "\n",
      "  [[11 10 10]\n",
      "   [10 11 10]\n",
      "   [10 10 11]\n",
      "   [ 9 10 10]\n",
      "   [10  9 10]\n",
      "   [10 10  9]]]\n",
      "\n",
      "\n",
      " [[[ 2  1  1]\n",
      "   [ 1  2  1]\n",
      "   [ 1  1  2]\n",
      "   [ 0  1  1]\n",
      "   [ 1  0  1]\n",
      "   [ 1  1  0]]\n",
      "\n",
      "  [[ 3  2  2]\n",
      "   [ 2  3  2]\n",
      "   [ 2  2  3]\n",
      "   [ 1  2  2]\n",
      "   [ 2  1  2]\n",
      "   [ 2  2  1]]\n",
      "\n",
      "  [[ 4  3  3]\n",
      "   [ 3  4  3]\n",
      "   [ 3  3  4]\n",
      "   [ 2  3  3]\n",
      "   [ 3  2  3]\n",
      "   [ 3  3  2]]\n",
      "\n",
      "  [[11 10 10]\n",
      "   [10 11 10]\n",
      "   [10 10 11]\n",
      "   [ 9 10 10]\n",
      "   [10  9 10]\n",
      "   [10 10  9]]]\n",
      "\n",
      "\n",
      " [[[ 2  1  1]\n",
      "   [ 1  2  1]\n",
      "   [ 1  1  2]\n",
      "   [ 0  1  1]\n",
      "   [ 1  0  1]\n",
      "   [ 1  1  0]]\n",
      "\n",
      "  [[ 3  2  2]\n",
      "   [ 2  3  2]\n",
      "   [ 2  2  3]\n",
      "   [ 1  2  2]\n",
      "   [ 2  1  2]\n",
      "   [ 2  2  1]]\n",
      "\n",
      "  [[ 4  3  3]\n",
      "   [ 3  4  3]\n",
      "   [ 3  3  4]\n",
      "   [ 2  3  3]\n",
      "   [ 3  2  3]\n",
      "   [ 3  3  2]]\n",
      "\n",
      "  [[11 10 10]\n",
      "   [10 11 10]\n",
      "   [10 10 11]\n",
      "   [ 9 10 10]\n",
      "   [10  9 10]\n",
      "   [10 10  9]]]\n",
      "\n",
      "\n",
      " [[[ 2  1  1]\n",
      "   [ 1  2  1]\n",
      "   [ 1  1  2]\n",
      "   [ 0  1  1]\n",
      "   [ 1  0  1]\n",
      "   [ 1  1  0]]\n",
      "\n",
      "  [[ 3  2  2]\n",
      "   [ 2  3  2]\n",
      "   [ 2  2  3]\n",
      "   [ 1  2  2]\n",
      "   [ 2  1  2]\n",
      "   [ 2  2  1]]\n",
      "\n",
      "  [[ 4  3  3]\n",
      "   [ 3  4  3]\n",
      "   [ 3  3  4]\n",
      "   [ 2  3  3]\n",
      "   [ 3  2  3]\n",
      "   [ 3  3  2]]\n",
      "\n",
      "  [[11 10 10]\n",
      "   [10 11 10]\n",
      "   [10 10 11]\n",
      "   [ 9 10 10]\n",
      "   [10  9 10]\n",
      "   [10 10  9]]]], shape=(6, 4, 6, 3), dtype=int32)\n"
     ]
    }
   ],
   "source": [
    "computed_points_b = tf.broadcast_to(tf.reshape(computed_points, (1, n, m, d)), (nn, n, m, d))\n",
    "print(computed_points_b)"
   ],
   "metadata": {
    "collapsed": false,
    "ExecuteTime": {
     "end_time": "2024-02-04T16:53:46.794807Z",
     "start_time": "2024-02-04T16:53:46.776266Z"
    }
   },
   "id": "dec342f68b859d58",
   "execution_count": 14
  },
  {
   "cell_type": "code",
   "outputs": [
    {
     "name": "stdout",
     "output_type": "stream",
     "text": [
      "tf.Tensor(\n",
      "[[[[  0   0   1]\n",
      "   [  1  -1   1]\n",
      "   [  1   0   0]\n",
      "   [  2   0   1]\n",
      "   [  1   1   1]\n",
      "   [  1   0   2]]\n",
      "\n",
      "  [[ -1  -1   0]\n",
      "   [  0  -2   0]\n",
      "   [  0  -1  -1]\n",
      "   [  1  -1   0]\n",
      "   [  0   0   0]\n",
      "   [  0  -1   1]]\n",
      "\n",
      "  [[ -2  -2  -1]\n",
      "   [ -1  -3  -1]\n",
      "   [ -1  -2  -2]\n",
      "   [  0  -2  -1]\n",
      "   [ -1  -1  -1]\n",
      "   [ -1  -2   0]]\n",
      "\n",
      "  [[ -9  -9  -8]\n",
      "   [ -8 -10  -8]\n",
      "   [ -8  -9  -9]\n",
      "   [ -7  -9  -8]\n",
      "   [ -8  -8  -8]\n",
      "   [ -8  -9  -7]]]\n",
      "\n",
      "\n",
      " [[[  1   3   4]\n",
      "   [  2   2   4]\n",
      "   [  2   3   3]\n",
      "   [  3   3   4]\n",
      "   [  2   4   4]\n",
      "   [  2   3   5]]\n",
      "\n",
      "  [[  0   2   3]\n",
      "   [  1   1   3]\n",
      "   [  1   2   2]\n",
      "   [  2   2   3]\n",
      "   [  1   3   3]\n",
      "   [  1   2   4]]\n",
      "\n",
      "  [[ -1   1   2]\n",
      "   [  0   0   2]\n",
      "   [  0   1   1]\n",
      "   [  1   1   2]\n",
      "   [  0   2   2]\n",
      "   [  0   1   3]]\n",
      "\n",
      "  [[ -8  -6  -5]\n",
      "   [ -7  -7  -5]\n",
      "   [ -7  -6  -6]\n",
      "   [ -6  -6  -5]\n",
      "   [ -7  -5  -5]\n",
      "   [ -7  -6  -4]]]\n",
      "\n",
      "\n",
      " [[[  4   6   7]\n",
      "   [  5   5   7]\n",
      "   [  5   6   6]\n",
      "   [  6   6   7]\n",
      "   [  5   7   7]\n",
      "   [  5   6   8]]\n",
      "\n",
      "  [[  3   5   6]\n",
      "   [  4   4   6]\n",
      "   [  4   5   5]\n",
      "   [  5   5   6]\n",
      "   [  4   6   6]\n",
      "   [  4   5   7]]\n",
      "\n",
      "  [[  2   4   5]\n",
      "   [  3   3   5]\n",
      "   [  3   4   4]\n",
      "   [  4   4   5]\n",
      "   [  3   5   5]\n",
      "   [  3   4   6]]\n",
      "\n",
      "  [[ -5  -3  -2]\n",
      "   [ -4  -4  -2]\n",
      "   [ -4  -3  -3]\n",
      "   [ -3  -3  -2]\n",
      "   [ -4  -2  -2]\n",
      "   [ -4  -3  -1]]]\n",
      "\n",
      "\n",
      " [[[  1   1   0]\n",
      "   [  2   0   0]\n",
      "   [  2   1  -1]\n",
      "   [  3   1   0]\n",
      "   [  2   2   0]\n",
      "   [  2   1   1]]\n",
      "\n",
      "  [[  0   0  -1]\n",
      "   [  1  -1  -1]\n",
      "   [  1   0  -2]\n",
      "   [  2   0  -1]\n",
      "   [  1   1  -1]\n",
      "   [  1   0   0]]\n",
      "\n",
      "  [[ -1  -1  -2]\n",
      "   [  0  -2  -2]\n",
      "   [  0  -1  -3]\n",
      "   [  1  -1  -2]\n",
      "   [  0   0  -2]\n",
      "   [  0  -1  -1]]\n",
      "\n",
      "  [[ -8  -8  -9]\n",
      "   [ -7  -9  -9]\n",
      "   [ -7  -8 -10]\n",
      "   [ -6  -8  -9]\n",
      "   [ -7  -7  -9]\n",
      "   [ -7  -8  -8]]]\n",
      "\n",
      "\n",
      " [[[  3   3   2]\n",
      "   [  4   2   2]\n",
      "   [  4   3   1]\n",
      "   [  5   3   2]\n",
      "   [  4   4   2]\n",
      "   [  4   3   3]]\n",
      "\n",
      "  [[  2   2   1]\n",
      "   [  3   1   1]\n",
      "   [  3   2   0]\n",
      "   [  4   2   1]\n",
      "   [  3   3   1]\n",
      "   [  3   2   2]]\n",
      "\n",
      "  [[  1   1   0]\n",
      "   [  2   0   0]\n",
      "   [  2   1  -1]\n",
      "   [  3   1   0]\n",
      "   [  2   2   0]\n",
      "   [  2   1   1]]\n",
      "\n",
      "  [[ -6  -6  -7]\n",
      "   [ -5  -7  -7]\n",
      "   [ -5  -6  -8]\n",
      "   [ -4  -6  -7]\n",
      "   [ -5  -5  -7]\n",
      "   [ -5  -6  -6]]]\n",
      "\n",
      "\n",
      " [[[  4   5   5]\n",
      "   [  5   4   5]\n",
      "   [  5   5   4]\n",
      "   [  6   5   5]\n",
      "   [  5   6   5]\n",
      "   [  5   5   6]]\n",
      "\n",
      "  [[  3   4   4]\n",
      "   [  4   3   4]\n",
      "   [  4   4   3]\n",
      "   [  5   4   4]\n",
      "   [  4   5   4]\n",
      "   [  4   4   5]]\n",
      "\n",
      "  [[  2   3   3]\n",
      "   [  3   2   3]\n",
      "   [  3   3   2]\n",
      "   [  4   3   3]\n",
      "   [  3   4   3]\n",
      "   [  3   3   4]]\n",
      "\n",
      "  [[ -5  -4  -4]\n",
      "   [ -4  -5  -4]\n",
      "   [ -4  -4  -5]\n",
      "   [ -3  -4  -4]\n",
      "   [ -4  -3  -4]\n",
      "   [ -4  -4  -3]]]], shape=(6, 4, 6, 3), dtype=int32)\n"
     ]
    }
   ],
   "source": [
    "deltas = inputs_b - computed_points_b\n",
    "print(deltas)"
   ],
   "metadata": {
    "collapsed": false,
    "ExecuteTime": {
     "end_time": "2024-02-04T16:53:46.831383Z",
     "start_time": "2024-02-04T16:53:46.778953Z"
    }
   },
   "id": "8fa9c78a3a2d9ff6",
   "execution_count": 15
  },
  {
   "cell_type": "code",
   "outputs": [
    {
     "name": "stdout",
     "output_type": "stream",
     "text": [
      "tf.Tensor(\n",
      "[[[  1   3   1   5   3   5]\n",
      "  [  2   4   2   2   0   2]\n",
      "  [  9  11   9   5   3   5]\n",
      "  [226 228 226 194 192 194]]\n",
      "\n",
      " [[ 26  24  22  34  36  38]\n",
      "  [ 13  11   9  17  19  21]\n",
      "  [  6   4   2   6   8  10]\n",
      "  [125 123 121  97  99 101]]\n",
      "\n",
      " [[101  99  97 121 123 125]\n",
      "  [ 70  68  66  86  88  90]\n",
      "  [ 45  43  41  57  59  61]\n",
      "  [ 38  36  34  22  24  26]]\n",
      "\n",
      " [[  2   4   6  10   8   6]\n",
      "  [  1   3   5   5   3   1]\n",
      "  [  6   8  10   6   4   2]\n",
      "  [209 211 213 181 179 177]]\n",
      "\n",
      " [[ 22  24  26  38  36  34]\n",
      "  [  9  11  13  21  19  17]\n",
      "  [  2   4   6  10   8   6]\n",
      "  [121 123 125 101  99  97]]\n",
      "\n",
      " [[ 66  66  66  86  86  86]\n",
      "  [ 41  41  41  57  57  57]\n",
      "  [ 22  22  22  34  34  34]\n",
      "  [ 57  57  57  41  41  41]]], shape=(6, 4, 6), dtype=int32)\n"
     ]
    }
   ],
   "source": [
    "# Now dot prod on coords to get the modulus\n",
    "\n",
    "norm2 = tf.reduce_sum(deltas * deltas, axis=3)\n",
    "print(norm2)"
   ],
   "metadata": {
    "collapsed": false,
    "ExecuteTime": {
     "end_time": "2024-02-04T16:53:46.833845Z",
     "start_time": "2024-02-04T16:53:46.782048Z"
    }
   },
   "id": "5268f45188744cfb",
   "execution_count": 16
  },
  {
   "cell_type": "code",
   "outputs": [
    {
     "name": "stdout",
     "output_type": "stream",
     "text": [
      "tf.Tensor(\n",
      "[[[9.9009901e-01 3.3222592e-01 9.9009901e-01 1.9960079e-01 3.3222592e-01\n",
      "   1.9960079e-01]\n",
      "  [4.9751243e-01 2.4937655e-01 4.9751243e-01 4.9751243e-01 1.0000000e+02\n",
      "   4.9751243e-01]\n",
      "  [1.1098779e-01 9.0826519e-02 1.1098779e-01 1.9960079e-01 3.3222592e-01\n",
      "   1.9960079e-01]\n",
      "  [4.4245832e-03 4.3857726e-03 4.4245832e-03 5.1543736e-03 5.2080620e-03\n",
      "   5.1543736e-03]]\n",
      "\n",
      " [[3.8446750e-02 4.1649312e-02 4.5433894e-02 2.9403118e-02 2.7770065e-02\n",
      "   2.6308868e-02]\n",
      "  [7.6863952e-02 9.0826519e-02 1.1098779e-01 5.8788948e-02 5.2603893e-02\n",
      "   4.7596384e-02]\n",
      "  [1.6638935e-01 2.4937655e-01 4.9751243e-01 1.6638935e-01 1.2484394e-01\n",
      "   9.9900097e-02]\n",
      "  [7.9993596e-03 8.1294207e-03 8.2637798e-03 1.0308215e-02 1.0099989e-02\n",
      "   9.9000093e-03]]\n",
      "\n",
      " [[9.9000093e-03 1.0099989e-02 1.0308215e-02 8.2637798e-03 8.1294207e-03\n",
      "   7.9993596e-03]\n",
      "  [1.4283673e-02 1.4703720e-02 1.5149219e-02 1.1626555e-02 1.1362345e-02\n",
      "   1.1109876e-02]\n",
      "  [2.2217287e-02 2.3250408e-02 2.4384297e-02 1.7540783e-02 1.6946280e-02\n",
      "   1.6390756e-02]\n",
      "  [2.6308868e-02 2.7770065e-02 2.9403118e-02 4.5433894e-02 4.1649312e-02\n",
      "   3.8446750e-02]]\n",
      "\n",
      " [[4.9751243e-01 2.4937655e-01 1.6638935e-01 9.9900097e-02 1.2484394e-01\n",
      "   1.6638935e-01]\n",
      "  [9.9009901e-01 3.3222592e-01 1.9960079e-01 1.9960079e-01 3.3222592e-01\n",
      "   9.9009901e-01]\n",
      "  [1.6638935e-01 1.2484394e-01 9.9900097e-02 1.6638935e-01 2.4937655e-01\n",
      "   4.9751243e-01]\n",
      "  [4.7844602e-03 4.7391122e-03 4.6946155e-03 5.5245566e-03 5.5862805e-03\n",
      "   5.6493985e-03]]\n",
      "\n",
      " [[4.5433894e-02 4.1649312e-02 3.8446750e-02 2.6308868e-02 2.7770065e-02\n",
      "   2.9403118e-02]\n",
      "  [1.1098779e-01 9.0826519e-02 7.6863952e-02 4.7596384e-02 5.2603893e-02\n",
      "   5.8788948e-02]\n",
      "  [4.9751243e-01 2.4937655e-01 1.6638935e-01 9.9900097e-02 1.2484394e-01\n",
      "   1.6638935e-01]\n",
      "  [8.2637798e-03 8.1294207e-03 7.9993596e-03 9.9000093e-03 1.0099989e-02\n",
      "   1.0308215e-02]]\n",
      "\n",
      " [[1.5149219e-02 1.5149219e-02 1.5149219e-02 1.1626555e-02 1.1626555e-02\n",
      "   1.1626555e-02]\n",
      "  [2.4384297e-02 2.4384297e-02 2.4384297e-02 1.7540783e-02 1.7540783e-02\n",
      "   1.7540783e-02]\n",
      "  [4.5433894e-02 4.5433894e-02 4.5433894e-02 2.9403118e-02 2.9403118e-02\n",
      "   2.9403118e-02]\n",
      "  [1.7540783e-02 1.7540783e-02 1.7540783e-02 2.4384297e-02 2.4384297e-02\n",
      "   2.4384297e-02]]], shape=(6, 4, 6), dtype=float32)\n"
     ]
    }
   ],
   "source": [
    "inv_r = 1 / (tf.cast(norm2, tf.float32) + 0.01)\n",
    "print(inv_r)"
   ],
   "metadata": {
    "collapsed": false,
    "ExecuteTime": {
     "end_time": "2024-02-04T16:53:46.892232Z",
     "start_time": "2024-02-04T16:53:46.785972Z"
    }
   },
   "id": "8ffc396941b9ed7f",
   "execution_count": 17
  },
  {
   "cell_type": "code",
   "outputs": [
    {
     "name": "stdout",
     "output_type": "stream",
     "text": [
      "tf.Tensor([0.18287186 0.09776235 0.1336358  0.08282074 4.248891   0.13195896], shape=(6,), dtype=float32)\n"
     ]
    }
   ],
   "source": [
    "x1 = tf.reduce_mean(inv_r, axis=(0, 1))\n",
    "print(x1)"
   ],
   "metadata": {
    "collapsed": false,
    "ExecuteTime": {
     "end_time": "2024-02-04T16:53:47.028106Z",
     "start_time": "2024-02-04T16:53:46.890250Z"
    }
   },
   "id": "fc728e564d2d4d39",
   "execution_count": 18
  },
  {
   "cell_type": "code",
   "outputs": [
    {
     "data": {
      "text/plain": "<tf.Tensor: shape=(6, 3), dtype=float32, numpy=\narray([[-1., -0., -0.],\n       [ 1.,  0.,  0.],\n       [-0., -1., -0.],\n       [ 0.,  1.,  0.],\n       [-0., -0., -1.],\n       [ 0.,  0.,  1.]], dtype=float32)>"
     },
     "execution_count": 19,
     "metadata": {},
     "output_type": "execute_result"
    }
   ],
   "source": [
    "d = 3\n",
    "tf.concat([tf.one_hot(i, d) * tf.convert_to_tensor([[-1.], [1.]]) for i in range(d)], axis=0)"
   ],
   "metadata": {
    "collapsed": false,
    "ExecuteTime": {
     "end_time": "2024-02-04T16:53:47.063294Z",
     "start_time": "2024-02-04T16:53:47.028211Z"
    }
   },
   "id": "c6996a1903ae5b08",
   "execution_count": 19
  },
  {
   "cell_type": "code",
   "outputs": [
    {
     "name": "stdout",
     "output_type": "stream",
     "text": [
      "tf.Tensor([[1. 2. 3.]], shape=(1, 3), dtype=float64)\n",
      "tf.Tensor(\n",
      "[[0.]\n",
      " [1.]], shape=(2, 1), dtype=float64)\n"
     ]
    }
   ],
   "source": [
    "a = tf.convert_to_tensor([[1, 2, 3]], dtype=tf.float64)\n",
    "print(a)\n",
    "b = tf.convert_to_tensor([[0], [1]], dtype=tf.float64)\n",
    "print(b)"
   ],
   "metadata": {
    "collapsed": false,
    "ExecuteTime": {
     "end_time": "2024-02-04T19:58:27.915693Z",
     "start_time": "2024-02-04T19:58:27.911761Z"
    }
   },
   "id": "1622eeff97851350",
   "execution_count": 31
  },
  {
   "cell_type": "code",
   "outputs": [
    {
     "data": {
      "text/plain": "<tf.Tensor: shape=(2, 3), dtype=float64, numpy=\narray([[1., 2., 3.],\n       [2., 3., 4.]])>"
     },
     "execution_count": 32,
     "metadata": {},
     "output_type": "execute_result"
    }
   ],
   "source": [
    "c = a + b\n",
    "c"
   ],
   "metadata": {
    "collapsed": false,
    "ExecuteTime": {
     "end_time": "2024-02-04T19:58:28.650171Z",
     "start_time": "2024-02-04T19:58:28.645526Z"
    }
   },
   "id": "1e3a141eec2b710d",
   "execution_count": 32
  },
  {
   "cell_type": "code",
   "outputs": [
    {
     "data": {
      "text/plain": "<tf.Tensor: shape=(2,), dtype=float64, numpy=array([3.74165739, 5.38516481])>"
     },
     "execution_count": 35,
     "metadata": {},
     "output_type": "execute_result"
    }
   ],
   "source": [
    "tf.norm(c, axis=1)"
   ],
   "metadata": {
    "collapsed": false,
    "ExecuteTime": {
     "end_time": "2024-02-04T19:59:03.116191Z",
     "start_time": "2024-02-04T19:59:03.111026Z"
    }
   },
   "id": "d8521b1618f94db6",
   "execution_count": 35
  },
  {
   "cell_type": "code",
   "outputs": [
    {
     "data": {
      "text/plain": "<tf.Tensor: shape=(26, 2), dtype=float32, numpy=\narray([[-0.7853982, -0.3926991],\n       [-0.7853982,  0.3926991],\n       [-0.7853982,  1.1780972],\n       [-0.7853982,  1.9634955],\n       [-0.7853982,  2.7488937],\n       [-0.7853982,  3.5342917],\n       [-0.7853982,  4.31969  ],\n       [-0.7853982,  5.105088 ],\n       [ 0.       ,  0.       ],\n       [ 0.       ,  0.7853982],\n       [ 0.       ,  1.5707964],\n       [ 0.       ,  2.3561945],\n       [ 0.       ,  3.1415927],\n       [ 0.       ,  3.926991 ],\n       [ 0.       ,  4.712389 ],\n       [ 0.       ,  5.4977875],\n       [ 0.7853982,  0.3926991],\n       [ 0.7853982,  1.1780972],\n       [ 0.7853982,  1.9634955],\n       [ 0.7853982,  2.7488937],\n       [ 0.7853982,  3.5342917],\n       [ 0.7853982,  4.31969  ],\n       [ 0.7853982,  5.105088 ],\n       [ 0.7853982,  5.8904862],\n       [-1.5707964,  0.       ],\n       [ 1.5707964,  0.       ]], dtype=float32)>"
     },
     "execution_count": 49,
     "metadata": {},
     "output_type": "execute_result"
    }
   ],
   "source": [
    "import math\n",
    "\n",
    "angles = tf.convert_to_tensor(\n",
    "    [[j * 0.125 - 0.125, i * 0.125 + (j - 1) * 0.0625] for j in range(0, 3) for i in\n",
    "     range(0, 8)] + [[-0.25, 0], [0.25, 0]]) * math.pi * 2\n",
    "angles"
   ],
   "metadata": {
    "collapsed": false,
    "ExecuteTime": {
     "end_time": "2024-02-06T11:21:34.231515Z",
     "start_time": "2024-02-06T11:21:34.220661Z"
    }
   },
   "id": "18795affbfa6f83b",
   "execution_count": 49
  },
  {
   "cell_type": "code",
   "outputs": [
    {
     "data": {
      "text/plain": "<tf.Tensor: shape=(26, 3), dtype=float32, numpy=\narray([[-7.0710683e-01,  6.5328145e-01, -2.7059805e-01],\n       [-7.0710683e-01,  6.5328145e-01,  2.7059805e-01],\n       [-7.0710683e-01,  2.7059805e-01,  6.5328145e-01],\n       [-7.0710683e-01, -2.7059811e-01,  6.5328145e-01],\n       [-7.0710683e-01, -6.5328151e-01,  2.7059793e-01],\n       [-7.0710683e-01, -6.5328145e-01, -2.7059805e-01],\n       [-7.0710683e-01, -2.7059782e-01, -6.5328157e-01],\n       [-7.0710683e-01,  2.7059817e-01, -6.5328139e-01],\n       [ 0.0000000e+00,  1.0000000e+00,  0.0000000e+00],\n       [ 0.0000000e+00,  7.0710677e-01,  7.0710683e-01],\n       [ 0.0000000e+00, -4.3711388e-08,  1.0000000e+00],\n       [ 0.0000000e+00, -7.0710677e-01,  7.0710677e-01],\n       [ 0.0000000e+00, -1.0000000e+00, -8.7422777e-08],\n       [ 0.0000000e+00, -7.0710671e-01, -7.0710689e-01],\n       [ 0.0000000e+00,  1.1924881e-08, -1.0000000e+00],\n       [ 0.0000000e+00,  7.0710701e-01, -7.0710653e-01],\n       [ 7.0710683e-01,  6.5328145e-01,  2.7059805e-01],\n       [ 7.0710683e-01,  2.7059805e-01,  6.5328145e-01],\n       [ 7.0710683e-01, -2.7059811e-01,  6.5328145e-01],\n       [ 7.0710683e-01, -6.5328151e-01,  2.7059793e-01],\n       [ 7.0710683e-01, -6.5328145e-01, -2.7059805e-01],\n       [ 7.0710683e-01, -2.7059782e-01, -6.5328157e-01],\n       [ 7.0710683e-01,  2.7059817e-01, -6.5328139e-01],\n       [ 7.0710683e-01,  6.5328145e-01, -2.7059805e-01],\n       [-1.0000000e+00, -4.3711388e-08, -0.0000000e+00],\n       [ 1.0000000e+00, -4.3711388e-08, -0.0000000e+00]], dtype=float32)>"
     },
     "execution_count": 50,
     "metadata": {},
     "output_type": "execute_result"
    }
   ],
   "source": [
    "points = tf.convert_to_tensor(\n",
    "    [[tf.sin(a), tf.cos(a) * tf.cos(b), tf.cos(a) * tf.sin(b)] for a, b in angles])\n",
    "points"
   ],
   "metadata": {
    "collapsed": false,
    "ExecuteTime": {
     "end_time": "2024-02-06T11:21:36.530771Z",
     "start_time": "2024-02-06T11:21:36.278265Z"
    }
   },
   "id": "71445df486aed5ce",
   "execution_count": 50
  },
  {
   "cell_type": "code",
   "outputs": [
    {
     "data": {
      "text/plain": "<keras.src.engine.sequential.Sequential at 0x17afd3890>"
     },
     "execution_count": 69,
     "metadata": {},
     "output_type": "execute_result"
    }
   ],
   "source": [
    " tf.keras.Sequential([layer for layers in [[\n",
    "    tf.keras.layers.Dense(\n",
    "        units=2),\n",
    "    tf.keras.layers.Dropout(\n",
    "        rate=0.10),\n",
    "    tf.keras.layers.LeakyReLU()\n",
    "] for _ in range(3)] for layer in layers])"
   ],
   "metadata": {
    "collapsed": false,
    "ExecuteTime": {
     "end_time": "2024-02-07T10:38:52.017050Z",
     "start_time": "2024-02-07T10:38:52.010083Z"
    }
   },
   "id": "717ae924f6bc78e4",
   "execution_count": 69
  },
  {
   "cell_type": "code",
   "outputs": [
    {
     "data": {
      "text/plain": "[<keras.src.layers.core.dense.Dense at 0x17da7bb50>,\n <keras.src.layers.regularization.dropout.Dropout at 0x17afd7d90>,\n <keras.src.layers.activation.leaky_relu.LeakyReLU at 0x17b03a050>,\n <keras.src.layers.core.dense.Dense at 0x17b00b510>,\n <keras.src.layers.regularization.dropout.Dropout at 0x17afa1310>,\n <keras.src.layers.activation.leaky_relu.LeakyReLU at 0x17b022990>,\n <keras.src.layers.core.dense.Dense at 0x17b007350>,\n <keras.src.layers.regularization.dropout.Dropout at 0x17ae4b250>,\n <keras.src.layers.activation.leaky_relu.LeakyReLU at 0x17ae4b290>]"
     },
     "execution_count": 68,
     "metadata": {},
     "output_type": "execute_result"
    }
   ],
   "source": [
    "[layer for layers in [[\n",
    "    tf.keras.layers.Dense(\n",
    "        units=2),\n",
    "    tf.keras.layers.Dropout(\n",
    "        rate=0.10),\n",
    "    tf.keras.layers.LeakyReLU()\n",
    "] for _ in range(3)] for layer in layers]"
   ],
   "metadata": {
    "collapsed": false,
    "ExecuteTime": {
     "end_time": "2024-02-07T10:38:16.927006Z",
     "start_time": "2024-02-07T10:38:16.919706Z"
    }
   },
   "id": "f52ea377a207bc2f",
   "execution_count": 68
  },
  {
   "cell_type": "code",
   "outputs": [],
   "source": [],
   "metadata": {
    "collapsed": false
   },
   "id": "2ded55f00ba19c40"
  }
 ],
 "metadata": {
  "kernelspec": {
   "display_name": "Python 3",
   "language": "python",
   "name": "python3"
  },
  "language_info": {
   "codemirror_mode": {
    "name": "ipython",
    "version": 2
   },
   "file_extension": ".py",
   "mimetype": "text/x-python",
   "name": "python",
   "nbconvert_exporter": "python",
   "pygments_lexer": "ipython2",
   "version": "2.7.6"
  }
 },
 "nbformat": 4,
 "nbformat_minor": 5
}
