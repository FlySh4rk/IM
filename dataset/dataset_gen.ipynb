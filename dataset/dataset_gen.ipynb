{
 "cells": [
  {
   "cell_type": "markdown",
   "id": "d4f831ff-7dd3-4a3d-8a84-0bf8a39e9f80",
   "metadata": {},
   "source": [
    "# Generate a set of data\n",
    "\n",
    "We start by creating randomly generating a set of 4 + 4 points by applying a random transformation that stretch and sqeezes a square\n"
   ]
  },
  {
   "cell_type": "code",
   "execution_count": 50,
   "id": "16bfe91b-0930-46c2-a4df-9c0407ede047",
   "metadata": {
    "ExecuteTime": {
     "end_time": "2023-12-30T23:19:53.831425Z",
     "start_time": "2023-12-30T23:19:53.729747Z"
    }
   },
   "outputs": [],
   "source": [
    "import numpy as np"
   ]
  },
  {
   "cell_type": "markdown",
   "id": "e07ed11f44b7ac96",
   "metadata": {
    "collapsed": false
   },
   "source": [
    "# Transform a (x,y) vector to a deformed version\n",
    "\n",
    "Applies a non linear transformation to a vector"
   ]
  },
  {
   "cell_type": "code",
   "execution_count": 51,
   "id": "88f30e421c343bb",
   "metadata": {
    "ExecuteTime": {
     "end_time": "2023-12-30T23:19:53.845965Z",
     "start_time": "2023-12-30T23:19:53.834115Z"
    },
    "collapsed": false
   },
   "outputs": [],
   "source": [
    "def transform(x: np.ndarray, epsilon: np.ndarray) -> np.ndarray:\n",
    "    x_ = x[0]\n",
    "    y_ = x[1]\n",
    "    ex = epsilon[0]\n",
    "    ey = epsilon[1]\n",
    "    return np.array((x_ * (ex * y_ + 1), y_ * (ey * x_ + 1)))"
   ]
  },
  {
   "cell_type": "markdown",
   "id": "2e42f6160fe4339f",
   "metadata": {
    "collapsed": false
   },
   "source": [
    "## Some test"
   ]
  },
  {
   "cell_type": "code",
   "execution_count": 52,
   "id": "98737d77f6ff4e58",
   "metadata": {
    "ExecuteTime": {
     "end_time": "2023-12-30T23:19:53.859452Z",
     "start_time": "2023-12-30T23:19:53.848552Z"
    },
    "collapsed": false
   },
   "outputs": [
    {
     "data": {
      "text/plain": [
       "array([1.1, 0.9])"
      ]
     },
     "execution_count": 52,
     "metadata": {},
     "output_type": "execute_result"
    }
   ],
   "source": [
    "e_1 = np.array((0.1, -0.1))\n",
    "\n",
    "transform(np.array((1, 1)), e_1)"
   ]
  },
  {
   "cell_type": "markdown",
   "id": "b50eae02d6e44083",
   "metadata": {
    "collapsed": false
   },
   "source": [
    "## Generate some random data\n",
    "\n",
    "Let's generate a serial of random deformed squares. The output of this function should have shape (4, num_squares)."
   ]
  },
  {
   "cell_type": "code",
   "execution_count": 53,
   "id": "c41ae94ef7c8196",
   "metadata": {
    "ExecuteTime": {
     "end_time": "2023-12-30T23:19:53.860085Z",
     "start_time": "2023-12-30T23:19:53.852735Z"
    },
    "collapsed": false
   },
   "outputs": [
    {
     "name": "stdout",
     "output_type": "stream",
     "text": [
      "(4, 2)\n",
      "[(2,), (2,), (2,), (2,)]\n"
     ]
    }
   ],
   "source": [
    "unit_square = np.array([[1, 1], [1, -1], [-1, -1], [-1, 1]])\n",
    "print(unit_square.shape)\n",
    "print([x.shape for x in unit_square])\n",
    "\n",
    "\n",
    "def deformed_unit_square(epsilon: np.ndarray) -> np.ndarray:\n",
    "    return np.array([transform(x, epsilon) for x in unit_square]).reshape(4, 2)\n"
   ]
  },
  {
   "cell_type": "code",
   "execution_count": 54,
   "id": "cae7a8bbff889822",
   "metadata": {
    "ExecuteTime": {
     "end_time": "2023-12-30T23:19:53.872241Z",
     "start_time": "2023-12-30T23:19:53.861156Z"
    },
    "collapsed": false
   },
   "outputs": [
    {
     "name": "stdout",
     "output_type": "stream",
     "text": [
      "Result [[ 1.1  0.9]\n",
      " [ 0.9 -0.9]\n",
      " [-0.9 -1.1]\n",
      " [-1.1  1.1]]\n",
      "Shape: (4, 2)\n"
     ]
    }
   ],
   "source": [
    "x = deformed_unit_square(np.array([0.1, -0.1]))\n",
    "print(f\"Result {x}\\nShape: {x.shape}\")"
   ]
  },
  {
   "cell_type": "code",
   "execution_count": 55,
   "id": "3fda4e22961b0ac9",
   "metadata": {
    "ExecuteTime": {
     "end_time": "2023-12-30T23:19:53.883031Z",
     "start_time": "2023-12-30T23:19:53.873062Z"
    },
    "collapsed": false
   },
   "outputs": [],
   "source": [
    "def generate_random_squares(num_squares: int) -> np.ndarray:\n",
    "    epsilons = np.random.rand(num_squares, 2).reshape((-1, 2))\n",
    "    epsilons = epsilons * 0.2 - 0.1\n",
    "    print(epsilons.shape)\n",
    "\n",
    "    return np.array([deformed_unit_square(e) for e in epsilons])"
   ]
  },
  {
   "cell_type": "markdown",
   "id": "cbb7c196b2fe4458",
   "metadata": {
    "collapsed": false
   },
   "source": [
    "### Prepare bones squares\n",
    "\n",
    "Bones are stretched on Y direction by 2."
   ]
  },
  {
   "cell_type": "code",
   "execution_count": 56,
   "id": "3893cbcbfd1e3b07",
   "metadata": {
    "ExecuteTime": {
     "end_time": "2023-12-30T23:19:53.883459Z",
     "start_time": "2023-12-30T23:19:53.875969Z"
    },
    "collapsed": false
   },
   "outputs": [],
   "source": [
    "NUM_SAMPLES = 1000"
   ]
  },
  {
   "cell_type": "code",
   "execution_count": 57,
   "id": "e9d92e5829b67fa9",
   "metadata": {
    "ExecuteTime": {
     "end_time": "2023-12-30T23:19:53.908748Z",
     "start_time": "2023-12-30T23:19:53.885972Z"
    },
    "collapsed": false
   },
   "outputs": [
    {
     "name": "stdout",
     "output_type": "stream",
     "text": [
      "(1000, 2)\n"
     ]
    },
    {
     "data": {
      "text/plain": [
       "array([[ 1.08289144,  2.03238793,  0.91710856, ..., -2.1859119 ,\n",
       "        -1.03689935,  2.1859119 ],\n",
       "       [ 1.02040286,  1.89293346,  0.97959714, ..., -1.95786118,\n",
       "        -0.99834662,  1.95786118],\n",
       "       [ 0.92393384,  2.1390153 ,  1.07606616, ..., -2.14773077,\n",
       "        -1.03772177,  2.14773077],\n",
       "       ...,\n",
       "       [ 1.0405393 ,  1.86063595,  0.9594607 , ..., -1.81618349,\n",
       "        -0.91245983,  1.81618349],\n",
       "       [ 1.07068293,  2.1083119 ,  0.92931707, ..., -2.09273151,\n",
       "        -1.05195121,  2.09273151],\n",
       "       [ 1.05516658,  2.18810886,  0.94483342, ..., -1.83324473,\n",
       "        -1.09460941,  1.83324473]])"
      ]
     },
     "execution_count": 57,
     "metadata": {},
     "output_type": "execute_result"
    }
   ],
   "source": [
    "bone_data = generate_random_squares(NUM_SAMPLES) * [1, 2]\n",
    "bone_data.reshape(100, -1)"
   ]
  },
  {
   "cell_type": "markdown",
   "id": "455340b53a1d0a3",
   "metadata": {
    "collapsed": false
   },
   "source": [
    "### Prepare teeth\n",
    "\n",
    "Teeth are rotate by a random angle and translated by 2 units on Y direction"
   ]
  },
  {
   "cell_type": "code",
   "execution_count": 58,
   "id": "e022b74c6646a289",
   "metadata": {
    "ExecuteTime": {
     "end_time": "2023-12-30T23:19:53.949706Z",
     "start_time": "2023-12-30T23:19:53.910405Z"
    },
    "collapsed": false
   },
   "outputs": [
    {
     "name": "stdout",
     "output_type": "stream",
     "text": [
      "(1000, 2)\n"
     ]
    },
    {
     "data": {
      "text/plain": [
       "array([[ 1.00334097,  3.94545008,  0.99665903, ...,  2.08255978,\n",
       "        -1.02025138,  3.91744022],\n",
       "       [ 0.99617092,  4.05978389,  1.00382908, ...,  2.03029567,\n",
       "        -0.99534107,  3.96970433],\n",
       "       [ 0.92813007,  3.90768926,  1.07186993, ...,  2.05694138,\n",
       "        -1.08897859,  3.94305862],\n",
       "       ...,\n",
       "       [ 0.97848781,  3.90600439,  1.02151219, ...,  2.04944067,\n",
       "        -1.09418955,  3.95055933],\n",
       "       [ 0.93043044,  3.9480094 ,  1.06956956, ...,  2.09364664,\n",
       "        -1.02919638,  3.90635336],\n",
       "       [ 0.93731121,  4.0309314 ,  1.06268879, ...,  2.09767205,\n",
       "        -0.99793437,  3.90232795]])"
      ]
     },
     "execution_count": 58,
     "metadata": {},
     "output_type": "execute_result"
    }
   ],
   "source": [
    "tooth_data = generate_random_squares(NUM_SAMPLES) + [0, 3]\n",
    "tooth_data.reshape(100, -1)"
   ]
  },
  {
   "cell_type": "markdown",
   "id": "5aa8255cc690d6c1",
   "metadata": {
    "collapsed": false
   },
   "source": [
    "### Find weighted center of mass"
   ]
  },
  {
   "cell_type": "code",
   "execution_count": 59,
   "id": "68ee42f39d384e76",
   "metadata": {
    "ExecuteTime": {
     "end_time": "2023-12-30T23:19:53.986126Z",
     "start_time": "2023-12-30T23:19:53.950705Z"
    },
    "collapsed": false
   },
   "outputs": [],
   "source": [
    "from typing import Callable, Tuple\n",
    "\n",
    "\n",
    "def find_mass_center(square: np.ndarray,\n",
    "                     weights: Callable[[np.ndarray], Tuple[float, float]]) -> np.ndarray:\n",
    "    w = np.array([weights(p) for p in square])\n",
    "    #print(f\"w:{w}\")\n",
    "    s = np.sum(w, axis=0)\n",
    "    #print(f\"s:{s}\")\n",
    "    t = w * square\n",
    "    #print(f\"t:{t}\")\n",
    "    return (np.sum(t, axis=0) / s).reshape(1, -1)"
   ]
  },
  {
   "cell_type": "code",
   "execution_count": 60,
   "id": "c43468728a4df5c5",
   "metadata": {
    "ExecuteTime": {
     "end_time": "2023-12-30T23:19:53.999196Z",
     "start_time": "2023-12-30T23:19:53.987940Z"
    },
    "collapsed": false
   },
   "outputs": [
    {
     "data": {
      "text/plain": [
       "array([[0., 0.]])"
      ]
     },
     "execution_count": 60,
     "metadata": {},
     "output_type": "execute_result"
    }
   ],
   "source": [
    "def uniform(_p: np.ndarray) -> Tuple[float, float]:\n",
    "    return 1., 1.\n",
    "\n",
    "\n",
    "find_mass_center(unit_square, uniform)"
   ]
  },
  {
   "cell_type": "code",
   "execution_count": 61,
   "id": "fb6c02a242a46aa7",
   "metadata": {
    "ExecuteTime": {
     "end_time": "2023-12-30T23:19:54.013145Z",
     "start_time": "2023-12-30T23:19:54.001212Z"
    },
    "collapsed": false
   },
   "outputs": [
    {
     "data": {
      "text/plain": [
       "array([[ 0.        , -0.33333333]])"
      ]
     },
     "execution_count": 61,
     "metadata": {},
     "output_type": "execute_result"
    }
   ],
   "source": [
    "def threshold(t=0.):\n",
    "    def weight(p: np.ndarray) -> Tuple[float, float]:\n",
    "        return (1, 2) if (p[1] <= t) else (1, 1)\n",
    "\n",
    "    return weight\n",
    "\n",
    "\n",
    "find_mass_center(unit_square, threshold())"
   ]
  },
  {
   "cell_type": "code",
   "execution_count": 62,
   "id": "41c26248b4b0a775",
   "metadata": {
    "ExecuteTime": {
     "end_time": "2023-12-30T23:19:54.029676Z",
     "start_time": "2023-12-30T23:19:54.011285Z"
    },
    "collapsed": false
   },
   "outputs": [],
   "source": [
    "bone_centers = np.array([find_mass_center(s, threshold()) for s in bone_data]).reshape(-1, 2)"
   ]
  },
  {
   "cell_type": "code",
   "execution_count": 63,
   "id": "abb4ef9bba31b268",
   "metadata": {
    "ExecuteTime": {
     "end_time": "2023-12-30T23:19:54.030437Z",
     "start_time": "2023-12-30T23:19:54.017324Z"
    },
    "collapsed": false
   },
   "outputs": [
    {
     "data": {
      "text/plain": [
       "array([[ 0.        , -0.66666667],\n",
       "       [ 0.        , -0.66666667],\n",
       "       [ 0.        , -0.66666667],\n",
       "       ...,\n",
       "       [ 0.        , -0.66666667],\n",
       "       [ 0.        , -0.66666667],\n",
       "       [ 0.        , -0.66666667]])"
      ]
     },
     "execution_count": 63,
     "metadata": {},
     "output_type": "execute_result"
    }
   ],
   "source": [
    "bone_centers"
   ]
  },
  {
   "cell_type": "code",
   "execution_count": 64,
   "id": "9b23c65a22190e28",
   "metadata": {
    "ExecuteTime": {
     "end_time": "2023-12-30T23:19:54.061594Z",
     "start_time": "2023-12-30T23:19:54.036030Z"
    },
    "collapsed": false
   },
   "outputs": [],
   "source": [
    "teeth_centers = np.array([find_mass_center(s, uniform) for s in tooth_data]).reshape(-1, 2)"
   ]
  },
  {
   "cell_type": "code",
   "execution_count": 65,
   "id": "569c3fe1400e1ceb",
   "metadata": {
    "ExecuteTime": {
     "end_time": "2023-12-30T23:19:54.063603Z",
     "start_time": "2023-12-30T23:19:54.039420Z"
    },
    "collapsed": false
   },
   "outputs": [
    {
     "data": {
      "text/plain": [
       "array([[0.00000000e+00, 3.00000000e+00],\n",
       "       [0.00000000e+00, 3.00000000e+00],\n",
       "       [2.77555756e-17, 3.00000000e+00],\n",
       "       ...,\n",
       "       [5.55111512e-17, 3.00000000e+00],\n",
       "       [0.00000000e+00, 3.00000000e+00],\n",
       "       [0.00000000e+00, 3.00000000e+00]])"
      ]
     },
     "execution_count": 65,
     "metadata": {},
     "output_type": "execute_result"
    }
   ],
   "source": [
    "teeth_centers"
   ]
  },
  {
   "cell_type": "code",
   "execution_count": 66,
   "id": "b546bf93f1232d0e",
   "metadata": {
    "ExecuteTime": {
     "end_time": "2023-12-30T23:19:54.064562Z",
     "start_time": "2023-12-30T23:19:54.043243Z"
    },
    "collapsed": false
   },
   "outputs": [
    {
     "data": {
      "text/plain": [
       "array([[ 1.08289144,  2.03238793,  0.91710856, ..., -1.96761207,\n",
       "        -1.08289144,  1.96761207],\n",
       "       [ 0.91214074,  2.09242418,  1.08785926, ..., -1.90757582,\n",
       "        -0.91214074,  1.90757582],\n",
       "       [ 1.00825527,  1.81941166,  0.99174473, ..., -2.18058834,\n",
       "        -1.00825527,  2.18058834],\n",
       "       ...,\n",
       "       [ 1.06486926,  1.93982599,  0.93513074, ..., -2.06017401,\n",
       "        -1.06486926,  2.06017401],\n",
       "       [ 0.90590911,  2.07995154,  1.09409089, ..., -1.92004846,\n",
       "        -0.90590911,  1.92004846],\n",
       "       [ 1.09460941,  2.16675527,  0.90539059, ..., -1.83324473,\n",
       "        -1.09460941,  1.83324473]])"
      ]
     },
     "execution_count": 66,
     "metadata": {},
     "output_type": "execute_result"
    }
   ],
   "source": [
    "bone_data.reshape(NUM_SAMPLES, -1)"
   ]
  },
  {
   "cell_type": "code",
   "execution_count": 67,
   "id": "813c85bbb1028d41",
   "metadata": {
    "ExecuteTime": {
     "end_time": "2023-12-30T23:19:54.099895Z",
     "start_time": "2023-12-30T23:19:54.066683Z"
    },
    "collapsed": false
   },
   "outputs": [
    {
     "data": {
      "text/plain": [
       "array([[ 1.00334097,  3.94545008,  0.99665903, ...,  1.94545008,\n",
       "        -1.00334097,  4.05454992],\n",
       "       [ 1.09627975,  3.96966869,  0.90372025, ...,  1.96966869,\n",
       "        -1.09627975,  4.03033131],\n",
       "       [ 0.90913723,  3.90169345,  1.09086277, ...,  1.90169345,\n",
       "        -0.90913723,  4.09830655],\n",
       "       ...,\n",
       "       [ 1.0809674 ,  3.92323478,  0.9190326 , ...,  1.92323478,\n",
       "        -1.0809674 ,  4.07676522],\n",
       "       [ 1.02733723,  3.98117614,  0.97266277, ...,  1.98117614,\n",
       "        -1.02733723,  4.01882386],\n",
       "       [ 0.99793437,  4.09767205,  1.00206563, ...,  2.09767205,\n",
       "        -0.99793437,  3.90232795]])"
      ]
     },
     "execution_count": 67,
     "metadata": {},
     "output_type": "execute_result"
    }
   ],
   "source": [
    "tooth_data.reshape(NUM_SAMPLES, -1)"
   ]
  },
  {
   "cell_type": "code",
   "execution_count": 68,
   "id": "9636c44913421e0b",
   "metadata": {
    "ExecuteTime": {
     "end_time": "2023-12-30T23:19:54.119293Z",
     "start_time": "2023-12-30T23:19:54.101088Z"
    },
    "collapsed": false
   },
   "outputs": [],
   "source": [
    "\n",
    "input_set = np.append(bone_data.reshape(NUM_SAMPLES, -1), tooth_data.reshape(NUM_SAMPLES, -1),\n",
    "                      axis=1)"
   ]
  },
  {
   "cell_type": "code",
   "execution_count": 69,
   "id": "38d0eb4c24e5576d",
   "metadata": {
    "ExecuteTime": {
     "end_time": "2023-12-30T23:19:54.133176Z",
     "start_time": "2023-12-30T23:19:54.120884Z"
    },
    "collapsed": false
   },
   "outputs": [
    {
     "data": {
      "text/plain": [
       "array([[ 1.08289144,  2.03238793,  0.91710856, ...,  1.94545008,\n",
       "        -1.00334097,  4.05454992],\n",
       "       [ 0.91214074,  2.09242418,  1.08785926, ...,  1.96966869,\n",
       "        -1.09627975,  4.03033131],\n",
       "       [ 1.00825527,  1.81941166,  0.99174473, ...,  1.90169345,\n",
       "        -0.90913723,  4.09830655],\n",
       "       ...,\n",
       "       [ 1.06486926,  1.93982599,  0.93513074, ...,  1.92323478,\n",
       "        -1.0809674 ,  4.07676522],\n",
       "       [ 0.90590911,  2.07995154,  1.09409089, ...,  1.98117614,\n",
       "        -1.02733723,  4.01882386],\n",
       "       [ 1.09460941,  2.16675527,  0.90539059, ...,  2.09767205,\n",
       "        -0.99793437,  3.90232795]])"
      ]
     },
     "execution_count": 69,
     "metadata": {},
     "output_type": "execute_result"
    }
   ],
   "source": [
    "input_set"
   ]
  },
  {
   "cell_type": "code",
   "execution_count": 70,
   "id": "1d5a1e314de903a3",
   "metadata": {
    "ExecuteTime": {
     "end_time": "2023-12-30T23:19:54.134768Z",
     "start_time": "2023-12-30T23:19:54.123127Z"
    },
    "collapsed": false
   },
   "outputs": [],
   "source": [
    "output_set = np.append(bone_centers, teeth_centers, axis=1)"
   ]
  },
  {
   "cell_type": "code",
   "execution_count": 71,
   "id": "fb30716cb1fb28ca",
   "metadata": {
    "ExecuteTime": {
     "end_time": "2023-12-30T23:19:54.143487Z",
     "start_time": "2023-12-30T23:19:54.131927Z"
    },
    "collapsed": false
   },
   "outputs": [
    {
     "data": {
      "text/plain": [
       "array([[ 0.00000000e+00, -6.66666667e-01,  0.00000000e+00,\n",
       "         3.00000000e+00],\n",
       "       [ 0.00000000e+00, -6.66666667e-01,  0.00000000e+00,\n",
       "         3.00000000e+00],\n",
       "       [ 0.00000000e+00, -6.66666667e-01,  2.77555756e-17,\n",
       "         3.00000000e+00],\n",
       "       ...,\n",
       "       [ 0.00000000e+00, -6.66666667e-01,  5.55111512e-17,\n",
       "         3.00000000e+00],\n",
       "       [ 0.00000000e+00, -6.66666667e-01,  0.00000000e+00,\n",
       "         3.00000000e+00],\n",
       "       [ 0.00000000e+00, -6.66666667e-01,  0.00000000e+00,\n",
       "         3.00000000e+00]])"
      ]
     },
     "execution_count": 71,
     "metadata": {},
     "output_type": "execute_result"
    }
   ],
   "source": [
    "output_set"
   ]
  },
  {
   "cell_type": "markdown",
   "id": "1c3382a9b58b530a",
   "metadata": {
    "collapsed": false
   },
   "source": [
    "## Let's add some more random-ness\n",
    "\n",
    "Will translate input and outputs each by a random vector"
   ]
  },
  {
   "cell_type": "code",
   "execution_count": 72,
   "id": "9167d3d3a6100181",
   "metadata": {
    "ExecuteTime": {
     "end_time": "2023-12-30T23:19:54.154732Z",
     "start_time": "2023-12-30T23:19:54.145924Z"
    },
    "collapsed": false
   },
   "outputs": [],
   "source": [
    "vectors = np.random.random((NUM_SAMPLES, 2)) * 2 + [-1, -1]\n",
    "input_vec = np.stack(\n",
    "    [vectors[:, 0], vectors[:, 1], vectors[:, 0], vectors[:, 1], vectors[:, 0], vectors[:, 1],\n",
    "     vectors[:, 0], vectors[:, 1], vectors[:, 0], vectors[:, 1], vectors[:, 0], vectors[:, 1],\n",
    "     vectors[:, 0], vectors[:, 1],\n",
    "     vectors[:, 0], vectors[:, 1]], axis=1)\n",
    "\n",
    "output_vec = np.stack(\n",
    "    [vectors[:, 0], vectors[:, 1], vectors[:, 0], vectors[:, 1]], axis=1)"
   ]
  },
  {
   "cell_type": "code",
   "execution_count": 79,
   "id": "58998db2d48ad568",
   "metadata": {
    "ExecuteTime": {
     "end_time": "2023-12-30T23:24:25.406212Z",
     "start_time": "2023-12-30T23:24:25.399688Z"
    },
    "collapsed": false
   },
   "outputs": [],
   "source": [
    "from utils import rotation\n",
    "\n",
    "thetas = (np.random.random(NUM_SAMPLES) * 2 - 1) * np.pi / 3\n",
    "rots = np.array([rotation(t) for t in thetas])\n",
    "\n",
    "input_set_rot = np.matmul(input_set.reshape(NUM_SAMPLES, -1, 2), rots).reshape(NUM_SAMPLES, -1)\n",
    "output_set_rot = np.matmul(output_set.reshape(NUM_SAMPLES, -1, 2), rots).reshape(NUM_SAMPLES, -1)"
   ]
  },
  {
   "cell_type": "code",
   "execution_count": 80,
   "id": "4f2c0c2f6dc41bd8",
   "metadata": {
    "ExecuteTime": {
     "end_time": "2023-12-30T23:24:27.151347Z",
     "start_time": "2023-12-30T23:24:27.145210Z"
    },
    "collapsed": false
   },
   "outputs": [
    {
     "data": {
      "text/plain": [
       "(1000, 16)"
      ]
     },
     "execution_count": 80,
     "metadata": {},
     "output_type": "execute_result"
    }
   ],
   "source": [
    "input_set_rot.shape"
   ]
  },
  {
   "cell_type": "code",
   "execution_count": 81,
   "id": "77d06072e2336f65",
   "metadata": {
    "ExecuteTime": {
     "end_time": "2023-12-30T23:24:29.635232Z",
     "start_time": "2023-12-30T23:24:29.628325Z"
    },
    "collapsed": false
   },
   "outputs": [],
   "source": [
    "import pandas as pd\n",
    "\n",
    "input_data = pd.DataFrame(input_set_rot + input_vec)\n",
    "output_data = pd.DataFrame(output_set_rot + output_vec)"
   ]
  },
  {
   "cell_type": "code",
   "execution_count": 82,
   "id": "ab28f992e291ec9c",
   "metadata": {
    "ExecuteTime": {
     "end_time": "2023-12-30T23:24:37.688204Z",
     "start_time": "2023-12-30T23:24:37.677987Z"
    },
    "collapsed": false
   },
   "outputs": [],
   "source": [
    "from utils import datadir\n",
    "\n",
    "input_data.to_pickle(datadir(\"input_rot.pkl\"))\n",
    "output_data.to_pickle(datadir(\"output_rot.pkl\"))"
   ]
  },
  {
   "cell_type": "code",
   "execution_count": 83,
   "id": "d01144f9d6e230ea",
   "metadata": {
    "ExecuteTime": {
     "end_time": "2023-12-30T23:24:39.581477Z",
     "start_time": "2023-12-30T23:24:39.575020Z"
    },
    "collapsed": false
   },
   "outputs": [
    {
     "data": {
      "text/html": [
       "<div>\n",
       "<style scoped>\n",
       "    .dataframe tbody tr th:only-of-type {\n",
       "        vertical-align: middle;\n",
       "    }\n",
       "\n",
       "    .dataframe tbody tr th {\n",
       "        vertical-align: top;\n",
       "    }\n",
       "\n",
       "    .dataframe thead th {\n",
       "        text-align: right;\n",
       "    }\n",
       "</style>\n",
       "<table border=\"1\" class=\"dataframe\">\n",
       "  <thead>\n",
       "    <tr style=\"text-align: right;\">\n",
       "      <th></th>\n",
       "      <th>0</th>\n",
       "      <th>1</th>\n",
       "      <th>2</th>\n",
       "      <th>3</th>\n",
       "      <th>4</th>\n",
       "      <th>5</th>\n",
       "      <th>6</th>\n",
       "      <th>7</th>\n",
       "      <th>8</th>\n",
       "      <th>9</th>\n",
       "      <th>10</th>\n",
       "      <th>11</th>\n",
       "      <th>12</th>\n",
       "      <th>13</th>\n",
       "      <th>14</th>\n",
       "      <th>15</th>\n",
       "    </tr>\n",
       "  </thead>\n",
       "  <tbody>\n",
       "    <tr>\n",
       "      <th>0</th>\n",
       "      <td>0.516425</td>\n",
       "      <td>1.904407</td>\n",
       "      <td>2.830124</td>\n",
       "      <td>-1.441737</td>\n",
       "      <td>1.326225</td>\n",
       "      <td>-2.493799</td>\n",
       "      <td>-1.174322</td>\n",
       "      <td>0.549347</td>\n",
       "      <td>-0.698353</td>\n",
       "      <td>3.384424</td>\n",
       "      <td>0.434217</td>\n",
       "      <td>1.870214</td>\n",
       "      <td>-1.092114</td>\n",
       "      <td>0.583540</td>\n",
       "      <td>-2.366667</td>\n",
       "      <td>2.263976</td>\n",
       "    </tr>\n",
       "    <tr>\n",
       "      <th>1</th>\n",
       "      <td>0.190749</td>\n",
       "      <td>2.636898</td>\n",
       "      <td>1.990407</td>\n",
       "      <td>-1.145306</td>\n",
       "      <td>-0.084083</td>\n",
       "      <td>-1.826785</td>\n",
       "      <td>-1.415641</td>\n",
       "      <td>1.752770</td>\n",
       "      <td>-0.374559</td>\n",
       "      <td>4.436448</td>\n",
       "      <td>0.207304</td>\n",
       "      <td>2.576463</td>\n",
       "      <td>-1.432195</td>\n",
       "      <td>1.813204</td>\n",
       "      <td>-2.415939</td>\n",
       "      <td>3.634099</td>\n",
       "    </tr>\n",
       "    <tr>\n",
       "      <th>2</th>\n",
       "      <td>0.763316</td>\n",
       "      <td>2.400042</td>\n",
       "      <td>0.899236</td>\n",
       "      <td>-1.236279</td>\n",
       "      <td>-1.067384</td>\n",
       "      <td>-1.680220</td>\n",
       "      <td>-1.266553</td>\n",
       "      <td>2.676438</td>\n",
       "      <td>0.577066</td>\n",
       "      <td>4.476345</td>\n",
       "      <td>0.834169</td>\n",
       "      <td>2.682152</td>\n",
       "      <td>-1.337407</td>\n",
       "      <td>2.394327</td>\n",
       "      <td>-1.247849</td>\n",
       "      <td>4.596625</td>\n",
       "    </tr>\n",
       "    <tr>\n",
       "      <th>3</th>\n",
       "      <td>2.721627</td>\n",
       "      <td>0.011318</td>\n",
       "      <td>-0.064539</td>\n",
       "      <td>-3.122918</td>\n",
       "      <td>-1.379603</td>\n",
       "      <td>-1.771914</td>\n",
       "      <td>0.969613</td>\n",
       "      <td>1.228005</td>\n",
       "      <td>3.831253</td>\n",
       "      <td>1.451021</td>\n",
       "      <td>2.677371</td>\n",
       "      <td>0.037996</td>\n",
       "      <td>1.013869</td>\n",
       "      <td>1.201328</td>\n",
       "      <td>2.427678</td>\n",
       "      <td>2.855380</td>\n",
       "    </tr>\n",
       "    <tr>\n",
       "      <th>4</th>\n",
       "      <td>1.358551</td>\n",
       "      <td>2.593314</td>\n",
       "      <td>1.815764</td>\n",
       "      <td>-1.247205</td>\n",
       "      <td>0.037793</td>\n",
       "      <td>-1.679343</td>\n",
       "      <td>-0.809907</td>\n",
       "      <td>2.372996</td>\n",
       "      <td>0.934270</td>\n",
       "      <td>4.690807</td>\n",
       "      <td>1.261360</td>\n",
       "      <td>2.574946</td>\n",
       "      <td>-0.712716</td>\n",
       "      <td>2.391365</td>\n",
       "      <td>-1.038083</td>\n",
       "      <td>4.221932</td>\n",
       "    </tr>\n",
       "    <tr>\n",
       "      <th>...</th>\n",
       "      <td>...</td>\n",
       "      <td>...</td>\n",
       "      <td>...</td>\n",
       "      <td>...</td>\n",
       "      <td>...</td>\n",
       "      <td>...</td>\n",
       "      <td>...</td>\n",
       "      <td>...</td>\n",
       "      <td>...</td>\n",
       "      <td>...</td>\n",
       "      <td>...</td>\n",
       "      <td>...</td>\n",
       "      <td>...</td>\n",
       "      <td>...</td>\n",
       "      <td>...</td>\n",
       "      <td>...</td>\n",
       "    </tr>\n",
       "    <tr>\n",
       "      <th>995</th>\n",
       "      <td>-1.561810</td>\n",
       "      <td>2.416841</td>\n",
       "      <td>1.728431</td>\n",
       "      <td>-0.158547</td>\n",
       "      <td>0.361340</td>\n",
       "      <td>-1.620670</td>\n",
       "      <td>-2.655468</td>\n",
       "      <td>0.725439</td>\n",
       "      <td>-2.947575</td>\n",
       "      <td>3.593161</td>\n",
       "      <td>-1.616090</td>\n",
       "      <td>2.356256</td>\n",
       "      <td>-2.601187</td>\n",
       "      <td>0.786025</td>\n",
       "      <td>-4.423227</td>\n",
       "      <td>2.009868</td>\n",
       "    </tr>\n",
       "    <tr>\n",
       "      <th>996</th>\n",
       "      <td>2.516807</td>\n",
       "      <td>1.616279</td>\n",
       "      <td>0.044194</td>\n",
       "      <td>-1.592231</td>\n",
       "      <td>-1.548466</td>\n",
       "      <td>-0.247470</td>\n",
       "      <td>0.992358</td>\n",
       "      <td>2.778237</td>\n",
       "      <td>3.876662</td>\n",
       "      <td>3.173724</td>\n",
       "      <td>2.444416</td>\n",
       "      <td>1.525986</td>\n",
       "      <td>1.064749</td>\n",
       "      <td>2.868529</td>\n",
       "      <td>2.139221</td>\n",
       "      <td>4.337900</td>\n",
       "    </tr>\n",
       "    <tr>\n",
       "      <th>997</th>\n",
       "      <td>-0.266827</td>\n",
       "      <td>2.010331</td>\n",
       "      <td>0.778407</td>\n",
       "      <td>-1.728121</td>\n",
       "      <td>-0.968680</td>\n",
       "      <td>-2.406388</td>\n",
       "      <td>-2.333855</td>\n",
       "      <td>1.483393</td>\n",
       "      <td>-0.849080</td>\n",
       "      <td>3.906419</td>\n",
       "      <td>-0.447146</td>\n",
       "      <td>2.096965</td>\n",
       "      <td>-2.153536</td>\n",
       "      <td>1.396759</td>\n",
       "      <td>-2.956806</td>\n",
       "      <td>3.401421</td>\n",
       "    </tr>\n",
       "    <tr>\n",
       "      <th>998</th>\n",
       "      <td>-0.218928</td>\n",
       "      <td>3.232466</td>\n",
       "      <td>1.253863</td>\n",
       "      <td>-0.662542</td>\n",
       "      <td>-0.875507</td>\n",
       "      <td>-1.191209</td>\n",
       "      <td>-1.891129</td>\n",
       "      <td>2.516926</td>\n",
       "      <td>-0.694903</td>\n",
       "      <td>5.077147</td>\n",
       "      <td>-0.136472</td>\n",
       "      <td>3.195135</td>\n",
       "      <td>-1.973586</td>\n",
       "      <td>2.554258</td>\n",
       "      <td>-2.659362</td>\n",
       "      <td>4.473817</td>\n",
       "    </tr>\n",
       "    <tr>\n",
       "      <th>999</th>\n",
       "      <td>0.212402</td>\n",
       "      <td>2.626018</td>\n",
       "      <td>2.905755</td>\n",
       "      <td>-0.774124</td>\n",
       "      <td>1.318446</td>\n",
       "      <td>-1.707187</td>\n",
       "      <td>-1.224435</td>\n",
       "      <td>0.940964</td>\n",
       "      <td>-1.124529</td>\n",
       "      <td>4.022585</td>\n",
       "      <td>0.315511</td>\n",
       "      <td>2.365529</td>\n",
       "      <td>-1.327544</td>\n",
       "      <td>1.201453</td>\n",
       "      <td>-2.505620</td>\n",
       "      <td>2.568544</td>\n",
       "    </tr>\n",
       "  </tbody>\n",
       "</table>\n",
       "<p>1000 rows × 16 columns</p>\n",
       "</div>"
      ],
      "text/plain": [
       "           0         1         2         3         4         5         6   \\\n",
       "0    0.516425  1.904407  2.830124 -1.441737  1.326225 -2.493799 -1.174322   \n",
       "1    0.190749  2.636898  1.990407 -1.145306 -0.084083 -1.826785 -1.415641   \n",
       "2    0.763316  2.400042  0.899236 -1.236279 -1.067384 -1.680220 -1.266553   \n",
       "3    2.721627  0.011318 -0.064539 -3.122918 -1.379603 -1.771914  0.969613   \n",
       "4    1.358551  2.593314  1.815764 -1.247205  0.037793 -1.679343 -0.809907   \n",
       "..        ...       ...       ...       ...       ...       ...       ...   \n",
       "995 -1.561810  2.416841  1.728431 -0.158547  0.361340 -1.620670 -2.655468   \n",
       "996  2.516807  1.616279  0.044194 -1.592231 -1.548466 -0.247470  0.992358   \n",
       "997 -0.266827  2.010331  0.778407 -1.728121 -0.968680 -2.406388 -2.333855   \n",
       "998 -0.218928  3.232466  1.253863 -0.662542 -0.875507 -1.191209 -1.891129   \n",
       "999  0.212402  2.626018  2.905755 -0.774124  1.318446 -1.707187 -1.224435   \n",
       "\n",
       "           7         8         9         10        11        12        13  \\\n",
       "0    0.549347 -0.698353  3.384424  0.434217  1.870214 -1.092114  0.583540   \n",
       "1    1.752770 -0.374559  4.436448  0.207304  2.576463 -1.432195  1.813204   \n",
       "2    2.676438  0.577066  4.476345  0.834169  2.682152 -1.337407  2.394327   \n",
       "3    1.228005  3.831253  1.451021  2.677371  0.037996  1.013869  1.201328   \n",
       "4    2.372996  0.934270  4.690807  1.261360  2.574946 -0.712716  2.391365   \n",
       "..        ...       ...       ...       ...       ...       ...       ...   \n",
       "995  0.725439 -2.947575  3.593161 -1.616090  2.356256 -2.601187  0.786025   \n",
       "996  2.778237  3.876662  3.173724  2.444416  1.525986  1.064749  2.868529   \n",
       "997  1.483393 -0.849080  3.906419 -0.447146  2.096965 -2.153536  1.396759   \n",
       "998  2.516926 -0.694903  5.077147 -0.136472  3.195135 -1.973586  2.554258   \n",
       "999  0.940964 -1.124529  4.022585  0.315511  2.365529 -1.327544  1.201453   \n",
       "\n",
       "           14        15  \n",
       "0   -2.366667  2.263976  \n",
       "1   -2.415939  3.634099  \n",
       "2   -1.247849  4.596625  \n",
       "3    2.427678  2.855380  \n",
       "4   -1.038083  4.221932  \n",
       "..        ...       ...  \n",
       "995 -4.423227  2.009868  \n",
       "996  2.139221  4.337900  \n",
       "997 -2.956806  3.401421  \n",
       "998 -2.659362  4.473817  \n",
       "999 -2.505620  2.568544  \n",
       "\n",
       "[1000 rows x 16 columns]"
      ]
     },
     "execution_count": 83,
     "metadata": {},
     "output_type": "execute_result"
    }
   ],
   "source": [
    "input_data"
   ]
  },
  {
   "cell_type": "code",
   "execution_count": 84,
   "id": "7613145c-afe7-40ff-8d7c-4cbd017f417e",
   "metadata": {
    "ExecuteTime": {
     "end_time": "2023-12-30T23:24:41.395934Z",
     "start_time": "2023-12-30T23:24:41.392545Z"
    }
   },
   "outputs": [
    {
     "data": {
      "text/html": [
       "<div>\n",
       "<style scoped>\n",
       "    .dataframe tbody tr th:only-of-type {\n",
       "        vertical-align: middle;\n",
       "    }\n",
       "\n",
       "    .dataframe tbody tr th {\n",
       "        vertical-align: top;\n",
       "    }\n",
       "\n",
       "    .dataframe thead th {\n",
       "        text-align: right;\n",
       "    }\n",
       "</style>\n",
       "<table border=\"1\" class=\"dataframe\">\n",
       "  <thead>\n",
       "    <tr style=\"text-align: right;\">\n",
       "      <th></th>\n",
       "      <th>0</th>\n",
       "      <th>1</th>\n",
       "      <th>2</th>\n",
       "      <th>3</th>\n",
       "    </tr>\n",
       "  </thead>\n",
       "  <tbody>\n",
       "    <tr>\n",
       "      <th>0</th>\n",
       "      <td>1.275800</td>\n",
       "      <td>-0.902886</td>\n",
       "      <td>-0.930729</td>\n",
       "      <td>2.025539</td>\n",
       "    </tr>\n",
       "    <tr>\n",
       "      <th>1</th>\n",
       "      <td>0.431293</td>\n",
       "      <td>-0.259086</td>\n",
       "      <td>-1.003847</td>\n",
       "      <td>3.115054</td>\n",
       "    </tr>\n",
       "    <tr>\n",
       "      <th>2</th>\n",
       "      <td>-0.139922</td>\n",
       "      <td>-0.126086</td>\n",
       "      <td>-0.293505</td>\n",
       "      <td>3.537362</td>\n",
       "    </tr>\n",
       "    <tr>\n",
       "      <th>3</th>\n",
       "      <td>0.133826</td>\n",
       "      <td>-1.425057</td>\n",
       "      <td>2.487543</td>\n",
       "      <td>1.386431</td>\n",
       "    </tr>\n",
       "    <tr>\n",
       "      <th>4</th>\n",
       "      <td>0.709293</td>\n",
       "      <td>-0.147797</td>\n",
       "      <td>0.111208</td>\n",
       "      <td>3.469762</td>\n",
       "    </tr>\n",
       "    <tr>\n",
       "      <th>...</th>\n",
       "      <td>...</td>\n",
       "      <td>...</td>\n",
       "      <td>...</td>\n",
       "      <td>...</td>\n",
       "    </tr>\n",
       "    <tr>\n",
       "      <th>995</th>\n",
       "      <td>-0.006289</td>\n",
       "      <td>-0.069359</td>\n",
       "      <td>-2.897020</td>\n",
       "      <td>2.186327</td>\n",
       "    </tr>\n",
       "    <tr>\n",
       "      <th>996</th>\n",
       "      <td>0.083437</td>\n",
       "      <td>0.119185</td>\n",
       "      <td>2.381262</td>\n",
       "      <td>2.976535</td>\n",
       "    </tr>\n",
       "    <tr>\n",
       "      <th>997</th>\n",
       "      <td>-0.496871</td>\n",
       "      <td>-0.795882</td>\n",
       "      <td>-1.601642</td>\n",
       "      <td>2.700391</td>\n",
       "    </tr>\n",
       "    <tr>\n",
       "      <th>998</th>\n",
       "      <td>-0.225558</td>\n",
       "      <td>0.340315</td>\n",
       "      <td>-1.366081</td>\n",
       "      <td>3.825089</td>\n",
       "    </tr>\n",
       "    <tr>\n",
       "      <th>999</th>\n",
       "      <td>1.239395</td>\n",
       "      <td>-0.232607</td>\n",
       "      <td>-1.160545</td>\n",
       "      <td>2.539528</td>\n",
       "    </tr>\n",
       "  </tbody>\n",
       "</table>\n",
       "<p>1000 rows × 4 columns</p>\n",
       "</div>"
      ],
      "text/plain": [
       "            0         1         2         3\n",
       "0    1.275800 -0.902886 -0.930729  2.025539\n",
       "1    0.431293 -0.259086 -1.003847  3.115054\n",
       "2   -0.139922 -0.126086 -0.293505  3.537362\n",
       "3    0.133826 -1.425057  2.487543  1.386431\n",
       "4    0.709293 -0.147797  0.111208  3.469762\n",
       "..        ...       ...       ...       ...\n",
       "995 -0.006289 -0.069359 -2.897020  2.186327\n",
       "996  0.083437  0.119185  2.381262  2.976535\n",
       "997 -0.496871 -0.795882 -1.601642  2.700391\n",
       "998 -0.225558  0.340315 -1.366081  3.825089\n",
       "999  1.239395 -0.232607 -1.160545  2.539528\n",
       "\n",
       "[1000 rows x 4 columns]"
      ]
     },
     "execution_count": 84,
     "metadata": {},
     "output_type": "execute_result"
    }
   ],
   "source": [
    "output_data"
   ]
  },
  {
   "cell_type": "code",
   "execution_count": 99,
   "id": "1a6a18d0-6e5b-401f-a5f5-62df9531d5c1",
   "metadata": {
    "ExecuteTime": {
     "end_time": "2023-12-30T23:35:34.946356Z",
     "start_time": "2023-12-30T23:35:34.833991Z"
    }
   },
   "outputs": [
    {
     "data": {
      "image/png": "[encoded data removed]",
      "text/plain": [
       "<Figure size 640x480 with 1 Axes>"
      ]
     },
     "metadata": {},
     "output_type": "display_data"
    }
   ],
   "source": [
    "from utils import draw_square, draw_output\n",
    "import matplotlib.pyplot as plt\n",
    "\n",
    "fig = plt.figure()\n",
    "ax = fig.add_axes((0, 0, 1, 1))\n",
    "\n",
    "\n",
    "def draw_n(n=13):\n",
    "    draw_square(ax, input_data.to_numpy()[n][0:8], color=\"black\")\n",
    "    draw_square(ax, input_data.to_numpy()[n][8:17], color=\"green\")\n",
    "    draw_output(ax, output_data.to_numpy()[n])\n",
    "\n",
    "\n",
    "draw_n(13)\n",
    "draw_n(20)\n",
    "draw_n(40)"
   ]
  },
  {
   "cell_type": "code",
   "execution_count": null,
   "id": "54db87475f069479",
   "metadata": {
    "collapsed": false
   },
   "outputs": [],
   "source": []
  }
 ],
 "metadata": {
  "kernelspec": {
   "display_name": "Python 3 (ipykernel)",
   "language": "python",
   "name": "python3"
  },
  "language_info": {
   "codemirror_mode": {
    "name": "ipython",
    "version": 3
   },
   "file_extension": ".py",
   "mimetype": "text/x-python",
   "name": "python",
   "nbconvert_exporter": "python",
   "pygments_lexer": "ipython3",
   "version": "3.11.7"
  }
 },
 "nbformat": 4,
 "nbformat_minor": 5
}
